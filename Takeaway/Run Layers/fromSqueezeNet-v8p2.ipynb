{
 "cells": [
  {
   "cell_type": "markdown",
   "metadata": {},
   "source": [
    "## preliminary defs\n"
   ]
  },
  {
   "cell_type": "code",
   "execution_count": 1,
   "metadata": {
    "ExecuteTime": {
     "end_time": "2019-02-17T22:32:45.747808Z",
     "start_time": "2019-02-17T22:32:20.391337Z"
    }
   },
   "outputs": [
    {
     "name": "stderr",
     "output_type": "stream",
     "text": [
      "C:\\ProgramData\\Anaconda3\\lib\\site-packages\\h5py\\__init__.py:36: FutureWarning: Conversion of the second argument of issubdtype from `float` to `np.floating` is deprecated. In future, it will be treated as `np.float64 == np.dtype(float).type`.\n",
      "  from ._conv import register_converters as _register_converters\n"
     ]
    }
   ],
   "source": [
    "from __future__ import print_function\n",
    "import numpy as np\n",
    "import matplotlib.pyplot as plt\n",
    "import tensorflow as tf\n",
    "import time, os, json\n",
    "\n",
    "from classifiers.squeezenet3 import SqueezeNet\n",
    "\n",
    "%matplotlib inline\n",
    "plt.rcParams['figure.figsize'] = (10.0, 8.0) # set default size of plots\n",
    "plt.rcParams['image.interpolation'] = 'nearest'\n",
    "plt.rcParams['image.cmap'] = 'gray'\n",
    "\n",
    "def get_session():\n",
    "    \"\"\"Create a session that dynamically allocates memory.\"\"\"\n",
    "    # See: https://www.tensorflow.org/tutorials/using_gpu#allowing_gpu_memory_growth\n",
    "    config = tf.ConfigProto()\n",
    "    config.gpu_options.allow_growth = True\n",
    "    session = tf.Session(config=config)\n",
    "    return session\n",
    "\n",
    "# for auto-reloading external modules\n",
    "# see http://stackoverflow.com/questions/1907993/autoreload-of-modules-in-ipython\n",
    "%load_ext autoreload\n",
    "%autoreload 2"
   ]
  },
  {
   "cell_type": "markdown",
   "metadata": {},
   "source": [
    "## Part 2 - train model using pre-computed Features"
   ]
  },
  {
   "cell_type": "markdown",
   "metadata": {},
   "source": [
    "### If necessary, reset tensorflow graph\n",
    "Note: this will remove from memory any models that have been loaded!!!"
   ]
  },
  {
   "cell_type": "code",
   "execution_count": 2,
   "metadata": {
    "ExecuteTime": {
     "end_time": "2019-02-17T22:32:57.939628Z",
     "start_time": "2019-02-17T22:32:45.749809Z"
    }
   },
   "outputs": [],
   "source": [
    "tf.reset_default_graph()\n",
    "sess = get_session()"
   ]
  },
  {
   "cell_type": "markdown",
   "metadata": {},
   "source": [
    "### read from file\n",
    "Function definition"
   ]
  },
  {
   "cell_type": "code",
   "execution_count": 3,
   "metadata": {
    "ExecuteTime": {
     "end_time": "2019-02-17T22:32:58.424651Z",
     "start_time": "2019-02-17T22:32:57.941627Z"
    }
   },
   "outputs": [],
   "source": [
    "def dataset_from_TFRecord ( layer_name_and_shape_list=[ (\"squeezed_layer_8\",13,13,64) ],   \n",
    "                                filename=\"XandY.tfrec\" ):  #, debugN=None ):\n",
    "    \n",
    "    Ykeys = [\"angle_vert\", \"angle_horiz\", \"rooty\", \"rootx\", \"endy\", \"endx\"]\n",
    "    features1 = { name : tf.FixedLenFeature(shape=[np.prod((W,H,D))], dtype=tf.float32)  \\\n",
    "                for (name,W,H,D) in layer_name_and_shape_list }\n",
    "    features2 = { k : tf.FixedLenFeature(shape=[1], dtype=tf.float32)  \\\n",
    "                for k in Ykeys }       \n",
    "    features = { **features1, **features2 } # merge two dicts (python 3)\n",
    "    #\n",
    "    dataset = tf.data.TFRecordDataset(filename)\n",
    "    #\n",
    "    def input_parser(example_proto):\n",
    "        # implicitly use features as defined above\n",
    "        parsed_features = tf.parse_single_example(example_proto, features) \n",
    "        #reshape:\n",
    "        for (name,W,H,D) in layer_name_and_shape_list :\n",
    "            parsed_features[name] = tf.reshape(parsed_features[name], (W,H,D))\n",
    "        return parsed_features\n",
    "    #\n",
    "    dataset = dataset.map(input_parser)    \n",
    "    #\n",
    "    return dataset\n"
   ]
  },
  {
   "cell_type": "code",
   "execution_count": 4,
   "metadata": {
    "ExecuteTime": {
     "end_time": "2019-02-17T22:32:58.905672Z",
     "start_time": "2019-02-17T22:32:58.426651Z"
    }
   },
   "outputs": [],
   "source": [
    "def dataset_XY_from_TFRecord ( layer_name_and_shape_list=[ (\"squeezed_layer_8\",13,13,64) ],   \n",
    "                                filename=\"XandY.tfrec\" ):  #, debugN=None ):\n",
    "    \n",
    "    Ykeys = [\"angle_vert\", \"angle_horiz\", \"rooty\", \"rootx\", \"endy\", \"endx\"]\n",
    "    features1 = { name : tf.FixedLenFeature(shape=[np.prod((W,H,D))], dtype=tf.float32)  \\\n",
    "                for (name,W,H,D) in layer_name_and_shape_list }\n",
    "    features2 = { k : tf.FixedLenFeature(shape=[1], dtype=tf.float32)  \\\n",
    "                for k in Ykeys }       \n",
    "    features = { **features1, **features2 } # merge two dicts (python 3)\n",
    "    #\n",
    "    dataset = tf.data.TFRecordDataset(filename)\n",
    "    #\n",
    "    def input_parser(example_proto):\n",
    "        # implicitly use features as defined above\n",
    "        parsed_features = tf.parse_single_example(example_proto, features) \n",
    "        result={}\n",
    "        #reshape:\n",
    "        for (name,W,H,D) in layer_name_and_shape_list :\n",
    "            result[name] = tf.reshape(parsed_features[name], (W,H,D))\n",
    "        result['Y'] = tf.reshape(tf.stack([ parsed_features[name] for name in Ykeys ]),(6,))\n",
    "        return result\n",
    "    #\n",
    "    dataset = dataset.map(input_parser)    \n",
    "    #\n",
    "    return dataset\n"
   ]
  },
  {
   "cell_type": "code",
   "execution_count": 5,
   "metadata": {
    "ExecuteTime": {
     "end_time": "2019-02-17T22:32:59.455727Z",
     "start_time": "2019-02-17T22:32:58.908672Z"
    }
   },
   "outputs": [],
   "source": [
    "def dataset_XYclassif_from_TFRecord ( layer_name_and_shape_list=[ (\"squeezed_layer_8\",13,13,64) ],   \n",
    "                                filename=\"XandY.tfrec\" ):  #, debugN=None ):\n",
    "    \n",
    "    Ykeys = [\"angle_vert\", \"angle_horiz\", \"rooty\", \"rootx\", \"endy\", \"endx\"]\n",
    "    features1 = { name : tf.FixedLenFeature(shape=[np.prod((W,H,D))], dtype=tf.float32)  \\\n",
    "                for (name,W,H,D) in layer_name_and_shape_list }\n",
    "    features2 = { k : tf.FixedLenFeature(shape=[1], dtype=tf.float32)  \\\n",
    "                for k in Ykeys }       \n",
    "    features = { **features1, **features2 } # merge two dicts (python 3)\n",
    "    #\n",
    "    dataset = tf.data.TFRecordDataset(filename)\n",
    "    #\n",
    "    def input_parser(example_proto):\n",
    "        # implicitly use features as defined above\n",
    "        parsed_features = tf.parse_single_example(example_proto, features) \n",
    "        parsed_features[\"angle_vert\"] = tf.reshape(parsed_features[\"angle_vert\"],[])\n",
    "        parsed_features[\"angle_horiz\"] = tf.reshape(parsed_features[\"angle_horiz\"],[])\n",
    "        result={}\n",
    "        #reshape:\n",
    "        for (name,W,H,D) in layer_name_and_shape_list :\n",
    "            result[name] = tf.reshape(parsed_features[name], (W,H,D))\n",
    "        #angle_vert changes from -0.1 (down) to 0.05(horiz) to 0.2 (up)\n",
    "        result['class_vert'] = tf.case( { tf.less(  parsed_features[\"angle_vert\"], -0.02): (lambda: tf.constant(0)),\n",
    "                                          tf.greater(parsed_features[\"angle_vert\"], 0.10): (lambda: tf.constant(1))\n",
    "                                        }, default = (lambda: tf.constant(2))  \n",
    "                                      )\n",
    "                                         \n",
    "        #angle_horiz changes from -0.3 to 0.3\n",
    "        result['class_horiz'] = tf.case( { tf.less( parsed_features[\"angle_horiz\"], -0.1): (lambda: tf.constant(0)),\n",
    "                                          tf.greater(parsed_features[\"angle_horiz\"], 0.1): (lambda: tf.constant(1))\n",
    "                                        }, default = (lambda: tf.constant(2))  \n",
    "                                      )\n",
    "                                         \n",
    "        #result['Y'] = tf.reshape(tf.stack([ parsed_features[name] for name in Ykeys ]),(6,))\n",
    "        \n",
    "        return result\n",
    "    #\n",
    "    dataset = dataset.map(input_parser)    \n",
    "    #\n",
    "    return dataset\n"
   ]
  },
  {
   "cell_type": "markdown",
   "metadata": {},
   "source": [
    "## new models"
   ]
  },
  {
   "cell_type": "code",
   "execution_count": 6,
   "metadata": {
    "ExecuteTime": {
     "end_time": "2019-02-17T22:32:59.927232Z",
     "start_time": "2019-02-17T22:32:59.457727Z"
    }
   },
   "outputs": [],
   "source": [
    "def initialize_model(var_list, sess):\n",
    "    ops = [ i.initializer for i in var_list ]\n",
    "    sess.run(ops)"
   ]
  },
  {
   "cell_type": "code",
   "execution_count": 14,
   "metadata": {
    "ExecuteTime": {
     "end_time": "2019-02-17T23:30:28.450604Z",
     "start_time": "2019-02-17T23:30:27.963612Z"
    }
   },
   "outputs": [],
   "source": [
    "handles={}"
   ]
  },
  {
   "cell_type": "markdown",
   "metadata": {},
   "source": [
    "exec up to here each time"
   ]
  },
  {
   "cell_type": "markdown",
   "metadata": {
    "heading_collapsed": true
   },
   "source": [
    "### v1: Fully connected, from layer B"
   ]
  },
  {
   "cell_type": "markdown",
   "metadata": {
    "heading_collapsed": true,
    "hidden": true
   },
   "source": [
    "#### Functions returning tensors that define the model"
   ]
  },
  {
   "cell_type": "markdown",
   "metadata": {
    "hidden": true
   },
   "source": [
    "dont exec"
   ]
  },
  {
   "cell_type": "code",
   "execution_count": 40,
   "metadata": {
    "hidden": true
   },
   "outputs": [
    {
     "name": "stdout",
     "output_type": "stream",
     "text": [
      "(1170, 342, 114, 6090) 7716\n"
     ]
    }
   ],
   "source": [
    "# what is the total number of weights used?\n",
    "WN=( (64+1)*18, (18+1)*18, (18+1)*6, (13*13*6+1)*6 )\n",
    "print(WN, np.sum(WN))"
   ]
  },
  {
   "cell_type": "code",
   "execution_count": 8,
   "metadata": {
    "ExecuteTime": {
     "end_time": "2019-02-08T00:10:47.278363Z",
     "start_time": "2019-02-08T00:10:46.816367Z"
    },
    "hidden": true
   },
   "outputs": [],
   "source": [
    "\n",
    "def appended_model_v1(XB, reuse=True):\n",
    "    '''input: XB - input from layer B of squeezenet\n",
    "    returns: layers[0...6]'''\n",
    "    x=XB\n",
    "    layers=[]\n",
    "    var_list=[] # list of variable tensors so that we can initialize variables for a particular model\n",
    "    with tf.variable_scope('my_v1', reuse=reuse):\n",
    "        with tf.variable_scope('layer0'):\n",
    "            W = tf.get_variable(\"weights\",shape=[1,1,64,18])\n",
    "            b = tf.get_variable(\"bias\",shape=[18])\n",
    "            var_list.append(W)\n",
    "            var_list.append(b)\n",
    "            x = tf.nn.conv2d(x,W,[1,1,1,1],\"VALID\")\n",
    "            x = tf.nn.bias_add(x,b)\n",
    "            layers.append(x)\n",
    "            #layer 1:\n",
    "            x = tf.nn.relu(x)\n",
    "            layers.append(x)\n",
    "        #\n",
    "        # fully connected branch:\n",
    "        #\n",
    "        with tf.variable_scope('layer2'):\n",
    "            W = tf.get_variable(\"weights\",shape=[1,1,18,18])\n",
    "            b = tf.get_variable(\"bias\",shape=[18])\n",
    "            var_list.append(W)\n",
    "            var_list.append(b)\n",
    "            x = tf.nn.conv2d(x,W,[1,1,1,1],\"VALID\")\n",
    "            x = tf.nn.bias_add(x,b)\n",
    "            layers.append(x)\n",
    "            #layer 3:\n",
    "            x = tf.nn.relu(x)\n",
    "            layers.append(x)\n",
    "        with tf.variable_scope('layer4'):\n",
    "            W = tf.get_variable(\"weights\",shape=[1,1,18,6])\n",
    "            b = tf.get_variable(\"bias\",shape=[6])\n",
    "            var_list.append(W)\n",
    "            var_list.append(b)\n",
    "            x = tf.nn.conv2d(x,W,[1,1,1,1],\"VALID\")\n",
    "            x = tf.nn.bias_add(x,b)\n",
    "            layers.append(x)\n",
    "            #layer 5:\n",
    "            x = tf.nn.relu(x)\n",
    "            layers.append(x)\n",
    "        #\n",
    "        #fully connected layer:\n",
    "        with tf.variable_scope('layer6'):\n",
    "            W = tf.get_variable(\"weights\",shape=[13,13,6,6])\n",
    "            b = tf.get_variable(\"bias\",shape=[6])\n",
    "            var_list.append(W)\n",
    "            var_list.append(b)\n",
    "            x = tf.nn.conv2d(x,W,[1,13,13,1],\"VALID\")\n",
    "            x = tf.nn.bias_add(x,b)\n",
    "            layers.append(x)\n",
    "    return layers, var_list\n",
    "                \n",
    "                \n",
    "def appended_full_model_v1(filename=\"XandY1.tfrec\", batch_size=2, reuse=True):\n",
    "    '''dictionary involving both X and Y.\n",
    "    Expected keys: \n",
    "    X: \"squeezed_layer_8\" (should be obtained by taking layer B (i.e. sq.l.7) of Squeeznet that was fed in the images)\n",
    "    Y: \"angle_vert\", \"angle_horiz\", \"rooty\", \"rootx\", \"endy\", \"endx\"\n",
    "     '''\n",
    "    ds=dataset_XY_from_TFRecord( layer_name_and_shape_list=[  (\"squeezed_layer_8\",13,13,64)  ], filename=filename )\n",
    "    dsbatched=ds.repeat().batch(batch_size)\n",
    "    iterator= dsbatched.make_one_shot_iterator()\n",
    "    nextdict=iterator.get_next()\n",
    "    layers, var_list = appended_model_v1( nextdict['squeezed_layer_8'], reuse )\n",
    "    y=tf.reshape(layers[6],[-1,6])\n",
    "    loss = tf.losses.mean_squared_error( nextdict['Y'], y )\n",
    "    return y, nextdict['Y'], loss, var_list\n"
   ]
  },
  {
   "cell_type": "code",
   "execution_count": 9,
   "metadata": {
    "ExecuteTime": {
     "end_time": "2019-02-08T00:10:47.477361Z",
     "start_time": "2019-02-08T00:10:47.280364Z"
    },
    "hidden": true
   },
   "outputs": [],
   "source": [
    "def appended_full_model_v1b(filename=\"XandY1.tfrec\", batch_size=2, reuse=True):\n",
    "    #no coordinates\n",
    "    ds=dataset_XY_from_TFRecord( layer_name_and_shape_list=[  (\"squeezed_layer_8\",13,13,64)  ], filename=filename )\n",
    "    dsbatched=ds.repeat().batch(batch_size)\n",
    "    iterator= dsbatched.make_one_shot_iterator()\n",
    "    nextdict=iterator.get_next()\n",
    "    layers, var_list = appended_model_v1( nextdict['squeezed_layer_8'], reuse )\n",
    "    y=tf.reshape(layers[6],[-1,6])\n",
    "    \n",
    "    weights=tf.constant([10.,10,0,0,0,0])\n",
    "    weighted_loss = tf.losses.mean_squared_error( nextdict['Y']*weights, y*weights )\n",
    "    \n",
    "    return y, nextdict['Y'], weighted_loss, var_list\n"
   ]
  },
  {
   "cell_type": "code",
   "execution_count": 10,
   "metadata": {
    "ExecuteTime": {
     "end_time": "2019-02-08T00:10:47.663360Z",
     "start_time": "2019-02-08T00:10:47.479362Z"
    },
    "hidden": true
   },
   "outputs": [],
   "source": [
    "def appended_full_model_v1a(filename=\"XandY1.tfrec\", batch_size=2, reuse=True):\n",
    "    \n",
    "    ds=dataset_XY_from_TFRecord( layer_name_and_shape_list=[  (\"squeezed_layer_8\",13,13,64)  ], filename=filename )\n",
    "    dsbatched=ds.repeat().batch(batch_size)\n",
    "    iterator= dsbatched.make_one_shot_iterator()\n",
    "    nextdict=iterator.get_next()\n",
    "    layers, var_list = appended_model_v1( nextdict['squeezed_layer_8'], reuse )\n",
    "    y=tf.reshape(layers[6],[-1,6])\n",
    "    \n",
    "    weights=tf.constant([10.,10,1,1,1,1])\n",
    "    weighted_loss = tf.losses.mean_squared_error( nextdict['Y']*weights, y*weights )\n",
    "    \n",
    "    return y, nextdict['Y'], weighted_loss, var_list\n"
   ]
  },
  {
   "cell_type": "code",
   "execution_count": 11,
   "metadata": {
    "ExecuteTime": {
     "end_time": "2019-02-08T00:10:47.859358Z",
     "start_time": "2019-02-08T00:10:47.665360Z"
    },
    "hidden": true
   },
   "outputs": [],
   "source": [
    "def appended_full_model_v1c(filename=\"XandY1.tfrec\", batch_size=2, reuse=True):\n",
    "    #shuffle\n",
    "    ds=dataset_XY_from_TFRecord( layer_name_and_shape_list=[  (\"squeezed_layer_8\",13,13,64)  ], filename=filename )\n",
    "    dsbatched=ds.repeat().shuffle(4600).batch(batch_size)\n",
    "    iterator= dsbatched.make_one_shot_iterator()\n",
    "    nextdict=iterator.get_next()\n",
    "    layers, var_list = appended_model_v1( nextdict['squeezed_layer_8'], reuse )\n",
    "    y=tf.reshape(layers[6],[-1,6])\n",
    "    \n",
    "    weights=tf.constant([1.,1,0,0,0,0])\n",
    "    weighted_loss = tf.losses.mean_squared_error( nextdict['Y']*weights, y*weights )\n",
    "    \n",
    "    return y, nextdict['Y'], weighted_loss, var_list\n"
   ]
  },
  {
   "cell_type": "markdown",
   "metadata": {},
   "source": [
    "### v1: 4 OUTPUTS"
   ]
  },
  {
   "cell_type": "markdown",
   "metadata": {
    "heading_collapsed": true
   },
   "source": [
    "###### v1a-try1 is run on a data set of ~4600"
   ]
  },
  {
   "cell_type": "code",
   "execution_count": 32,
   "metadata": {
    "hidden": true,
    "scrolled": true
   },
   "outputs": [
    {
     "ename": "ValueError",
     "evalue": "Variable v1a-try1/my_v1/layer0/weights does not exist, or was not created with tf.get_variable(). Did you mean to set reuse=tf.AUTO_REUSE in VarScope?",
     "output_type": "error",
     "traceback": [
      "\u001b[1;31m---------------------------------------------------------------------------\u001b[0m",
      "\u001b[1;31mValueError\u001b[0m                                Traceback (most recent call last)",
      "\u001b[1;32m<ipython-input-32-3544c5ff3b66>\u001b[0m in \u001b[0;36m<module>\u001b[1;34m()\u001b[0m\n\u001b[0;32m      1\u001b[0m \u001b[1;32mwith\u001b[0m \u001b[0mtf\u001b[0m\u001b[1;33m.\u001b[0m\u001b[0mvariable_scope\u001b[0m\u001b[1;33m(\u001b[0m\u001b[1;34m\"v1a-try1\"\u001b[0m\u001b[1;33m)\u001b[0m\u001b[1;33m:\u001b[0m\u001b[1;33m\u001b[0m\u001b[0m\n\u001b[1;32m----> 2\u001b[1;33m     \u001b[0mmy_y3\u001b[0m\u001b[1;33m,\u001b[0m \u001b[0mcorrect_y3\u001b[0m\u001b[1;33m,\u001b[0m \u001b[0mmy_loss3\u001b[0m\u001b[1;33m,\u001b[0m \u001b[0mvar_list3\u001b[0m \u001b[1;33m=\u001b[0m \u001b[0mappended_full_model_v1a\u001b[0m\u001b[1;33m(\u001b[0m\u001b[0mfilename\u001b[0m\u001b[1;33m=\u001b[0m\u001b[1;34m\"XandY_9.tfrec\"\u001b[0m\u001b[1;33m,\u001b[0m \u001b[0mbatch_size\u001b[0m\u001b[1;33m=\u001b[0m\u001b[1;36m1024\u001b[0m\u001b[1;33m,\u001b[0m \u001b[0mreuse\u001b[0m\u001b[1;33m=\u001b[0m\u001b[1;32mTrue\u001b[0m \u001b[1;33m)\u001b[0m\u001b[1;33m\u001b[0m\u001b[0m\n\u001b[0m\u001b[0;32m      3\u001b[0m     \u001b[0mop3\u001b[0m \u001b[1;33m=\u001b[0m \u001b[0mtf\u001b[0m\u001b[1;33m.\u001b[0m\u001b[0mtrain\u001b[0m\u001b[1;33m.\u001b[0m\u001b[0mAdamOptimizer\u001b[0m\u001b[1;33m(\u001b[0m\u001b[0mname\u001b[0m\u001b[1;33m=\u001b[0m\u001b[1;34m\"a3b\"\u001b[0m\u001b[1;33m,\u001b[0m\u001b[0mlearning_rate\u001b[0m\u001b[1;33m=\u001b[0m\u001b[1;36m0.01\u001b[0m\u001b[1;33m)\u001b[0m\u001b[1;33m\u001b[0m\u001b[0m\n\u001b[0;32m      4\u001b[0m     \u001b[0mtrain_op3\u001b[0m\u001b[1;33m=\u001b[0m\u001b[0mop3\u001b[0m\u001b[1;33m.\u001b[0m\u001b[0mminimize\u001b[0m\u001b[1;33m(\u001b[0m\u001b[0mmy_loss3\u001b[0m\u001b[1;33m)\u001b[0m\u001b[1;33m\u001b[0m\u001b[0m\n\u001b[0;32m      5\u001b[0m     \u001b[0mloss_history3\u001b[0m\u001b[1;33m=\u001b[0m\u001b[1;33m[\u001b[0m\u001b[1;33m]\u001b[0m\u001b[1;33m\u001b[0m\u001b[0m\n",
      "\u001b[1;32m<ipython-input-30-b80d8339a0e7>\u001b[0m in \u001b[0;36mappended_full_model_v1a\u001b[1;34m(filename, batch_size, reuse)\u001b[0m\n\u001b[0;32m      5\u001b[0m     \u001b[0miterator\u001b[0m\u001b[1;33m=\u001b[0m \u001b[0mdsbatched\u001b[0m\u001b[1;33m.\u001b[0m\u001b[0mmake_one_shot_iterator\u001b[0m\u001b[1;33m(\u001b[0m\u001b[1;33m)\u001b[0m\u001b[1;33m\u001b[0m\u001b[0m\n\u001b[0;32m      6\u001b[0m     \u001b[0mnextdict\u001b[0m\u001b[1;33m=\u001b[0m\u001b[0miterator\u001b[0m\u001b[1;33m.\u001b[0m\u001b[0mget_next\u001b[0m\u001b[1;33m(\u001b[0m\u001b[1;33m)\u001b[0m\u001b[1;33m\u001b[0m\u001b[0m\n\u001b[1;32m----> 7\u001b[1;33m     \u001b[0mlayers\u001b[0m\u001b[1;33m,\u001b[0m \u001b[0mvar_list\u001b[0m \u001b[1;33m=\u001b[0m \u001b[0mappended_model_v1\u001b[0m\u001b[1;33m(\u001b[0m \u001b[0mnextdict\u001b[0m\u001b[1;33m[\u001b[0m\u001b[1;34m'squeezed_layer_8'\u001b[0m\u001b[1;33m]\u001b[0m\u001b[1;33m,\u001b[0m \u001b[0mreuse\u001b[0m \u001b[1;33m)\u001b[0m\u001b[1;33m\u001b[0m\u001b[0m\n\u001b[0m\u001b[0;32m      8\u001b[0m     \u001b[0my\u001b[0m\u001b[1;33m=\u001b[0m\u001b[0mtf\u001b[0m\u001b[1;33m.\u001b[0m\u001b[0mreshape\u001b[0m\u001b[1;33m(\u001b[0m\u001b[0mlayers\u001b[0m\u001b[1;33m[\u001b[0m\u001b[1;36m6\u001b[0m\u001b[1;33m]\u001b[0m\u001b[1;33m,\u001b[0m\u001b[1;33m[\u001b[0m\u001b[1;33m-\u001b[0m\u001b[1;36m1\u001b[0m\u001b[1;33m,\u001b[0m\u001b[1;36m6\u001b[0m\u001b[1;33m]\u001b[0m\u001b[1;33m)\u001b[0m\u001b[1;33m\u001b[0m\u001b[0m\n\u001b[0;32m      9\u001b[0m \u001b[1;33m\u001b[0m\u001b[0m\n",
      "\u001b[1;32m<ipython-input-28-aeb67107b144>\u001b[0m in \u001b[0;36mappended_model_v1\u001b[1;34m(XB, reuse)\u001b[0m\n\u001b[0;32m      8\u001b[0m     \u001b[1;32mwith\u001b[0m \u001b[0mtf\u001b[0m\u001b[1;33m.\u001b[0m\u001b[0mvariable_scope\u001b[0m\u001b[1;33m(\u001b[0m\u001b[1;34m'my_v1'\u001b[0m\u001b[1;33m,\u001b[0m \u001b[0mreuse\u001b[0m\u001b[1;33m=\u001b[0m\u001b[0mreuse\u001b[0m\u001b[1;33m)\u001b[0m\u001b[1;33m:\u001b[0m\u001b[1;33m\u001b[0m\u001b[0m\n\u001b[0;32m      9\u001b[0m         \u001b[1;32mwith\u001b[0m \u001b[0mtf\u001b[0m\u001b[1;33m.\u001b[0m\u001b[0mvariable_scope\u001b[0m\u001b[1;33m(\u001b[0m\u001b[1;34m'layer0'\u001b[0m\u001b[1;33m)\u001b[0m\u001b[1;33m:\u001b[0m\u001b[1;33m\u001b[0m\u001b[0m\n\u001b[1;32m---> 10\u001b[1;33m             \u001b[0mW\u001b[0m \u001b[1;33m=\u001b[0m \u001b[0mtf\u001b[0m\u001b[1;33m.\u001b[0m\u001b[0mget_variable\u001b[0m\u001b[1;33m(\u001b[0m\u001b[1;34m\"weights\"\u001b[0m\u001b[1;33m,\u001b[0m\u001b[0mshape\u001b[0m\u001b[1;33m=\u001b[0m\u001b[1;33m[\u001b[0m\u001b[1;36m1\u001b[0m\u001b[1;33m,\u001b[0m\u001b[1;36m1\u001b[0m\u001b[1;33m,\u001b[0m\u001b[1;36m64\u001b[0m\u001b[1;33m,\u001b[0m\u001b[1;36m18\u001b[0m\u001b[1;33m]\u001b[0m\u001b[1;33m)\u001b[0m\u001b[1;33m\u001b[0m\u001b[0m\n\u001b[0m\u001b[0;32m     11\u001b[0m             \u001b[0mb\u001b[0m \u001b[1;33m=\u001b[0m \u001b[0mtf\u001b[0m\u001b[1;33m.\u001b[0m\u001b[0mget_variable\u001b[0m\u001b[1;33m(\u001b[0m\u001b[1;34m\"bias\"\u001b[0m\u001b[1;33m,\u001b[0m\u001b[0mshape\u001b[0m\u001b[1;33m=\u001b[0m\u001b[1;33m[\u001b[0m\u001b[1;36m18\u001b[0m\u001b[1;33m]\u001b[0m\u001b[1;33m)\u001b[0m\u001b[1;33m\u001b[0m\u001b[0m\n\u001b[0;32m     12\u001b[0m             \u001b[0mvar_list\u001b[0m\u001b[1;33m.\u001b[0m\u001b[0mappend\u001b[0m\u001b[1;33m(\u001b[0m\u001b[0mW\u001b[0m\u001b[1;33m)\u001b[0m\u001b[1;33m\u001b[0m\u001b[0m\n",
      "\u001b[1;32mC:\\ProgramData\\Anaconda3\\lib\\site-packages\\tensorflow\\python\\ops\\variable_scope.py\u001b[0m in \u001b[0;36mget_variable\u001b[1;34m(name, shape, dtype, initializer, regularizer, trainable, collections, caching_device, partitioner, validate_shape, use_resource, custom_getter, constraint, synchronization, aggregation)\u001b[0m\n\u001b[0;32m   1465\u001b[0m       \u001b[0mconstraint\u001b[0m\u001b[1;33m=\u001b[0m\u001b[0mconstraint\u001b[0m\u001b[1;33m,\u001b[0m\u001b[1;33m\u001b[0m\u001b[0m\n\u001b[0;32m   1466\u001b[0m       \u001b[0msynchronization\u001b[0m\u001b[1;33m=\u001b[0m\u001b[0msynchronization\u001b[0m\u001b[1;33m,\u001b[0m\u001b[1;33m\u001b[0m\u001b[0m\n\u001b[1;32m-> 1467\u001b[1;33m       aggregation=aggregation)\n\u001b[0m\u001b[0;32m   1468\u001b[0m \u001b[1;33m\u001b[0m\u001b[0m\n\u001b[0;32m   1469\u001b[0m \u001b[1;33m\u001b[0m\u001b[0m\n",
      "\u001b[1;32mC:\\ProgramData\\Anaconda3\\lib\\site-packages\\tensorflow\\python\\ops\\variable_scope.py\u001b[0m in \u001b[0;36mget_variable\u001b[1;34m(self, var_store, name, shape, dtype, initializer, regularizer, reuse, trainable, collections, caching_device, partitioner, validate_shape, use_resource, custom_getter, constraint, synchronization, aggregation)\u001b[0m\n\u001b[0;32m   1215\u001b[0m           \u001b[0mconstraint\u001b[0m\u001b[1;33m=\u001b[0m\u001b[0mconstraint\u001b[0m\u001b[1;33m,\u001b[0m\u001b[1;33m\u001b[0m\u001b[0m\n\u001b[0;32m   1216\u001b[0m           \u001b[0msynchronization\u001b[0m\u001b[1;33m=\u001b[0m\u001b[0msynchronization\u001b[0m\u001b[1;33m,\u001b[0m\u001b[1;33m\u001b[0m\u001b[0m\n\u001b[1;32m-> 1217\u001b[1;33m           aggregation=aggregation)\n\u001b[0m\u001b[0;32m   1218\u001b[0m \u001b[1;33m\u001b[0m\u001b[0m\n\u001b[0;32m   1219\u001b[0m   def _get_partitioned_variable(self,\n",
      "\u001b[1;32mC:\\ProgramData\\Anaconda3\\lib\\site-packages\\tensorflow\\python\\ops\\variable_scope.py\u001b[0m in \u001b[0;36mget_variable\u001b[1;34m(self, name, shape, dtype, initializer, regularizer, reuse, trainable, collections, caching_device, partitioner, validate_shape, use_resource, custom_getter, constraint, synchronization, aggregation)\u001b[0m\n\u001b[0;32m    525\u001b[0m           \u001b[0mconstraint\u001b[0m\u001b[1;33m=\u001b[0m\u001b[0mconstraint\u001b[0m\u001b[1;33m,\u001b[0m\u001b[1;33m\u001b[0m\u001b[0m\n\u001b[0;32m    526\u001b[0m           \u001b[0msynchronization\u001b[0m\u001b[1;33m=\u001b[0m\u001b[0msynchronization\u001b[0m\u001b[1;33m,\u001b[0m\u001b[1;33m\u001b[0m\u001b[0m\n\u001b[1;32m--> 527\u001b[1;33m           aggregation=aggregation)\n\u001b[0m\u001b[0;32m    528\u001b[0m \u001b[1;33m\u001b[0m\u001b[0m\n\u001b[0;32m    529\u001b[0m   def _get_partitioned_variable(self,\n",
      "\u001b[1;32mC:\\ProgramData\\Anaconda3\\lib\\site-packages\\tensorflow\\python\\ops\\variable_scope.py\u001b[0m in \u001b[0;36m_true_getter\u001b[1;34m(name, shape, dtype, initializer, regularizer, reuse, trainable, collections, caching_device, partitioner, validate_shape, use_resource, constraint, synchronization, aggregation)\u001b[0m\n\u001b[0;32m    479\u001b[0m           \u001b[0mconstraint\u001b[0m\u001b[1;33m=\u001b[0m\u001b[0mconstraint\u001b[0m\u001b[1;33m,\u001b[0m\u001b[1;33m\u001b[0m\u001b[0m\n\u001b[0;32m    480\u001b[0m           \u001b[0msynchronization\u001b[0m\u001b[1;33m=\u001b[0m\u001b[0msynchronization\u001b[0m\u001b[1;33m,\u001b[0m\u001b[1;33m\u001b[0m\u001b[0m\n\u001b[1;32m--> 481\u001b[1;33m           aggregation=aggregation)\n\u001b[0m\u001b[0;32m    482\u001b[0m \u001b[1;33m\u001b[0m\u001b[0m\n\u001b[0;32m    483\u001b[0m     \u001b[1;31m# Set trainable value based on synchronization value.\u001b[0m\u001b[1;33m\u001b[0m\u001b[1;33m\u001b[0m\u001b[0m\n",
      "\u001b[1;32mC:\\ProgramData\\Anaconda3\\lib\\site-packages\\tensorflow\\python\\ops\\variable_scope.py\u001b[0m in \u001b[0;36m_get_single_variable\u001b[1;34m(self, name, shape, dtype, initializer, regularizer, partition_info, reuse, trainable, collections, caching_device, validate_shape, use_resource, constraint, synchronization, aggregation)\u001b[0m\n\u001b[0;32m    864\u001b[0m       raise ValueError(\"Variable %s does not exist, or was not created with \"\n\u001b[0;32m    865\u001b[0m                        \u001b[1;34m\"tf.get_variable(). Did you mean to set \"\u001b[0m\u001b[1;33m\u001b[0m\u001b[0m\n\u001b[1;32m--> 866\u001b[1;33m                        \"reuse=tf.AUTO_REUSE in VarScope?\" % name)\n\u001b[0m\u001b[0;32m    867\u001b[0m     \u001b[1;32mif\u001b[0m \u001b[1;32mnot\u001b[0m \u001b[0mshape\u001b[0m\u001b[1;33m.\u001b[0m\u001b[0mis_fully_defined\u001b[0m\u001b[1;33m(\u001b[0m\u001b[1;33m)\u001b[0m \u001b[1;32mand\u001b[0m \u001b[1;32mnot\u001b[0m \u001b[0minitializing_from_value\u001b[0m\u001b[1;33m:\u001b[0m\u001b[1;33m\u001b[0m\u001b[0m\n\u001b[0;32m    868\u001b[0m       raise ValueError(\"Shape of a new variable (%s) must be fully defined, \"\n",
      "\u001b[1;31mValueError\u001b[0m: Variable v1a-try1/my_v1/layer0/weights does not exist, or was not created with tf.get_variable(). Did you mean to set reuse=tf.AUTO_REUSE in VarScope?"
     ]
    }
   ],
   "source": [
    "with tf.variable_scope(\"v1a-try1\"):\n",
    "    my_y3, correct_y3, my_loss3, var_list3 = appended_full_model_v1a(filename=\"XandY_9.tfrec\", batch_size=1024, reuse=True )\n",
    "    op3 = tf.train.AdamOptimizer(name=\"a3b\",learning_rate=0.01)\n",
    "    train_op3=op3.minimize(my_loss3)\n",
    "    loss_history3=[]\n",
    "    initialize_model(var_list3, sess)\n",
    "    sess.run(tf.variables_initializer(op3.variables()))\n"
   ]
  },
  {
   "cell_type": "code",
   "execution_count": null,
   "metadata": {
    "hidden": true
   },
   "outputs": [],
   "source": [
    "#with tf.device(\"/gpu:0\"):\n",
    "with tf.variable_scope(\"v1a-try1\"):\n",
    "    for i in range(500):\n",
    "        if i%10==0:\n",
    "            print (\"batch \",i)\n",
    "        _, loss_value = sess.run([train_op3, my_loss3])\n",
    "        loss_history3.append(loss_value)\n",
    "    "
   ]
  },
  {
   "cell_type": "code",
   "execution_count": null,
   "metadata": {
    "hidden": true,
    "scrolled": true
   },
   "outputs": [],
   "source": [
    "plt.plot(loss_history3[300:500])"
   ]
  },
  {
   "cell_type": "markdown",
   "metadata": {
    "heading_collapsed": true
   },
   "source": [
    "###### v1a-try2 is run on 4600 and has 0s for coordinates"
   ]
  },
  {
   "cell_type": "code",
   "execution_count": null,
   "metadata": {
    "hidden": true,
    "scrolled": true
   },
   "outputs": [],
   "source": [
    "with tf.variable_scope(\"v1a-try2\"):\n",
    "    my_y4, correct_y4, my_loss4, var_list4 = appended_full_model_v1a(filename=\"XandY_9.tfrec\", batch_size=1024, reuse=False )\n",
    "    op4 = tf.train.AdamOptimizer(name=\"a4b\",learning_rate=0.01)\n",
    "    train_op4=op4.minimize(my_loss4)\n",
    "    loss_history4=[]\n",
    "    initialize_model(var_list4, sess)\n",
    "    sess.run(tf.variables_initializer(op4.variables()))\n"
   ]
  },
  {
   "cell_type": "code",
   "execution_count": null,
   "metadata": {
    "hidden": true
   },
   "outputs": [],
   "source": [
    "with tf.device(\"/gpu:0\"):\n",
    "    with tf.variable_scope(\"v1a-try2\"):\n",
    "        for i in range(500):\n",
    "            if i%10==0:\n",
    "                print (\"batch \",i)\n",
    "            _, loss_value = sess.run([train_op4, my_loss4])\n",
    "            loss_history4.append(loss_value)"
   ]
  },
  {
   "cell_type": "code",
   "execution_count": null,
   "metadata": {
    "hidden": true
   },
   "outputs": [],
   "source": [
    "plt.plot(loss_history4[300:])"
   ]
  },
  {
   "cell_type": "markdown",
   "metadata": {
    "heading_collapsed": true
   },
   "source": [
    "###### v1a-try5 running 4600 with corrected labels"
   ]
  },
  {
   "cell_type": "code",
   "execution_count": null,
   "metadata": {
    "hidden": true
   },
   "outputs": [],
   "source": [
    "with tf.variable_scope(\"v1a-try5\"):\n",
    "    my_y5, correct_y5, my_loss5, var_list5 = appended_full_model_v1a(filename=\"XandY_9c.tfrec\", batch_size=2048, reuse=True )\n",
    "    op5 = tf.train.AdamOptimizer(name=\"a5c\",learning_rate=0.001,beta1=0.95)\n",
    "    train_op5=op5.minimize(my_loss5)\n",
    "    loss_history5=[]\n",
    "    initialize_model(var_list5, sess)\n",
    "    sess.run(tf.variables_initializer(op5.variables()))\n"
   ]
  },
  {
   "cell_type": "code",
   "execution_count": null,
   "metadata": {
    "hidden": true,
    "scrolled": true
   },
   "outputs": [],
   "source": [
    "with tf.variable_scope(\"v1a-try5\"):\n",
    "    for i in range(500):\n",
    "        if i%10==0:\n",
    "            print (\"batch \",i)\n",
    "        _, loss_value = sess.run([train_op5, my_loss5])\n",
    "        loss_history5.append(loss_value)\n",
    "    "
   ]
  },
  {
   "cell_type": "code",
   "execution_count": null,
   "metadata": {
    "hidden": true
   },
   "outputs": [],
   "source": [
    "plt.plot(loss_history5[1980:])"
   ]
  },
  {
   "cell_type": "markdown",
   "metadata": {
    "heading_collapsed": true
   },
   "source": [
    "###### v1a=try6 is actually v1b, typo. corrected labels seems to have solved the issue"
   ]
  },
  {
   "cell_type": "code",
   "execution_count": null,
   "metadata": {
    "hidden": true
   },
   "outputs": [],
   "source": [
    "with tf.variable_scope(\"v1a-try6\"):\n",
    "    my_y6, correct_y6, my_loss6, var_list6 = appended_full_model_v1b(filename=\"XandY_9c.tfrec\", batch_size=2048, reuse=False )\n",
    "    op6 = tf.train.AdamOptimizer(name=\"a6b\",learning_rate=0.001,beta1=0.95)\n",
    "    train_op6=op6.minimize(my_loss6)\n",
    "    loss_history6=[]\n",
    "    initialize_model(var_list6, sess)\n",
    "    sess.run(tf.variables_initializer(op6.variables()))\n"
   ]
  },
  {
   "cell_type": "code",
   "execution_count": null,
   "metadata": {
    "hidden": true,
    "scrolled": true
   },
   "outputs": [],
   "source": [
    "with tf.variable_scope(\"v1a-try6\"):\n",
    "    for i in range(500):\n",
    "        if i%10==0:\n",
    "            print (\"batch \",i)\n",
    "        _, loss_value = sess.run([train_op6, my_loss6])\n",
    "        loss_history6.append(loss_value)"
   ]
  },
  {
   "cell_type": "code",
   "execution_count": null,
   "metadata": {
    "hidden": true,
    "scrolled": true
   },
   "outputs": [],
   "source": [
    "plt.plot(loss_history6[1000:])"
   ]
  },
  {
   "cell_type": "markdown",
   "metadata": {},
   "source": [
    "###### v1a-try7 now using shuffle(v1c)"
   ]
  },
  {
   "cell_type": "code",
   "execution_count": null,
   "metadata": {},
   "outputs": [],
   "source": [
    "with tf.variable_scope(\"v1a-try7\"):\n",
    "    my_y7, correct_y7, my_loss7, var_list7 = appended_full_model_v1c(filename=\"XandY_9c.tfrec\", batch_size=2048, reuse=True )\n",
    "    op7 = tf.train.AdamOptimizer(name=\"a7b\",learning_rate=0.003,beta1=0.95)\n",
    "    train_op7=op7.minimize(my_loss7)\n",
    "    loss_history7=[]\n",
    "    initialize_model(var_list7, sess)\n",
    "    sess.run(tf.variables_initializer(op7.variables()))\n"
   ]
  },
  {
   "cell_type": "code",
   "execution_count": null,
   "metadata": {
    "scrolled": true
   },
   "outputs": [],
   "source": [
    "with tf.variable_scope(\"v1a-try7\"):\n",
    "    for i in range(1000):\n",
    "        if i%10==0:\n",
    "            print (\"batch \",i)\n",
    "        _, loss_value = sess.run([train_op7, my_loss7])\n",
    "        loss_history7.append(loss_value)"
   ]
  },
  {
   "cell_type": "code",
   "execution_count": 33,
   "metadata": {
    "scrolled": false
   },
   "outputs": [
    {
     "ename": "NameError",
     "evalue": "name 'loss_history7' is not defined",
     "output_type": "error",
     "traceback": [
      "\u001b[1;31m---------------------------------------------------------------------------\u001b[0m",
      "\u001b[1;31mNameError\u001b[0m                                 Traceback (most recent call last)",
      "\u001b[1;32m<ipython-input-33-fc002e7700a6>\u001b[0m in \u001b[0;36m<module>\u001b[1;34m()\u001b[0m\n\u001b[1;32m----> 1\u001b[1;33m \u001b[0mplt\u001b[0m\u001b[1;33m.\u001b[0m\u001b[0mplot\u001b[0m\u001b[1;33m(\u001b[0m\u001b[0mloss_history7\u001b[0m\u001b[1;33m[\u001b[0m\u001b[1;33m:\u001b[0m\u001b[1;36m1000\u001b[0m\u001b[1;33m]\u001b[0m\u001b[1;33m)\u001b[0m\u001b[1;33m\u001b[0m\u001b[0m\n\u001b[0m\u001b[0;32m      2\u001b[0m \u001b[0mplt\u001b[0m\u001b[1;33m.\u001b[0m\u001b[0mylim\u001b[0m\u001b[1;33m(\u001b[0m\u001b[1;36m0\u001b[0m\u001b[1;33m,\u001b[0m\u001b[1;36m.025\u001b[0m\u001b[1;33m)\u001b[0m\u001b[1;33m\u001b[0m\u001b[0m\n",
      "\u001b[1;31mNameError\u001b[0m: name 'loss_history7' is not defined"
     ]
    }
   ],
   "source": [
    "plt.plot(loss_history7[:1000])\n",
    "plt.ylim(0,.025)"
   ]
  },
  {
   "cell_type": "markdown",
   "metadata": {
    "heading_collapsed": true
   },
   "source": [
    "###### continue training, change learning rate on optimizer for v1a tr7"
   ]
  },
  {
   "cell_type": "code",
   "execution_count": 80,
   "metadata": {
    "collapsed": true,
    "hidden": true
   },
   "outputs": [],
   "source": [
    "with tf.variable_scope(\"v1a-try7\"):\n",
    "    op7b = tf.train.AdamOptimizer(name=\"a7c\",learning_rate=0.03,beta1=0.95)\n",
    "    train_op7b=op7b.minimize(my_loss7)\n",
    "    sess.run(tf.variables_initializer(op7b.variables()))\n"
   ]
  },
  {
   "cell_type": "code",
   "execution_count": 81,
   "metadata": {
    "hidden": true,
    "scrolled": true
   },
   "outputs": [
    {
     "name": "stdout",
     "output_type": "stream",
     "text": [
      "batch  0\n",
      "batch  10\n",
      "batch  20\n",
      "batch  30\n",
      "batch  40\n",
      "batch  50\n",
      "batch  60\n",
      "batch  70\n",
      "batch  80\n",
      "batch  90\n",
      "batch  100\n",
      "batch  110\n",
      "batch  120\n",
      "batch  130\n",
      "batch  140\n",
      "batch  150\n",
      "batch  160\n",
      "batch  170\n",
      "batch  180\n",
      "batch  190\n",
      "batch  200\n",
      "batch  210\n",
      "batch  220\n",
      "batch  230\n",
      "batch  240\n",
      "batch  250\n",
      "batch  260\n",
      "batch  270\n",
      "batch  280\n",
      "batch  290\n",
      "batch  300\n",
      "batch  310\n",
      "batch  320\n",
      "batch  330\n",
      "batch  340\n",
      "batch  350\n",
      "batch  360\n",
      "batch  370\n",
      "batch  380\n",
      "batch  390\n",
      "batch  400\n",
      "batch  410\n",
      "batch  420\n",
      "batch  430\n",
      "batch  440\n",
      "batch  450\n",
      "batch  460\n",
      "batch  470\n",
      "batch  480\n",
      "batch  490\n",
      "batch  500\n",
      "batch  510\n",
      "batch  520\n",
      "batch  530\n",
      "batch  540\n",
      "batch  550\n",
      "batch  560\n",
      "batch  570\n",
      "batch  580\n",
      "batch  590\n",
      "batch  600\n",
      "batch  610\n",
      "batch  620\n",
      "batch  630\n",
      "batch  640\n",
      "batch  650\n",
      "batch  660\n",
      "batch  670\n",
      "batch  680\n",
      "batch  690\n",
      "batch  700\n",
      "batch  710\n",
      "batch  720\n",
      "batch  730\n",
      "batch  740\n",
      "batch  750\n",
      "batch  760\n",
      "batch  770\n",
      "batch  780\n",
      "batch  790\n",
      "batch  800\n",
      "batch  810\n",
      "batch  820\n",
      "batch  830\n",
      "batch  840\n",
      "batch  850\n",
      "batch  860\n",
      "batch  870\n",
      "batch  880\n",
      "batch  890\n",
      "batch  900\n",
      "batch  910\n",
      "batch  920\n",
      "batch  930\n",
      "batch  940\n",
      "batch  950\n",
      "batch  960\n",
      "batch  970\n",
      "batch  980\n",
      "batch  990\n"
     ]
    }
   ],
   "source": [
    "with tf.variable_scope(\"v1a-try7\"):\n",
    "    for i in range(1000):\n",
    "        if i%10==0:\n",
    "            print (\"batch \",i)\n",
    "        _, loss_value = sess.run([train_op7b, my_loss7])\n",
    "        loss_history7.append(loss_value)"
   ]
  },
  {
   "cell_type": "code",
   "execution_count": null,
   "metadata": {
    "collapsed": true,
    "hidden": true
   },
   "outputs": [],
   "source": []
  },
  {
   "cell_type": "markdown",
   "metadata": {
    "heading_collapsed": true
   },
   "source": [
    "###### v1a-try8 now using shuffle(v1c)"
   ]
  },
  {
   "cell_type": "code",
   "execution_count": 94,
   "metadata": {
    "collapsed": true,
    "hidden": true
   },
   "outputs": [],
   "source": [
    "with tf.variable_scope(\"v1a-try8\"):\n",
    "    my_y8, correct_y8, my_loss8, var_list8 = appended_full_model_v1c(filename=\"XandY_9c.tfrec\", batch_size=2048, reuse=False )\n",
    "    op8 = tf.train.AdamOptimizer(name=\"a8b\",learning_rate=0.003,beta1=0.95)\n",
    "    train_op8=op8.minimize(my_loss8)\n",
    "    loss_history8=[]\n",
    "    initialize_model(var_list8, sess)\n",
    "    sess.run(tf.variables_initializer(op8.variables()))\n"
   ]
  },
  {
   "cell_type": "code",
   "execution_count": 95,
   "metadata": {
    "hidden": true,
    "scrolled": true
   },
   "outputs": [
    {
     "name": "stdout",
     "output_type": "stream",
     "text": [
      "batch  0\n",
      "batch  10\n",
      "batch  20\n",
      "batch  30\n",
      "batch  40\n",
      "batch  50\n",
      "batch  60\n",
      "batch  70\n",
      "batch  80\n",
      "batch  90\n",
      "batch  100\n",
      "batch  110\n",
      "batch  120\n",
      "batch  130\n",
      "batch  140\n",
      "batch  150\n",
      "batch  160\n",
      "batch  170\n",
      "batch  180\n",
      "batch  190\n",
      "batch  200\n",
      "batch  210\n",
      "batch  220\n",
      "batch  230\n",
      "batch  240\n",
      "batch  250\n",
      "batch  260\n",
      "batch  270\n",
      "batch  280\n",
      "batch  290\n",
      "batch  300\n",
      "batch  310\n",
      "batch  320\n",
      "batch  330\n",
      "batch  340\n",
      "batch  350\n",
      "batch  360\n",
      "batch  370\n",
      "batch  380\n",
      "batch  390\n",
      "batch  400\n",
      "batch  410\n",
      "batch  420\n",
      "batch  430\n",
      "batch  440\n",
      "batch  450\n",
      "batch  460\n",
      "batch  470\n",
      "batch  480\n",
      "batch  490\n",
      "batch  500\n",
      "batch  510\n",
      "batch  520\n",
      "batch  530\n",
      "batch  540\n",
      "batch  550\n",
      "batch  560\n",
      "batch  570\n",
      "batch  580\n",
      "batch  590\n",
      "batch  600\n",
      "batch  610\n",
      "batch  620\n",
      "batch  630\n",
      "batch  640\n",
      "batch  650\n",
      "batch  660\n",
      "batch  670\n",
      "batch  680\n",
      "batch  690\n",
      "batch  700\n",
      "batch  710\n",
      "batch  720\n",
      "batch  730\n",
      "batch  740\n",
      "batch  750\n",
      "batch  760\n",
      "batch  770\n",
      "batch  780\n",
      "batch  790\n",
      "batch  800\n",
      "batch  810\n",
      "batch  820\n",
      "batch  830\n",
      "batch  840\n",
      "batch  850\n",
      "batch  860\n",
      "batch  870\n",
      "batch  880\n",
      "batch  890\n",
      "batch  900\n",
      "batch  910\n",
      "batch  920\n",
      "batch  930\n",
      "batch  940\n",
      "batch  950\n",
      "batch  960\n",
      "batch  970\n",
      "batch  980\n",
      "batch  990\n"
     ]
    }
   ],
   "source": [
    "with tf.variable_scope(\"v1a-try8\"):\n",
    "    for i in range(1000):\n",
    "        if i%10==0:\n",
    "            print (\"batch \",i)\n",
    "        _, loss_value = sess.run([train_op8, my_loss8])\n",
    "        loss_history8.append(loss_value)"
   ]
  },
  {
   "cell_type": "code",
   "execution_count": 99,
   "metadata": {
    "hidden": true,
    "scrolled": false
   },
   "outputs": [
    {
     "data": {
      "text/plain": [
       "(0, 0.025)"
      ]
     },
     "execution_count": 99,
     "metadata": {},
     "output_type": "execute_result"
    },
    {
     "data": {
      "image/png": "[encoded data removed]",
      "text/plain": [
       "<matplotlib.figure.Figure at 0x1a0d16dd710>"
      ]
     },
     "metadata": {},
     "output_type": "display_data"
    }
   ],
   "source": [
    "plt.plot(loss_history8[:])\n",
    "plt.ylim(0,.025)"
   ]
  },
  {
   "cell_type": "code",
   "execution_count": null,
   "metadata": {
    "collapsed": true,
    "hidden": true
   },
   "outputs": [],
   "source": []
  },
  {
   "cell_type": "code",
   "execution_count": null,
   "metadata": {
    "collapsed": true,
    "hidden": true
   },
   "outputs": [],
   "source": []
  },
  {
   "cell_type": "markdown",
   "metadata": {
    "heading_collapsed": true
   },
   "source": [
    "##### Comparing answers"
   ]
  },
  {
   "cell_type": "code",
   "execution_count": 64,
   "metadata": {
    "hidden": true,
    "scrolled": true
   },
   "outputs": [
    {
     "name": "stdout",
     "output_type": "stream",
     "text": [
      "[[ 0.3012674   0.19340295]\n",
      " [ 0.2817847   0.070788  ]\n",
      " [ 0.09783512  0.12475628]\n",
      " [ 0.31322572 -0.02650197]\n",
      " [-0.0175496   0.19126132]\n",
      " [ 0.11954391  0.01185527]\n",
      " [ 0.16998702 -0.12744467]\n",
      " [ 0.34755647 -0.19660783]\n",
      " [-0.17921686 -0.03275163]\n",
      " [ 0.06125247 -0.05411674]] \n",
      " [[ 0.05  0.  ]\n",
      " [ 0.05 -0.  ]\n",
      " [ 0.05  0.  ]\n",
      " [ 0.05 -0.  ]\n",
      " [ 0.05  0.  ]\n",
      " [ 0.05 -0.  ]\n",
      " [ 0.05  0.  ]\n",
      " [ 0.05 -0.  ]\n",
      " [ 0.05  0.  ]\n",
      " [ 0.05 -0.  ]]\n"
     ]
    }
   ],
   "source": [
    "ar1,ar2 = sess.run([my_y6[:10,:2],correct_y6[:10,:2]])\n",
    "print(ar1,  \"\\n\",  ar2)"
   ]
  },
  {
   "cell_type": "code",
   "execution_count": 104,
   "metadata": {
    "hidden": true,
    "scrolled": true
   },
   "outputs": [
    {
     "name": "stdout",
     "output_type": "stream",
     "text": [
      "-0.15818122029304504 0.14181878417730331\n",
      "[0.04181878 0.03554685] [ 0.2 -0. ]\n",
      "[0.04181878 0.03554685] [-0.1 -0.3]\n",
      "---\n",
      "-0.2644531577825546 0.3355468660593033\n",
      "[0.04181878 0.03554685] [ 0.2 -0. ]\n",
      "[0.04181878 0.03554685] [-0.1 -0.3]\n"
     ]
    }
   ],
   "source": [
    "tryres=[[],[]]\n",
    "for _ in range(5):\n",
    "    trytryres=sess.run([my_y8,correct_y8])\n",
    "    tryres[0].extend(trytryres[0])\n",
    "    tryres[1].extend(trytryres[1])\n",
    "tryres[0]=np.vstack(tryres[0])\n",
    "tryres[1]=np.vstack(tryres[1])\n",
    "\n",
    "trydif=np.sum(np.array(tryres)*np.array([1,-1])[:,None,None],axis=0)\n",
    "print(np.min(trydif[:,0]), np.max(trydif[:,0]))\n",
    "print(tryres[0][np.argmin(trydif[:,0]),:2],tryres[1][np.argmin(trydif[:,0]),:2])\n",
    "print(tryres[0][np.argmax(trydif[:,0]),:2],tryres[1][np.argmax(trydif[:,0]),:2])\n",
    "print('---')\n",
    "print(np.min(trydif[:,1]), np.max(trydif[:,1]))\n",
    "print(tryres[0][np.argmin(trydif[:,1]),:2],tryres[1][np.argmin(trydif[:,0]),:2])\n",
    "print(tryres[0][np.argmax(trydif[:,1]),:2],tryres[1][np.argmax(trydif[:,0]),:2])\n"
   ]
  },
  {
   "cell_type": "code",
   "execution_count": 102,
   "metadata": {
    "hidden": true
   },
   "outputs": [
    {
     "name": "stdout",
     "output_type": "stream",
     "text": [
      "-0.15000347793102264 0.14999652653932571\n",
      "[4.9996525e-02 2.6104397e-05] [0.2 0. ]\n",
      "[4.9996525e-02 2.6104397e-05] [-0.1  0.3]\n",
      "---\n",
      "-0.29997390752396313 0.3000261163178948\n",
      "[4.9996525e-02 2.6104397e-05] [0.2 0. ]\n",
      "[4.9996525e-02 2.6104397e-05] [-0.1  0.3]\n"
     ]
    }
   ],
   "source": [
    "tryres=[[],[]]\n",
    "for _ in range(5):\n",
    "    trytryres=sess.run([my_y7,correct_y7])\n",
    "    tryres[0].extend(trytryres[0])\n",
    "    tryres[1].extend(trytryres[1])\n",
    "tryres[0]=np.vstack(tryres[0])\n",
    "tryres[1]=np.vstack(tryres[1])\n",
    "\n",
    "trydif=np.sum(np.array(tryres)*np.array([1,-1])[:,None,None],axis=0)\n",
    "print(np.min(trydif[:,0]), np.max(trydif[:,0]))\n",
    "print(tryres[0][np.argmin(trydif[:,0]),:2],tryres[1][np.argmin(trydif[:,0]),:2])\n",
    "print(tryres[0][np.argmax(trydif[:,0]),:2],tryres[1][np.argmax(trydif[:,0]),:2])\n",
    "print('---')\n",
    "print(np.min(trydif[:,1]), np.max(trydif[:,1]))\n",
    "print(tryres[0][np.argmin(trydif[:,1]),:2],tryres[1][np.argmin(trydif[:,0]),:2])\n",
    "print(tryres[0][np.argmax(trydif[:,1]),:2],tryres[1][np.argmax(trydif[:,0]),:2])\n"
   ]
  },
  {
   "cell_type": "code",
   "execution_count": null,
   "metadata": {
    "collapsed": true,
    "hidden": true
   },
   "outputs": [],
   "source": [
    "# example from https://towardsdatascience.com/how-to-use-dataset-in-tensorflow-c758ef9e4428\n",
    "\n",
    "#prediction = tf.layers.dense(net, 1, activation=tf.tanh)\n",
    "#loss = tf.losses.mean_squared_error(prediction, y) # pass the second value from iter.get_net() as label\n",
    "#train_op = tf.train.AdamOptimizer().minimize(loss)\n",
    "#with tf.Session() as sess:\n",
    "#    sess.run(tf.global_variables_initializer())\n",
    "#    for i in range(EPOCHS):\n",
    "#        _, loss_value = sess.run([train_op, loss])\n",
    "#        print(\"Iter: {}, Loss: {:.4f}\".format(i, loss_value))"
   ]
  },
  {
   "cell_type": "markdown",
   "metadata": {
    "heading_collapsed": true
   },
   "source": [
    "### v2: use layers B,C,D [sql7,3,1]  (exec first two)"
   ]
  },
  {
   "cell_type": "code",
   "execution_count": 12,
   "metadata": {
    "ExecuteTime": {
     "end_time": "2019-02-08T00:10:59.130259Z",
     "start_time": "2019-02-08T00:10:58.469265Z"
    },
    "hidden": true
   },
   "outputs": [],
   "source": [
    "\n",
    "def appended_model_v2(XB,XC,XD, reuse=True):\n",
    "    '''input: XB,XC, XD - input from layers B,C,D of squeezenet\n",
    "    returns: layers[0...6]'''\n",
    "    layers=[]\n",
    "    var_list=[] # list of variable tensors so that we can initialize variables for a particular model\n",
    "    with tf.variable_scope('my_v2', reuse=reuse):\n",
    "        x=XD #55x55x16\n",
    "        with tf.variable_scope('layer0-D'):\n",
    "            W = tf.get_variable(\"weights\",shape=[1,1,16,10])\n",
    "            b = tf.get_variable(\"bias\",shape=[10])\n",
    "            var_list.append(W)\n",
    "            var_list.append(b)\n",
    "            x = tf.nn.conv2d(x,W,[1,1,1,1],\"VALID\")\n",
    "            x = tf.nn.bias_add(x,b)\n",
    "            layers.append(x)\n",
    "            #layer 1:\n",
    "            x = tf.nn.relu(x)\n",
    "            layers.append(x)\n",
    "            #layer 2:\n",
    "            x = tf.nn.max_pool(x,[1,3,3,1],strides=[1,2,2,1],padding='VALID')\n",
    "            layers.append(x)\n",
    "            # x now is 32x32x10\n",
    "            \n",
    "        #this now has the same HW dimension as layer C (which is 27x27x32) :\n",
    "        x = tf.concat([x,XC], 3)   \n",
    "        with tf.variable_scope('layer3-C'):\n",
    "            W = tf.get_variable(\"weights\",shape=[1,1,42,12])\n",
    "            b = tf.get_variable(\"bias\",shape=[12])\n",
    "            var_list.append(W)\n",
    "            var_list.append(b)\n",
    "            x = tf.nn.conv2d(x,W,[1,1,1,1],\"VALID\")\n",
    "            x = tf.nn.bias_add(x,b)\n",
    "            layers.append(x)\n",
    "            #layer 4:\n",
    "            x = tf.nn.relu(x)\n",
    "            layers.append(x)\n",
    "            #layer 5:\n",
    "            x = tf.nn.max_pool(x,[1,3,3,1],strides=[1,2,2,1],padding='VALID')\n",
    "            layers.append(x)\n",
    "            # x now is 27x27x12\n",
    "        #\n",
    "        x  = tf.concat([x,XB], 3)   \n",
    "        with tf.variable_scope('layer6-B'):\n",
    "            W = tf.get_variable(\"weights\",shape=[1,1,76,18])\n",
    "            b = tf.get_variable(\"bias\",shape=[18])\n",
    "            var_list.append(W)\n",
    "            var_list.append(b)\n",
    "            x = tf.nn.conv2d(x,W,[1,1,1,1],\"VALID\")\n",
    "            x = tf.nn.bias_add(x,b)\n",
    "            layers.append(x)\n",
    "            #layer 7:\n",
    "            x = tf.nn.relu(x)\n",
    "            layers.append(x)\n",
    "        #\n",
    "        with tf.variable_scope('layer8'):\n",
    "            W = tf.get_variable(\"weights\",shape=[1,1,18,18])\n",
    "            b = tf.get_variable(\"bias\",shape=[18])\n",
    "            var_list.append(W)\n",
    "            var_list.append(b)\n",
    "            x = tf.nn.conv2d(x,W,[1,1,1,1],\"VALID\")\n",
    "            x = tf.nn.bias_add(x,b)\n",
    "            layers.append(x)\n",
    "            #layer 9:\n",
    "            x = tf.nn.relu(x)\n",
    "            layers.append(x)\n",
    "        with tf.variable_scope('layer10'):\n",
    "            W = tf.get_variable(\"weights\",shape=[1,1,18,6])\n",
    "            b = tf.get_variable(\"bias\",shape=[6])\n",
    "            var_list.append(W)\n",
    "            var_list.append(b)\n",
    "            x = tf.nn.conv2d(x,W,[1,1,1,1],\"VALID\")\n",
    "            x = tf.nn.bias_add(x,b)\n",
    "            layers.append(x)\n",
    "            #layer 11:\n",
    "            x = tf.nn.relu(x)\n",
    "            layers.append(x)\n",
    "        #\n",
    "        #fully connected layer:\n",
    "        with tf.variable_scope('layer12'):\n",
    "            W = tf.get_variable(\"weights\",shape=[13,13,6,6])\n",
    "            b = tf.get_variable(\"bias\",shape=[6])\n",
    "            var_list.append(W)\n",
    "            var_list.append(b)\n",
    "            x = tf.nn.conv2d(x,W,[1,13,13,1],\"VALID\")\n",
    "            x = tf.nn.bias_add(x,b)\n",
    "            layers.append(x)\n",
    "    return layers, var_list\n",
    "                \n",
    "  "
   ]
  },
  {
   "cell_type": "code",
   "execution_count": 13,
   "metadata": {
    "ExecuteTime": {
     "end_time": "2019-02-08T00:10:59.320258Z",
     "start_time": "2019-02-08T00:10:59.131259Z"
    },
    "hidden": true
   },
   "outputs": [],
   "source": [
    "def appended_full_model_v2(filename=\"XandY1.tfrec\", batch_size=2, reuse=True):\n",
    "    #no coordinates\n",
    "    ds=dataset_XY_from_TFRecord( layer_name_and_shape_list=[    (\"squeezed_layer_1\", 55, 55, 16), \n",
    "                                                                (\"squeezed_layer_3\", 27, 27, 32),\n",
    "                                                                (\"squeezed_layer_7\", 13, 13, 64)  ], filename=filename )\n",
    "    dsbatched=ds.repeat().shuffle(4600).batch(batch_size)\n",
    "    iterator= dsbatched.make_one_shot_iterator()\n",
    "    nextdict=iterator.get_next()\n",
    "    layers, var_list = appended_model_v2( nextdict['squeezed_layer_7'], \n",
    "                                          nextdict['squeezed_layer_3'],\n",
    "                                          nextdict['squeezed_layer_1'], reuse )\n",
    "    y=tf.reshape(layers[12],[-1,6])\n",
    "    \n",
    "    weights=tf.constant([10.,10,0,0,0,0])\n",
    "    weighted_loss = tf.losses.mean_squared_error( nextdict['Y']*weights, y*weights )\n",
    "    \n",
    "    return y, nextdict['Y'], weighted_loss, var_list\n"
   ]
  },
  {
   "cell_type": "code",
   "execution_count": 14,
   "metadata": {
    "ExecuteTime": {
     "end_time": "2019-02-08T00:10:59.870253Z",
     "start_time": "2019-02-08T00:10:59.683255Z"
    },
    "hidden": true
   },
   "outputs": [],
   "source": [
    "def initialize_training(scopename, filename, batch_size=2048,learning_rate=0.003,beta1=0.95):\n",
    "    with tf.variable_scope(scopename):\n",
    "        y, correct_y, loss, var_list = appended_full_model_v2(filename=filename, batch_size=batch_size, reuse=False )\n",
    "        op = tf.train.AdamOptimizer(name=\"a\",learning_rate=learning_rate,beta1=beta1)\n",
    "        train_op=op.minimize(loss)\n",
    "        initialize_model(var_list, sess)\n",
    "        sess.run(tf.variables_initializer(op.variables()))\n",
    "    return {\"y\":y, \"correct_y\":correct_y, \"loss\":loss, \"train_op\":train_op, \"loss_history\": [] }\n"
   ]
  },
  {
   "cell_type": "code",
   "execution_count": 11,
   "metadata": {
    "ExecuteTime": {
     "end_time": "2019-02-02T22:32:09.326793Z",
     "start_time": "2019-02-02T22:32:08.430800Z"
    },
    "hidden": true
   },
   "outputs": [],
   "source": [
    "thisscope=\"v2-try1\"\n",
    "handles[thisscope] = initialize_training(thisscope,\"XBCDandY_9.tfrec\")"
   ]
  },
  {
   "cell_type": "code",
   "execution_count": 22,
   "metadata": {
    "hidden": true,
    "scrolled": true
   },
   "outputs": [
    {
     "name": "stdout",
     "output_type": "stream",
     "text": [
      "batch  0\n",
      "batch  10\n",
      "batch  20\n",
      "batch  30\n",
      "batch  40\n",
      "batch  50\n",
      "batch  60\n",
      "batch  70\n",
      "batch  80\n",
      "batch  90\n",
      "batch  100\n",
      "batch  110\n",
      "batch  120\n",
      "batch  130\n",
      "batch  140\n",
      "batch  150\n",
      "batch  160\n",
      "batch  170\n",
      "batch  180\n",
      "batch  190\n",
      "batch  200\n",
      "batch  210\n"
     ]
    },
    {
     "ename": "KeyboardInterrupt",
     "evalue": "",
     "output_type": "error",
     "traceback": [
      "\u001b[1;31m---------------------------------------------------------------------------\u001b[0m",
      "\u001b[1;31mKeyboardInterrupt\u001b[0m                         Traceback (most recent call last)",
      "\u001b[1;32m<ipython-input-22-a70ed0fc0d59>\u001b[0m in \u001b[0;36m<module>\u001b[1;34m()\u001b[0m\n\u001b[0;32m      4\u001b[0m         \u001b[1;32mif\u001b[0m \u001b[0mi\u001b[0m\u001b[1;33m%\u001b[0m\u001b[1;36m10\u001b[0m\u001b[1;33m==\u001b[0m\u001b[1;36m0\u001b[0m\u001b[1;33m:\u001b[0m\u001b[1;33m\u001b[0m\u001b[0m\n\u001b[0;32m      5\u001b[0m             \u001b[0mprint\u001b[0m \u001b[1;33m(\u001b[0m\u001b[1;34m\"batch \"\u001b[0m\u001b[1;33m,\u001b[0m\u001b[0mi\u001b[0m\u001b[1;33m)\u001b[0m\u001b[1;33m\u001b[0m\u001b[0m\n\u001b[1;32m----> 6\u001b[1;33m         \u001b[0m_\u001b[0m\u001b[1;33m,\u001b[0m \u001b[0mloss_value\u001b[0m \u001b[1;33m=\u001b[0m \u001b[0msess\u001b[0m\u001b[1;33m.\u001b[0m\u001b[0mrun\u001b[0m\u001b[1;33m(\u001b[0m\u001b[1;33m[\u001b[0m \u001b[0mhandles\u001b[0m\u001b[1;33m[\u001b[0m\u001b[0mthisscope\u001b[0m\u001b[1;33m]\u001b[0m\u001b[1;33m[\u001b[0m\u001b[1;34m\"train_op\"\u001b[0m\u001b[1;33m]\u001b[0m\u001b[1;33m,\u001b[0m \u001b[0mhandles\u001b[0m\u001b[1;33m[\u001b[0m\u001b[0mthisscope\u001b[0m\u001b[1;33m]\u001b[0m\u001b[1;33m[\u001b[0m\u001b[1;34m\"loss\"\u001b[0m\u001b[1;33m]\u001b[0m \u001b[1;33m]\u001b[0m\u001b[1;33m)\u001b[0m\u001b[1;33m\u001b[0m\u001b[0m\n\u001b[0m\u001b[0;32m      7\u001b[0m         \u001b[0mhandles\u001b[0m\u001b[1;33m[\u001b[0m\u001b[0mthisscope\u001b[0m\u001b[1;33m]\u001b[0m\u001b[1;33m[\u001b[0m\u001b[1;34m\"loss_history\"\u001b[0m\u001b[1;33m]\u001b[0m\u001b[1;33m.\u001b[0m\u001b[0mappend\u001b[0m\u001b[1;33m(\u001b[0m\u001b[0mloss_value\u001b[0m\u001b[1;33m)\u001b[0m\u001b[1;33m\u001b[0m\u001b[0m\n",
      "\u001b[1;32m~\\Anaconda3\\lib\\site-packages\\tensorflow\\python\\client\\session.py\u001b[0m in \u001b[0;36mrun\u001b[1;34m(self, fetches, feed_dict, options, run_metadata)\u001b[0m\n\u001b[0;32m    903\u001b[0m     \u001b[1;32mtry\u001b[0m\u001b[1;33m:\u001b[0m\u001b[1;33m\u001b[0m\u001b[0m\n\u001b[0;32m    904\u001b[0m       result = self._run(None, fetches, feed_dict, options_ptr,\n\u001b[1;32m--> 905\u001b[1;33m                          run_metadata_ptr)\n\u001b[0m\u001b[0;32m    906\u001b[0m       \u001b[1;32mif\u001b[0m \u001b[0mrun_metadata\u001b[0m\u001b[1;33m:\u001b[0m\u001b[1;33m\u001b[0m\u001b[0m\n\u001b[0;32m    907\u001b[0m         \u001b[0mproto_data\u001b[0m \u001b[1;33m=\u001b[0m \u001b[0mtf_session\u001b[0m\u001b[1;33m.\u001b[0m\u001b[0mTF_GetBuffer\u001b[0m\u001b[1;33m(\u001b[0m\u001b[0mrun_metadata_ptr\u001b[0m\u001b[1;33m)\u001b[0m\u001b[1;33m\u001b[0m\u001b[0m\n",
      "\u001b[1;32m~\\Anaconda3\\lib\\site-packages\\tensorflow\\python\\client\\session.py\u001b[0m in \u001b[0;36m_run\u001b[1;34m(self, handle, fetches, feed_dict, options, run_metadata)\u001b[0m\n\u001b[0;32m   1135\u001b[0m     \u001b[1;32mif\u001b[0m \u001b[0mfinal_fetches\u001b[0m \u001b[1;32mor\u001b[0m \u001b[0mfinal_targets\u001b[0m \u001b[1;32mor\u001b[0m \u001b[1;33m(\u001b[0m\u001b[0mhandle\u001b[0m \u001b[1;32mand\u001b[0m \u001b[0mfeed_dict_tensor\u001b[0m\u001b[1;33m)\u001b[0m\u001b[1;33m:\u001b[0m\u001b[1;33m\u001b[0m\u001b[0m\n\u001b[0;32m   1136\u001b[0m       results = self._do_run(handle, final_targets, final_fetches,\n\u001b[1;32m-> 1137\u001b[1;33m                              feed_dict_tensor, options, run_metadata)\n\u001b[0m\u001b[0;32m   1138\u001b[0m     \u001b[1;32melse\u001b[0m\u001b[1;33m:\u001b[0m\u001b[1;33m\u001b[0m\u001b[0m\n\u001b[0;32m   1139\u001b[0m       \u001b[0mresults\u001b[0m \u001b[1;33m=\u001b[0m \u001b[1;33m[\u001b[0m\u001b[1;33m]\u001b[0m\u001b[1;33m\u001b[0m\u001b[0m\n",
      "\u001b[1;32m~\\Anaconda3\\lib\\site-packages\\tensorflow\\python\\client\\session.py\u001b[0m in \u001b[0;36m_do_run\u001b[1;34m(self, handle, target_list, fetch_list, feed_dict, options, run_metadata)\u001b[0m\n\u001b[0;32m   1353\u001b[0m     \u001b[1;32mif\u001b[0m \u001b[0mhandle\u001b[0m \u001b[1;32mis\u001b[0m \u001b[1;32mNone\u001b[0m\u001b[1;33m:\u001b[0m\u001b[1;33m\u001b[0m\u001b[0m\n\u001b[0;32m   1354\u001b[0m       return self._do_call(_run_fn, self._session, feeds, fetches, targets,\n\u001b[1;32m-> 1355\u001b[1;33m                            options, run_metadata)\n\u001b[0m\u001b[0;32m   1356\u001b[0m     \u001b[1;32melse\u001b[0m\u001b[1;33m:\u001b[0m\u001b[1;33m\u001b[0m\u001b[0m\n\u001b[0;32m   1357\u001b[0m       \u001b[1;32mreturn\u001b[0m \u001b[0mself\u001b[0m\u001b[1;33m.\u001b[0m\u001b[0m_do_call\u001b[0m\u001b[1;33m(\u001b[0m\u001b[0m_prun_fn\u001b[0m\u001b[1;33m,\u001b[0m \u001b[0mself\u001b[0m\u001b[1;33m.\u001b[0m\u001b[0m_session\u001b[0m\u001b[1;33m,\u001b[0m \u001b[0mhandle\u001b[0m\u001b[1;33m,\u001b[0m \u001b[0mfeeds\u001b[0m\u001b[1;33m,\u001b[0m \u001b[0mfetches\u001b[0m\u001b[1;33m)\u001b[0m\u001b[1;33m\u001b[0m\u001b[0m\n",
      "\u001b[1;32m~\\Anaconda3\\lib\\site-packages\\tensorflow\\python\\client\\session.py\u001b[0m in \u001b[0;36m_do_call\u001b[1;34m(self, fn, *args)\u001b[0m\n\u001b[0;32m   1359\u001b[0m   \u001b[1;32mdef\u001b[0m \u001b[0m_do_call\u001b[0m\u001b[1;33m(\u001b[0m\u001b[0mself\u001b[0m\u001b[1;33m,\u001b[0m \u001b[0mfn\u001b[0m\u001b[1;33m,\u001b[0m \u001b[1;33m*\u001b[0m\u001b[0margs\u001b[0m\u001b[1;33m)\u001b[0m\u001b[1;33m:\u001b[0m\u001b[1;33m\u001b[0m\u001b[0m\n\u001b[0;32m   1360\u001b[0m     \u001b[1;32mtry\u001b[0m\u001b[1;33m:\u001b[0m\u001b[1;33m\u001b[0m\u001b[0m\n\u001b[1;32m-> 1361\u001b[1;33m       \u001b[1;32mreturn\u001b[0m \u001b[0mfn\u001b[0m\u001b[1;33m(\u001b[0m\u001b[1;33m*\u001b[0m\u001b[0margs\u001b[0m\u001b[1;33m)\u001b[0m\u001b[1;33m\u001b[0m\u001b[0m\n\u001b[0m\u001b[0;32m   1362\u001b[0m     \u001b[1;32mexcept\u001b[0m \u001b[0merrors\u001b[0m\u001b[1;33m.\u001b[0m\u001b[0mOpError\u001b[0m \u001b[1;32mas\u001b[0m \u001b[0me\u001b[0m\u001b[1;33m:\u001b[0m\u001b[1;33m\u001b[0m\u001b[0m\n\u001b[0;32m   1363\u001b[0m       \u001b[0mmessage\u001b[0m \u001b[1;33m=\u001b[0m \u001b[0mcompat\u001b[0m\u001b[1;33m.\u001b[0m\u001b[0mas_text\u001b[0m\u001b[1;33m(\u001b[0m\u001b[0me\u001b[0m\u001b[1;33m.\u001b[0m\u001b[0mmessage\u001b[0m\u001b[1;33m)\u001b[0m\u001b[1;33m\u001b[0m\u001b[0m\n",
      "\u001b[1;32m~\\Anaconda3\\lib\\site-packages\\tensorflow\\python\\client\\session.py\u001b[0m in \u001b[0;36m_run_fn\u001b[1;34m(session, feed_dict, fetch_list, target_list, options, run_metadata)\u001b[0m\n\u001b[0;32m   1338\u001b[0m         \u001b[1;32melse\u001b[0m\u001b[1;33m:\u001b[0m\u001b[1;33m\u001b[0m\u001b[0m\n\u001b[0;32m   1339\u001b[0m           return tf_session.TF_Run(session, options, feed_dict, fetch_list,\n\u001b[1;32m-> 1340\u001b[1;33m                                    target_list, status, run_metadata)\n\u001b[0m\u001b[0;32m   1341\u001b[0m \u001b[1;33m\u001b[0m\u001b[0m\n\u001b[0;32m   1342\u001b[0m     \u001b[1;32mdef\u001b[0m \u001b[0m_prun_fn\u001b[0m\u001b[1;33m(\u001b[0m\u001b[0msession\u001b[0m\u001b[1;33m,\u001b[0m \u001b[0mhandle\u001b[0m\u001b[1;33m,\u001b[0m \u001b[0mfeed_dict\u001b[0m\u001b[1;33m,\u001b[0m \u001b[0mfetch_list\u001b[0m\u001b[1;33m)\u001b[0m\u001b[1;33m:\u001b[0m\u001b[1;33m\u001b[0m\u001b[0m\n",
      "\u001b[1;31mKeyboardInterrupt\u001b[0m: "
     ]
    }
   ],
   "source": [
    "thisscope=\"v2-try1\"\n",
    "with tf.variable_scope(thisscope):\n",
    "    for i in range(2000):\n",
    "        if i%10==0:\n",
    "            print (\"batch \",i)\n",
    "        _, loss_value = sess.run([ handles[thisscope][\"train_op\"], handles[thisscope][\"loss\"] ])\n",
    "        handles[thisscope][\"loss_history\"].append(loss_value)"
   ]
  },
  {
   "cell_type": "code",
   "execution_count": 46,
   "metadata": {
    "hidden": true,
    "scrolled": false
   },
   "outputs": [
    {
     "data": {
      "text/plain": [
       "(0, 20)"
      ]
     },
     "execution_count": 46,
     "metadata": {},
     "output_type": "execute_result"
    },
    {
     "data": {
      "image/png": "[encoded data removed]",
      "text/plain": [
       "<Figure size 720x576 with 1 Axes>"
      ]
     },
     "metadata": {},
     "output_type": "display_data"
    }
   ],
   "source": [
    "thisscope=\"v2-try1\"\n",
    "plt.plot(handles[thisscope][\"loss_history\"][:1000])\n",
    "plt.ylim(0,20)"
   ]
  },
  {
   "cell_type": "markdown",
   "metadata": {
    "heading_collapsed": true
   },
   "source": [
    "### v3: classification using layers B,C,D [sql7,3,1]"
   ]
  },
  {
   "cell_type": "markdown",
   "metadata": {
    "hidden": true
   },
   "source": [
    "##### define"
   ]
  },
  {
   "cell_type": "code",
   "execution_count": 15,
   "metadata": {
    "ExecuteTime": {
     "end_time": "2019-02-08T00:11:06.327196Z",
     "start_time": "2019-02-08T00:11:05.677201Z"
    },
    "hidden": true
   },
   "outputs": [],
   "source": [
    "\n",
    "def appended_model_v3(XB,XC,XD, reuse=True):\n",
    "    '''input: XB,XC, XD - input from layers B,C,D of squeezenet\n",
    "    returns: layers[0...6]'''\n",
    "    layers=[]\n",
    "    var_list=[] # list of variable tensors so that we can initialize variables for a particular model\n",
    "    with tf.variable_scope('my_v2', reuse=reuse):\n",
    "        x=XD #55x55x16\n",
    "        with tf.variable_scope('layer0-D'):\n",
    "            W = tf.get_variable(\"weights\",shape=[1,1,16,10])\n",
    "            b = tf.get_variable(\"bias\",shape=[10])\n",
    "            var_list.append(W)\n",
    "            var_list.append(b)\n",
    "            x = tf.nn.conv2d(x,W,[1,1,1,1],\"VALID\")\n",
    "            x = tf.nn.bias_add(x,b)\n",
    "            layers.append(x)\n",
    "            #layer 1:\n",
    "            x = tf.nn.relu(x)\n",
    "            layers.append(x)\n",
    "            #layer 2:\n",
    "            x = tf.nn.max_pool(x,[1,3,3,1],strides=[1,2,2,1],padding='VALID')\n",
    "            layers.append(x)\n",
    "            # x now is 27x27x10\n",
    "            \n",
    "        #this now has the same HW dimension as layer C (which is 27x27x32) :\n",
    "        x = tf.concat([x,XC], 3)   \n",
    "        with tf.variable_scope('layer3-C'):\n",
    "            W = tf.get_variable(\"weights\",shape=[1,1,42,12])\n",
    "            b = tf.get_variable(\"bias\",shape=[12])\n",
    "            var_list.append(W)\n",
    "            var_list.append(b)\n",
    "            x = tf.nn.conv2d(x,W,[1,1,1,1],\"VALID\")\n",
    "            x = tf.nn.bias_add(x,b)\n",
    "            layers.append(x)\n",
    "            #layer 4:\n",
    "            x = tf.nn.relu(x)\n",
    "            layers.append(x)\n",
    "            #layer 5:\n",
    "            x = tf.nn.max_pool(x,[1,3,3,1],strides=[1,2,2,1],padding='VALID')\n",
    "            layers.append(x)\n",
    "            # x now is 27x27x12\n",
    "        #\n",
    "        x  = tf.concat([x,XB], 3)   \n",
    "        with tf.variable_scope('layer6-B'):\n",
    "            W = tf.get_variable(\"weights\",shape=[1,1,76,18])\n",
    "            b = tf.get_variable(\"bias\",shape=[18])\n",
    "            var_list.append(W)\n",
    "            var_list.append(b)\n",
    "            x = tf.nn.conv2d(x,W,[1,1,1,1],\"VALID\")\n",
    "            x = tf.nn.bias_add(x,b)\n",
    "            layers.append(x)\n",
    "            #layer 7:\n",
    "            x = tf.nn.relu(x)\n",
    "            layers.append(x)\n",
    "        #\n",
    "        with tf.variable_scope('layer8'):\n",
    "            W = tf.get_variable(\"weights\",shape=[1,1,18,18])\n",
    "            b = tf.get_variable(\"bias\",shape=[18])\n",
    "            var_list.append(W)\n",
    "            var_list.append(b)\n",
    "            x = tf.nn.conv2d(x,W,[1,1,1,1],\"VALID\")\n",
    "            x = tf.nn.bias_add(x,b)\n",
    "            layers.append(x)\n",
    "            #layer 9:\n",
    "            x = tf.nn.relu(x)\n",
    "            layers.append(x)\n",
    "        with tf.variable_scope('layer10'):\n",
    "            W = tf.get_variable(\"weights\",shape=[1,1,18,18])\n",
    "            b = tf.get_variable(\"bias\",shape=[18])\n",
    "            var_list.append(W)\n",
    "            var_list.append(b)\n",
    "            x = tf.nn.conv2d(x,W,[1,1,1,1],\"VALID\")\n",
    "            x = tf.nn.bias_add(x,b)\n",
    "            layers.append(x)\n",
    "            #layer 11:\n",
    "            x = tf.nn.relu(x)\n",
    "            layers.append(x)\n",
    "        #\n",
    "        #fully connected layer:\n",
    "        with tf.variable_scope('layer12'):\n",
    "            W = tf.get_variable(\"weights\",shape=[13,13,18,6])\n",
    "            b = tf.get_variable(\"bias\",shape=[6])\n",
    "            var_list.append(W)\n",
    "            var_list.append(b)\n",
    "            x = tf.nn.conv2d(x,W,[1,13,13,1],\"VALID\")\n",
    "            x = tf.nn.bias_add(x,b)\n",
    "            layers.append(x)\n",
    "    return layers, var_list\n",
    "                \n",
    "  "
   ]
  },
  {
   "cell_type": "code",
   "execution_count": 16,
   "metadata": {
    "ExecuteTime": {
     "end_time": "2019-02-08T00:11:06.610192Z",
     "start_time": "2019-02-08T00:11:06.391195Z"
    },
    "hidden": true
   },
   "outputs": [],
   "source": [
    "def appended_full_model_v3(filename=\"XandY1.tfrec\", batch_size=2, reuse=True):\n",
    "    \n",
    "    #no coordinates\n",
    "    ds=dataset_XYclassif_from_TFRecord( layer_name_and_shape_list=[    (\"squeezed_layer_1\", 55, 55, 16), \n",
    "                                                                (\"squeezed_layer_3\", 27, 27, 32),\n",
    "                                                                (\"squeezed_layer_7\", 13, 13, 64)  ], filename=filename )\n",
    "    dsbatched=ds.repeat().shuffle(4600).batch(batch_size)\n",
    "    iterator= dsbatched.make_one_shot_iterator()\n",
    "    nextdict=iterator.get_next()\n",
    "    \n",
    "    layers, var_list = appended_model_v2( nextdict['squeezed_layer_7'], \n",
    "                                          nextdict['squeezed_layer_3'],\n",
    "                                          nextdict['squeezed_layer_1'], reuse )\n",
    "    y=tf.reshape(layers[-1],[-1,6])\n",
    "    y_vert = y[:,:3]\n",
    "    y_horiz = y[:,3:]\n",
    "    \n",
    "    loss_vert = tf.reduce_mean(tf.nn.softmax_cross_entropy_with_logits(labels=tf.one_hot(nextdict['class_vert'], 3), \n",
    "                                                                        logits=y_vert\n",
    "                                                                       ))\n",
    "    loss_horiz = tf.reduce_mean(tf.nn.softmax_cross_entropy_with_logits(labels=tf.one_hot(nextdict['class_horiz'], 3), \n",
    "                                                                        logits=y_horiz\n",
    "                                                                       ))\n",
    "    loss = loss_vert + loss_horiz\n",
    "    \n",
    "    return (y_vert,y_horiz), (nextdict['class_vert'],nextdict['class_horiz']), loss, var_list\n"
   ]
  },
  {
   "cell_type": "markdown",
   "metadata": {
    "heading_collapsed": true,
    "hidden": true
   },
   "source": [
    "#### train"
   ]
  },
  {
   "cell_type": "code",
   "execution_count": 15,
   "metadata": {
    "hidden": true
   },
   "outputs": [],
   "source": [
    "def initialize_training_forfunc(scopename, func, filename, batch_size=1024,learning_rate=0.003,beta1=0.95):\n",
    "    with tf.variable_scope(scopename):\n",
    "        y, correct_y, loss, var_list = func(filename=filename, batch_size=batch_size, reuse=False )\n",
    "        op = tf.train.AdamOptimizer(name=\"a\",learning_rate=learning_rate,beta1=beta1)\n",
    "        train_op=op.minimize(loss)\n",
    "        initialize_model(var_list, sess)\n",
    "        sess.run(tf.variables_initializer(op.variables()))\n",
    "    return {\"y\":y, \"correct_y\":correct_y, \"loss\":loss, \"train_op\":train_op, \"loss_history\": [] }"
   ]
  },
  {
   "cell_type": "code",
   "execution_count": 21,
   "metadata": {
    "hidden": true
   },
   "outputs": [
    {
     "name": "stdout",
     "output_type": "stream",
     "text": [
      "WARNING:tensorflow:case: An unordered dictionary of predicate/fn pairs was provided, but exclusive=False. The order of conditional tests is deterministic but not guaranteed.\n",
      "WARNING:tensorflow:case: An unordered dictionary of predicate/fn pairs was provided, but exclusive=False. The order of conditional tests is deterministic but not guaranteed.\n"
     ]
    }
   ],
   "source": [
    "thisscope=\"v3-try3\"\n",
    "handles[thisscope] = initialize_training_forfunc(thisscope, appended_full_model_v3, \"XBCDandY_4.tfrec\")"
   ]
  },
  {
   "cell_type": "code",
   "execution_count": 22,
   "metadata": {
    "hidden": true,
    "scrolled": true
   },
   "outputs": [
    {
     "name": "stdout",
     "output_type": "stream",
     "text": [
      "batch  0\t fit accuracy: vert  0.4228515625 %, \t horiz  0.31640625 %\n",
      "batch  10\t fit accuracy: vert  0.7587890625 %, \t horiz  0.439453125 %\n",
      "batch  20\t fit accuracy: vert  0.7880859375 %, \t horiz  0.5615234375 %\n",
      "batch  30\t fit accuracy: vert  0.916015625 %, \t horiz  0.6494140625 %\n",
      "batch  40\t fit accuracy: vert  0.962890625 %, \t horiz  0.7421875 %\n",
      "batch  50\t fit accuracy: vert  0.9873046875 %, \t horiz  0.875 %\n",
      "batch  60\t fit accuracy: vert  0.9931640625 %, \t horiz  0.9326171875 %\n",
      "batch  70\t fit accuracy: vert  0.998046875 %, \t horiz  0.982421875 %\n",
      "batch  80\t fit accuracy: vert  1.0 %, \t horiz  0.9873046875 %\n",
      "batch  90\t fit accuracy: vert  1.0 %, \t horiz  0.9951171875 %\n"
     ]
    }
   ],
   "source": [
    "thisscope=\"v3-try3\"\n",
    "with tf.variable_scope(thisscope):\n",
    "    for i in range(100):\n",
    "        if i%10==0:\n",
    "            print (\"batch \",i,end=\"\")\n",
    "        _, loss_value, y, cor_y = sess.run([ handles[thisscope][\"train_op\"], \n",
    "                                             handles[thisscope][\"loss\"],\n",
    "                                             handles[thisscope][\"y\"],\n",
    "                                             handles[thisscope][\"correct_y\"] ] )\n",
    "        \n",
    "        if i%10==0:\n",
    "            print (\"\\t fit accuracy: vert \", np.mean( np.argmax(y[0],axis=1) == cor_y[0] ), \n",
    "                          \"%, \\t horiz \", np.mean( np.argmax(y[1],axis=1) == cor_y[1] ), \"%\" )\n",
    "        handles[thisscope][\"loss_history\"].append(loss_value)"
   ]
  },
  {
   "cell_type": "code",
   "execution_count": 30,
   "metadata": {
    "hidden": true
   },
   "outputs": [
    {
     "name": "stdout",
     "output_type": "stream",
     "text": [
      "\t fit accuracy: vert  1.0 %, \t horiz  1.0 %\n"
     ]
    }
   ],
   "source": [
    "\n",
    "with tf.variable_scope(thisscope):\n",
    "        _, loss_value, y, cor_y = sess.run([ handles[thisscope][\"train_op\"], \n",
    "                                             handles[thisscope][\"loss\"],\n",
    "                                             handles[thisscope][\"y\"],\n",
    "                                             handles[thisscope][\"correct_y\"] ] )\n",
    "        \n",
    "        print (\"\\t fit accuracy: vert \", np.mean( np.argmax(y[0],axis=1) == cor_y[0] ), \n",
    "                      \"%, \\t horiz \", np.mean( np.argmax(y[1],axis=1) == cor_y[1] ), \"%\" )"
   ]
  },
  {
   "cell_type": "code",
   "execution_count": 35,
   "metadata": {
    "hidden": true,
    "scrolled": false
   },
   "outputs": [
    {
     "data": {
      "text/plain": [
       "(0, 5)"
      ]
     },
     "execution_count": 35,
     "metadata": {},
     "output_type": "execute_result"
    },
    {
     "data": {
      "image/png": "[encoded data removed]",
      "text/plain": [
       "<matplotlib.figure.Figure at 0x1ed7e61de48>"
      ]
     },
     "metadata": {},
     "output_type": "display_data"
    }
   ],
   "source": [
    "plt.plot(handles[thisscope][\"loss_history\"][:1000])\n",
    "plt.ylim(0,5)"
   ]
  },
  {
   "cell_type": "code",
   "execution_count": 34,
   "metadata": {
    "hidden": true
   },
   "outputs": [
    {
     "data": {
      "text/plain": [
       "0.005295509"
      ]
     },
     "execution_count": 34,
     "metadata": {},
     "output_type": "execute_result"
    }
   ],
   "source": [
    "loss_value"
   ]
  },
  {
   "cell_type": "code",
   "execution_count": 26,
   "metadata": {
    "hidden": true
   },
   "outputs": [
    {
     "data": {
      "text/plain": [
       "[<matplotlib.lines.Line2D at 0x1ed3ff2f828>]"
      ]
     },
     "execution_count": 26,
     "metadata": {},
     "output_type": "execute_result"
    },
    {
     "data": {
      "image/png": "[encoded data removed]",
      "text/plain": [
       "<matplotlib.figure.Figure at 0x1ed3fa03550>"
      ]
     },
     "metadata": {},
     "output_type": "display_data"
    }
   ],
   "source": [
    "plt.plot(handles[\"v3-try2\"][\"loss_history\"][:1000])"
   ]
  },
  {
   "cell_type": "code",
   "execution_count": 36,
   "metadata": {
    "hidden": true
   },
   "outputs": [
    {
     "name": "stdout",
     "output_type": "stream",
     "text": [
      "\t fit accuracy: vert  0.4609375 %, \t horiz  0.3955078125 %\n"
     ]
    }
   ],
   "source": [
    "thisscope=\"v3-try1\"\n",
    "with tf.variable_scope(thisscope):\n",
    "        _, loss_value, y, cor_y = sess.run([ handles[thisscope][\"train_op\"], \n",
    "                                             handles[thisscope][\"loss\"],\n",
    "                                             handles[thisscope][\"y\"],\n",
    "                                             handles[thisscope][\"correct_y\"] ] )\n",
    "        \n",
    "        print (\"\\t fit accuracy: vert \", np.mean( np.argmax(y[0],axis=1) == cor_y[0] ), \n",
    "                      \"%, \\t horiz \", np.mean( np.argmax(y[1],axis=1) == cor_y[1] ), \"%\" )"
   ]
  },
  {
   "cell_type": "code",
   "execution_count": 29,
   "metadata": {
    "hidden": true
   },
   "outputs": [
    {
     "data": {
      "text/plain": [
       "(0, 10)"
      ]
     },
     "execution_count": 29,
     "metadata": {},
     "output_type": "execute_result"
    },
    {
     "data": {
      "image/png": "[encoded data removed]",
      "text/plain": [
       "<matplotlib.figure.Figure at 0x1ed3ff6d748>"
      ]
     },
     "metadata": {},
     "output_type": "display_data"
    }
   ],
   "source": [
    "plt.plot(handles[\"v3-try1\"][\"loss_history\"][:1000])\n",
    "plt.ylim(0,10)"
   ]
  },
  {
   "cell_type": "code",
   "execution_count": 43,
   "metadata": {
    "hidden": true
   },
   "outputs": [
    {
     "name": "stdout",
     "output_type": "stream",
     "text": [
      "fit accuracy: vert  0.99609375 %, \t horiz  1.0 %\n"
     ]
    }
   ],
   "source": [
    "_, loss_value, y, cor_y = sess.run([ handles[thisscope][\"train_op\"], \n",
    "                                             handles[thisscope][\"loss\"],\n",
    "                                             handles[thisscope][\"y\"],\n",
    "                                             handles[thisscope][\"correct_y\"] ] )\n",
    "print (\"fit accuracy: vert \", np.mean( np.argmax(y[0],axis=1) == cor_y[0] ), \n",
    "                          \"%, \\t horiz \", np.mean( np.argmax(y[1],axis=1) == cor_y[1] ), \"%\" )\n"
   ]
  },
  {
   "cell_type": "code",
   "execution_count": null,
   "metadata": {
    "hidden": true
   },
   "outputs": [],
   "source": []
  },
  {
   "cell_type": "markdown",
   "metadata": {},
   "source": [
    "## normalization exec"
   ]
  },
  {
   "cell_type": "markdown",
   "metadata": {
    "heading_collapsed": true
   },
   "source": [
    "##### brainstorm"
   ]
  },
  {
   "cell_type": "code",
   "execution_count": 2,
   "metadata": {
    "hidden": true
   },
   "outputs": [],
   "source": [
    "import numpy as np"
   ]
  },
  {
   "cell_type": "code",
   "execution_count": 3,
   "metadata": {
    "hidden": true,
    "scrolled": true
   },
   "outputs": [],
   "source": [
    "a=np.random.random( (200,5,5,16))*np.random.random()*10+(np.random.random()*10-5)"
   ]
  },
  {
   "cell_type": "code",
   "execution_count": 9,
   "metadata": {
    "hidden": true
   },
   "outputs": [],
   "source": [
    "for i in range(15):\n",
    "    a[:,:,:,i] -= np.mean(a[:,:,:,i])\n",
    "    a[:,:,:,i] /= np.std(a[:,:,:,i])\n"
   ]
  },
  {
   "cell_type": "code",
   "execution_count": 7,
   "metadata": {
    "hidden": true
   },
   "outputs": [
    {
     "name": "stdout",
     "output_type": "stream",
     "text": [
      "[0.50487024 0.50879111 0.52172632 0.48474569] [0.53803298 0.48891019 0.46400435 0.48289704] [0.46780977 0.45027463 0.51190159 0.50773672]\n"
     ]
    },
    {
     "ename": "IndexError",
     "evalue": "arrays used as indices must be of integer (or boolean) type",
     "output_type": "error",
     "traceback": [
      "\u001b[1;31m---------------------------------------------------------------------------\u001b[0m",
      "\u001b[1;31mIndexError\u001b[0m                                Traceback (most recent call last)",
      "\u001b[1;32m<ipython-input-7-7aa29e8e2a89>\u001b[0m in \u001b[0;36m<module>\u001b[1;34m()\u001b[0m\n\u001b[0;32m      1\u001b[0m \u001b[0ma\u001b[0m\u001b[1;33m,\u001b[0m\u001b[0mb\u001b[0m\u001b[1;33m,\u001b[0m\u001b[0mc\u001b[0m \u001b[1;33m=\u001b[0m \u001b[0mnp\u001b[0m\u001b[1;33m.\u001b[0m\u001b[0mrandom\u001b[0m\u001b[1;33m.\u001b[0m\u001b[0mrand\u001b[0m\u001b[1;33m(\u001b[0m\u001b[1;36m4\u001b[0m\u001b[1;33m,\u001b[0m\u001b[1;36m5\u001b[0m\u001b[1;33m,\u001b[0m\u001b[1;36m4\u001b[0m\u001b[1;33m,\u001b[0m\u001b[1;36m4\u001b[0m\u001b[1;33m)\u001b[0m\u001b[1;33m,\u001b[0m\u001b[0mnp\u001b[0m\u001b[1;33m.\u001b[0m\u001b[0mrandom\u001b[0m\u001b[1;33m.\u001b[0m\u001b[0mrand\u001b[0m\u001b[1;33m(\u001b[0m\u001b[1;36m4\u001b[0m\u001b[1;33m,\u001b[0m\u001b[1;36m5\u001b[0m\u001b[1;33m,\u001b[0m\u001b[1;36m4\u001b[0m\u001b[1;33m,\u001b[0m\u001b[1;36m4\u001b[0m\u001b[1;33m)\u001b[0m\u001b[1;33m,\u001b[0m\u001b[0mnp\u001b[0m\u001b[1;33m.\u001b[0m\u001b[0mrandom\u001b[0m\u001b[1;33m.\u001b[0m\u001b[0mrand\u001b[0m\u001b[1;33m(\u001b[0m\u001b[1;36m4\u001b[0m\u001b[1;33m,\u001b[0m\u001b[1;36m5\u001b[0m\u001b[1;33m,\u001b[0m\u001b[1;36m4\u001b[0m\u001b[1;33m,\u001b[0m\u001b[1;36m4\u001b[0m\u001b[1;33m)\u001b[0m\u001b[1;33m\u001b[0m\u001b[0m\n\u001b[0;32m      2\u001b[0m \u001b[0mprint\u001b[0m\u001b[1;33m(\u001b[0m\u001b[0mnp\u001b[0m\u001b[1;33m.\u001b[0m\u001b[0mmean\u001b[0m\u001b[1;33m(\u001b[0m\u001b[0ma\u001b[0m\u001b[1;33m,\u001b[0m \u001b[0maxis\u001b[0m\u001b[1;33m=\u001b[0m\u001b[1;33m(\u001b[0m\u001b[1;36m0\u001b[0m\u001b[1;33m,\u001b[0m\u001b[1;36m1\u001b[0m\u001b[1;33m,\u001b[0m\u001b[1;36m2\u001b[0m\u001b[1;33m)\u001b[0m\u001b[1;33m)\u001b[0m\u001b[1;33m,\u001b[0m \u001b[0mnp\u001b[0m\u001b[1;33m.\u001b[0m\u001b[0mmean\u001b[0m\u001b[1;33m(\u001b[0m\u001b[0mb\u001b[0m\u001b[1;33m,\u001b[0m \u001b[0maxis\u001b[0m\u001b[1;33m=\u001b[0m\u001b[1;33m(\u001b[0m\u001b[1;36m0\u001b[0m\u001b[1;33m,\u001b[0m\u001b[1;36m1\u001b[0m\u001b[1;33m,\u001b[0m\u001b[1;36m2\u001b[0m\u001b[1;33m)\u001b[0m\u001b[1;33m)\u001b[0m\u001b[1;33m,\u001b[0m \u001b[0mnp\u001b[0m\u001b[1;33m.\u001b[0m\u001b[0mmean\u001b[0m\u001b[1;33m(\u001b[0m\u001b[0mc\u001b[0m\u001b[1;33m,\u001b[0m \u001b[0maxis\u001b[0m\u001b[1;33m=\u001b[0m\u001b[1;33m(\u001b[0m\u001b[1;36m0\u001b[0m\u001b[1;33m,\u001b[0m\u001b[1;36m1\u001b[0m\u001b[1;33m,\u001b[0m\u001b[1;36m2\u001b[0m\u001b[1;33m)\u001b[0m\u001b[1;33m)\u001b[0m\u001b[1;33m)\u001b[0m\u001b[1;33m\u001b[0m\u001b[0m\n\u001b[1;32m----> 3\u001b[1;33m \u001b[0ma1\u001b[0m\u001b[1;33m,\u001b[0m\u001b[0mb1\u001b[0m\u001b[1;33m,\u001b[0m\u001b[0mc1\u001b[0m \u001b[1;33m=\u001b[0m \u001b[0mnormalize_all\u001b[0m\u001b[1;33m(\u001b[0m\u001b[0ma\u001b[0m\u001b[1;33m,\u001b[0m\u001b[0mb\u001b[0m\u001b[1;33m,\u001b[0m\u001b[0mc\u001b[0m\u001b[1;33m)\u001b[0m\u001b[1;33m\u001b[0m\u001b[0m\n\u001b[0m\u001b[0;32m      4\u001b[0m \u001b[0mprint\u001b[0m\u001b[1;33m(\u001b[0m\u001b[0ma1\u001b[0m\u001b[1;33m,\u001b[0m\u001b[0mb1\u001b[0m\u001b[1;33m,\u001b[0m\u001b[0mc1\u001b[0m\u001b[1;33m)\u001b[0m\u001b[1;33m\u001b[0m\u001b[0m\n",
      "\u001b[1;32m<ipython-input-5-156492998bd6>\u001b[0m in \u001b[0;36mnormalize_all\u001b[1;34m(XB, XC, XD)\u001b[0m\n\u001b[0;32m     14\u001b[0m \u001b[1;33m\u001b[0m\u001b[0m\n\u001b[0;32m     15\u001b[0m     \u001b[1;32mfor\u001b[0m \u001b[0mk\u001b[0m \u001b[1;32min\u001b[0m \u001b[0mXB\u001b[0m\u001b[1;33m:\u001b[0m\u001b[1;33m\u001b[0m\u001b[0m\n\u001b[1;32m---> 16\u001b[1;33m         \u001b[0mj\u001b[0m \u001b[1;33m=\u001b[0m \u001b[0mXB\u001b[0m\u001b[1;33m[\u001b[0m\u001b[0mk\u001b[0m\u001b[1;33m]\u001b[0m\u001b[1;33m\u001b[0m\u001b[0m\n\u001b[0m\u001b[0;32m     17\u001b[0m         \u001b[0maverage1\u001b[0m \u001b[1;33m=\u001b[0m \u001b[0mnp\u001b[0m\u001b[1;33m.\u001b[0m\u001b[0mmean\u001b[0m\u001b[1;33m(\u001b[0m\u001b[0mj\u001b[0m\u001b[1;33m,\u001b[0m \u001b[0maxis\u001b[0m\u001b[1;33m=\u001b[0m\u001b[1;33m(\u001b[0m\u001b[1;36m0\u001b[0m\u001b[1;33m,\u001b[0m\u001b[1;36m1\u001b[0m\u001b[1;33m,\u001b[0m\u001b[1;36m2\u001b[0m\u001b[1;33m)\u001b[0m\u001b[1;33m)\u001b[0m\u001b[1;33m\u001b[0m\u001b[0m\n\u001b[0;32m     18\u001b[0m         \u001b[0mstd1\u001b[0m \u001b[1;33m=\u001b[0m \u001b[0mnp\u001b[0m\u001b[1;33m.\u001b[0m\u001b[0mstd\u001b[0m\u001b[1;33m(\u001b[0m\u001b[0mj\u001b[0m\u001b[1;33m,\u001b[0m\u001b[0maxis\u001b[0m\u001b[1;33m=\u001b[0m\u001b[1;33m(\u001b[0m\u001b[1;36m0\u001b[0m\u001b[1;33m,\u001b[0m\u001b[1;36m1\u001b[0m\u001b[1;33m,\u001b[0m\u001b[1;36m2\u001b[0m\u001b[1;33m)\u001b[0m\u001b[1;33m)\u001b[0m\u001b[1;33m\u001b[0m\u001b[0m\n",
      "\u001b[1;31mIndexError\u001b[0m: arrays used as indices must be of integer (or boolean) type"
     ]
    }
   ],
   "source": [
    "a,b,c = np.random.rand(4,5,4,4),np.random.rand(4,5,4,4),np.random.rand(4,5,4,4)\n",
    "print(np.mean(a, axis=(0,1,2)), np.mean(b, axis=(0,1,2)), np.mean(c, axis=(0,1,2)))\n",
    "a1,b1,c1 = normalize_all(a,b,c)\n",
    "print(a1,b1,c1)"
   ]
  },
  {
   "cell_type": "markdown",
   "metadata": {},
   "source": [
    "##### calc averages (exec)"
   ]
  },
  {
   "cell_type": "code",
   "execution_count": 8,
   "metadata": {
    "ExecuteTime": {
     "end_time": "2019-02-17T22:33:00.868806Z",
     "start_time": "2019-02-17T22:33:00.386304Z"
    }
   },
   "outputs": [],
   "source": [
    "def tftonp(filename, batch_size):\n",
    "    \n",
    "    \n",
    "    ds=dataset_XY_from_TFRecord( layer_name_and_shape_list=[    (\"squeezed_layer_1\", 55, 55, 16), \n",
    "                                                                (\"squeezed_layer_3\", 27, 27, 32),\n",
    "                                                                (\"squeezed_layer_7\", 13, 13, 64)  ], filename=filename )\n",
    "    \n",
    "    dataset = ds.repeat().batch(batch_size)\n",
    "    iterator = dataset.make_one_shot_iterator()\n",
    "    next_element = iterator.get_next()\n",
    "    \n",
    "    dctn = sess.run(next_element)\n",
    "    XB,XC,XD = dctn['squeezed_layer_1'],dctn['squeezed_layer_3'],dctn['squeezed_layer_7']\n",
    "    \n",
    "    \n",
    "    averageb,stdb = normalize_num(XB)\n",
    "    averagec,stdc = normalize_num(XC)\n",
    "    averaged,stdd = normalize_num(XD)\n",
    "    return averageb,stdb,averagec,stdc,averaged,stdd\n",
    "\n",
    "    \n"
   ]
  },
  {
   "cell_type": "code",
   "execution_count": 9,
   "metadata": {
    "ExecuteTime": {
     "end_time": "2019-02-17T22:33:01.335798Z",
     "start_time": "2019-02-17T22:33:00.870805Z"
    }
   },
   "outputs": [],
   "source": [
    "\n",
    "\n",
    "def normalize_xb(XB):\n",
    "    average = np.mean(XB, axis=(0,1,2))\n",
    "    std = np.std(XB, axis=(0,1,2))\n",
    "    normXB = (XB-average)/std\n",
    "    return normXB\n",
    "\n",
    "def normalize3(XB,XC,XD):\n",
    "    return normalize_xb(XB),normalize_xb(XC),normalize_xb(XD)\n",
    "\n",
    "def normalize_num(layer):\n",
    "    average = np.mean(layer, axis=(0,1,2))\n",
    "    std = np.std(layer, axis=(0,1,2))\n",
    "    return average, std\n",
    "\n",
    "def normalize_total(layer,average,std):\n",
    "    normlayer = (layer-average)/std\n",
    "    return normlayer"
   ]
  },
  {
   "cell_type": "markdown",
   "metadata": {
    "heading_collapsed": true
   },
   "source": [
    "###### averages calcsection"
   ]
  },
  {
   "cell_type": "code",
   "execution_count": 14,
   "metadata": {
    "ExecuteTime": {
     "end_time": "2019-02-02T22:32:28.769769Z",
     "start_time": "2019-02-02T22:32:28.568772Z"
    },
    "hidden": true
   },
   "outputs": [
    {
     "name": "stdout",
     "output_type": "stream",
     "text": [
      " Volume in drive C has no label.\n",
      " Volume Serial Number is 22AD-19D4\n",
      "\n",
      " Directory of C:\\Users\\Misha\\Documents\\jupyter\\squeezenet\n",
      "\n",
      "02-Feb-19  04:35 PM    <DIR>          .\n",
      "02-Feb-19  04:35 PM    <DIR>          ..\n",
      "31-Dec-18  02:23 PM    <DIR>          .ipynb_checkpoints\n",
      "15-Dec-18  04:13 PM    <DIR>          classifiers\n",
      "02-Feb-19  04:20 PM    <DIR>          datasets\n",
      "13-Nov-18  06:10 PM    <DIR>          example_picture\n",
      "07-Oct-18  03:10 PM         5,167,371 fromSqueezeNet-v0.ipynb\n",
      "23-Oct-18  05:47 PM         4,013,965 fromSqueezeNet-v2.ipynb\n",
      "28-Oct-18  06:08 PM           462,312 fromSqueezeNet-v3.ipynb\n",
      "15-Dec-18  04:02 PM         2,443,470 fromSqueezeNet-v4.ipynb\n",
      "30-Dec-18  08:28 PM         3,481,577 fromSqueezeNet-v5-fix.ipynb\n",
      "31-Dec-18  02:03 PM           269,601 fromSqueezeNet-v6.ipynb\n",
      "02-Feb-19  04:35 PM         3,272,532 fromSqueezeNet-v7p1.ipynb\n",
      "21-Jan-19  08:45 PM           313,712 fromSqueezeNet-v7p2.ipynb\n",
      "03-Nov-18  03:17 PM               771 os.txt\n",
      "11-Nov-18  10:47 PM             6,051 README.txt\n",
      "02-Feb-19  04:33 PM        92,848,301 stable160_test.tfrec\n",
      "02-Feb-19  04:33 PM       263,675,958 stable160_train.tfrec\n",
      "02-Feb-19  04:33 PM       167,853,868 stable160_valid.tfrec\n",
      "02-Feb-19  04:15 PM             1,626 tryfile\n",
      "04-Nov-18  03:45 PM       200,176,128 XandY_9.tfrec\n",
      "04-Nov-18  03:55 PM     1,979,519,488 XandY_90.tfrec\n",
      "30-Dec-18  05:15 PM       200,176,128 XandY_9c.tfrec\n",
      "31-Dec-18  03:38 PM       169,175,552 XBCDandY_1.tfrec\n",
      "31-Dec-18  04:28 PM       676,702,208 XBCDandY_4.tfrec\n",
      "31-Dec-18  02:25 PM     1,522,579,968 XBCDandY_9.tfrec\n",
      "31-Dec-18  02:48 PM    15,056,624,128 XBCDandY_90.tfrec\n",
      "31-Dec-18  04:30 PM     1,522,579,968 XBCDandY_9p.tfrec\n",
      "              22 File(s) 21,871,344,683 bytes\n",
      "               6 Dir(s)  311,325,212,672 bytes free\n"
     ]
    }
   ],
   "source": [
    "!dir"
   ]
  },
  {
   "cell_type": "markdown",
   "metadata": {
    "heading_collapsed": true
   },
   "source": [
    "###### calculations"
   ]
  },
  {
   "cell_type": "code",
   "execution_count": 20,
   "metadata": {
    "ExecuteTime": {
     "end_time": "2019-01-22T00:13:16.136645Z",
     "start_time": "2019-01-22T00:13:15.929647Z"
    },
    "hidden": true
   },
   "outputs": [],
   "source": [
    "os.chdir(\"C:\\\\Users\\\\Misha\\\\Documents\\\\blender\\\\testpic4\")"
   ]
  },
  {
   "cell_type": "code",
   "execution_count": 41,
   "metadata": {
    "ExecuteTime": {
     "end_time": "2019-02-02T23:13:58.016230Z",
     "start_time": "2019-02-02T23:13:54.048264Z"
    },
    "hidden": true
   },
   "outputs": [],
   "source": [
    "averages_nf160 = tftonp('noflip160_train.tfrec',1000)"
   ]
  },
  {
   "cell_type": "code",
   "execution_count": 27,
   "metadata": {
    "ExecuteTime": {
     "end_time": "2019-02-02T22:36:03.685775Z",
     "start_time": "2019-02-02T22:36:01.021800Z"
    },
    "hidden": true
   },
   "outputs": [],
   "source": [
    "averages_norm160 = tftonp('stable160_train.tfrec',1000)"
   ]
  },
  {
   "cell_type": "code",
   "execution_count": 21,
   "metadata": {
    "ExecuteTime": {
     "end_time": "2019-01-22T00:13:37.135884Z",
     "start_time": "2019-01-22T00:13:16.772145Z"
    },
    "hidden": true
   },
   "outputs": [],
   "source": [
    "averages_150 = tftonp('simple150_train.tfrec', 4600)"
   ]
  },
  {
   "cell_type": "code",
   "execution_count": 47,
   "metadata": {
    "ExecuteTime": {
     "end_time": "2019-02-02T23:28:05.405735Z",
     "start_time": "2019-02-02T23:28:01.931760Z"
    },
    "hidden": true
   },
   "outputs": [],
   "source": [
    "averages_train160 = tftonp('trainonly160_train.tfrec',1000)"
   ]
  },
  {
   "cell_type": "code",
   "execution_count": 15,
   "metadata": {
    "ExecuteTime": {
     "end_time": "2019-01-09T20:13:13.509427Z",
     "start_time": "2019-01-09T20:12:58.147681Z"
    },
    "hidden": true
   },
   "outputs": [],
   "source": [
    "averages_xbc4 = tftonp('XBCDandY_4.tfrec', 4600)"
   ]
  },
  {
   "cell_type": "code",
   "execution_count": 11,
   "metadata": {
    "ExecuteTime": {
     "end_time": "2019-01-10T21:41:11.349200Z",
     "start_time": "2019-01-10T21:40:54.090565Z"
    },
    "hidden": true
   },
   "outputs": [],
   "source": [
    "averages_xbc90 = tftonp('XBCDandY_90.tfrec', 4600)"
   ]
  },
  {
   "cell_type": "markdown",
   "metadata": {
    "heading_collapsed": true
   },
   "source": [
    "###### normaliz all old"
   ]
  },
  {
   "cell_type": "code",
   "execution_count": 8,
   "metadata": {
    "hidden": true
   },
   "outputs": [
    {
     "ename": "SyntaxError",
     "evalue": "invalid syntax (<ipython-input-8-21870262670b>, line 15)",
     "output_type": "error",
     "traceback": [
      "\u001b[1;36m  File \u001b[1;32m\"<ipython-input-8-21870262670b>\"\u001b[1;36m, line \u001b[1;32m15\u001b[0m\n\u001b[1;33m    for k in range(len(XB[])):\u001b[0m\n\u001b[1;37m                          ^\u001b[0m\n\u001b[1;31mSyntaxError\u001b[0m\u001b[1;31m:\u001b[0m invalid syntax\n"
     ]
    }
   ],
   "source": [
    "\n",
    "def normalize_all(XB,XC,XD):\n",
    "    \n",
    "    \n",
    "    average1final = np.zeros(16)\n",
    "    average3final = np.zeros(32)\n",
    "    average7final = np.zeros(64) \n",
    "    std1final = np.zeros(16)\n",
    "    std3final = np.zeros(32)\n",
    "    std7final = np.zeros(64) \n",
    "    \n",
    "    \n",
    "\n",
    "        \n",
    "    for k in range(len(XB[])):\n",
    "        j = XB[:,:,:,k]\n",
    "        average1 = np.mean(j, axis=(0,1,2))\n",
    "        std1 = np.std(j,axis=(0,1,2))\n",
    "        #average1final[k] = (average1final[k]+average1)\n",
    "        #std1final[k] = (std1final[k]+std1)\n",
    "\n",
    "    for k in XC:\n",
    "        j = XC[k]\n",
    "        average3 = np.mean(j, axis=(0,1,2))\n",
    "        std3 = np.std(j,axis=(0,1,2))\n",
    "        #average3final[k] = (average3final[k]+average3)\n",
    "        #std3final[k] = (std3final[k]+std3)\n",
    "\n",
    "\n",
    "    for k in XD:\n",
    "        j = XD[k]\n",
    "        average7 = np.mean(j, axis=(0,1,2))\n",
    "        std7 = np.std(j,axis=(0,1,2))\n",
    "        #average7final[k] = (average7final[k]+average7)\n",
    "        #std7final[k] = (std7final[k]+std7)\n",
    "    \n",
    "\n",
    "    \n",
    "    \n",
    "    normalized1 = (XB-average1)/std1\n",
    "    normalized3 = (XB-average3)/std3\n",
    "    normalized7 = (XB-average7)/std7\n",
    "    \n",
    "    return normalized1, normalized3, normalized7\n",
    "\n",
    "\n",
    "def normalize_all_nbatches(XB,XC,XD, nbatches):\n",
    "    \n",
    "    \n",
    "    average1final = np.zeroes(16)\n",
    "    average3final = np.zeroes(32)\n",
    "    average7final = np.zeroes(64) \n",
    "    std1final = np.zeroes(16)\n",
    "    std3final = np.zeroes(32)\n",
    "    std7final = np.zeroes(64) \n",
    "    \n",
    "    \n",
    "    for i in range(nbatches):\n",
    "        \n",
    "        for k in XB:\n",
    "            j = XB[k]\n",
    "            average1 = np.mean(j, axis=(0,1,2))\n",
    "            std1 = np.std(j,axis=(0,1,2))\n",
    "            average1final[k] = (average1final[k]+average1)\n",
    "            std1final[k] = (std1final[k]+std1)\n",
    "        \n",
    "        for k in XC:\n",
    "            j = XC[k]\n",
    "            average3 = np.mean(j, axis=(0,1,2))\n",
    "            std3 = np.std(j,axis=(0,1,2))\n",
    "            average3final[k] = (average3final[k]+average3)\n",
    "            std3final[k] = (std3final[k]+std3)\n",
    "            \n",
    "\n",
    "        for k in XD:\n",
    "            j = XD[k]\n",
    "            average7 = np.mean(j, axis=(0,1,2))\n",
    "            std7 = np.std(j,axis=(0,1,2))\n",
    "            average7final[k] = (average7final[k]+average7)\n",
    "            std7final[k] = (std7final[k]+std7)\n",
    "    \n",
    "    average1final\n",
    "    \n",
    "    \n",
    "    normalized1 = (XB-average1final)/std1final\n",
    "    normalized3 = (XB-average3final)/std3final\n",
    "    normalized7 = (XB-average7final)/std7final\n",
    "    \n",
    "    return normalized1, normalized3, normalized7\n",
    "\n"
   ]
  },
  {
   "cell_type": "markdown",
   "metadata": {
    "heading_collapsed": true
   },
   "source": [
    "## version 4"
   ]
  },
  {
   "cell_type": "code",
   "execution_count": 19,
   "metadata": {
    "ExecuteTime": {
     "end_time": "2019-02-08T00:11:15.577110Z",
     "start_time": "2019-02-08T00:11:15.355112Z"
    },
    "hidden": true
   },
   "outputs": [],
   "source": [
    "def appended_full_model_v4(filename, averages, batch_size=2, reuse=False):\n",
    "    \n",
    "    #no coordinates\n",
    "    ds=dataset_XYclassif_from_TFRecord( layer_name_and_shape_list=[    (\"squeezed_layer_1\", 55, 55, 16), \n",
    "                                                                (\"squeezed_layer_3\", 27, 27, 32),\n",
    "                                                                (\"squeezed_layer_7\", 13, 13, 64)  ], filename=filename )\n",
    "    dsbatched=ds.repeat().shuffle(4600).batch(batch_size)\n",
    "    iterator= dsbatched.make_one_shot_iterator()\n",
    "    nextdict=iterator.get_next()\n",
    "    a1,s1,a3,s3,a7,s7=averages\n",
    "    layers, var_list = appended_model_v2( ((nextdict['squeezed_layer_7']-a7)/s7), \n",
    "                                          ((nextdict['squeezed_layer_3']-a3)/s3),\n",
    "                                          ((nextdict['squeezed_layer_1']-a1)/s1), reuse )\n",
    "    y=tf.reshape(layers[-1],[-1,6])\n",
    "    y_vert = y[:,:3]\n",
    "    y_horiz = y[:,3:]\n",
    "    \n",
    "    loss_vert = tf.reduce_mean(tf.nn.softmax_cross_entropy_with_logits(labels=tf.one_hot(nextdict['class_vert'], 3), \n",
    "                                                                        logits=y_vert\n",
    "                                                                       ))\n",
    "    loss_horiz = tf.reduce_mean(tf.nn.softmax_cross_entropy_with_logits(labels=tf.one_hot(nextdict['class_horiz'], 3), \n",
    "                                                                        logits=y_horiz\n",
    "                                                                       ))\n",
    "    loss = loss_vert + loss_horiz\n",
    "    \n",
    "    return (y_vert,y_horiz), (nextdict['class_vert'],nextdict['class_horiz']), loss, var_list"
   ]
  },
  {
   "cell_type": "markdown",
   "metadata": {
    "hidden": true
   },
   "source": [
    "#### train"
   ]
  },
  {
   "cell_type": "code",
   "execution_count": 13,
   "metadata": {
    "ExecuteTime": {
     "end_time": "2019-02-10T20:23:01.126748Z",
     "start_time": "2019-02-10T20:23:00.918750Z"
    },
    "hidden": true
   },
   "outputs": [],
   "source": [
    "def initialize_training_forfunc_averages(scopename, func, averages, filename, batch_size=1024,learning_rate=0.003,beta1=0.95, reuse=False, optname=\"a\"):\n",
    "    with tf.variable_scope(scopename):\n",
    "        y, correct_y, loss, var_list = func(filename, averages, batch_size=batch_size, reuse=reuse )\n",
    "        op = tf.train.AdamOptimizer(name=optname,learning_rate=learning_rate,beta1=beta1)\n",
    "        train_op=op.minimize(loss)\n",
    "        initialize_model(var_list, sess)\n",
    "        sess.run(tf.variables_initializer(op.variables()))\n",
    "    return {\"y\":y, \"correct_y\":correct_y, \"loss\":loss, \"train_op\":train_op, \"loss_history\": [], \"val_history\":[], \"fit_history\":[]}"
   ]
  },
  {
   "cell_type": "markdown",
   "metadata": {
    "heading_collapsed": true,
    "hidden": true
   },
   "source": [
    "##### v4-try1"
   ]
  },
  {
   "cell_type": "code",
   "execution_count": 28,
   "metadata": {
    "ExecuteTime": {
     "end_time": "2019-01-09T20:56:35.127585Z",
     "start_time": "2019-01-09T20:56:33.990604Z"
    },
    "hidden": true
   },
   "outputs": [
    {
     "name": "stdout",
     "output_type": "stream",
     "text": [
      "WARNING:tensorflow:case: An unordered dictionary of predicate/fn pairs was provided, but exclusive=False. The order of conditional tests is deterministic but not guaranteed.\n",
      "WARNING:tensorflow:case: An unordered dictionary of predicate/fn pairs was provided, but exclusive=False. The order of conditional tests is deterministic but not guaranteed.\n"
     ]
    }
   ],
   "source": [
    "thisscope=\"v4-try1\"\n",
    "handles[thisscope] = initialize_training_forfunc_averages(thisscope, appended_full_model_v4, averages_xbc4, \"XBCDandY_4.tfrec\")"
   ]
  },
  {
   "cell_type": "markdown",
   "metadata": {
    "heading_collapsed": true,
    "hidden": true
   },
   "source": [
    "###### results"
   ]
  },
  {
   "cell_type": "code",
   "execution_count": 29,
   "metadata": {
    "ExecuteTime": {
     "end_time": "2019-01-09T21:00:06.913239Z",
     "start_time": "2019-01-09T20:56:46.296405Z"
    },
    "hidden": true
   },
   "outputs": [
    {
     "name": "stdout",
     "output_type": "stream",
     "text": [
      "batch  0\t fit accuracy: vert  0.2021484375 %, \t horiz  0.2880859375 %\n",
      "batch  10\t fit accuracy: vert  0.7802734375 %, \t horiz  0.4169921875 %\n",
      "batch  20\t fit accuracy: vert  0.7568359375 %, \t horiz  0.5009765625 %\n",
      "batch  30\t fit accuracy: vert  0.8720703125 %, \t horiz  0.6826171875 %\n",
      "batch  40\t fit accuracy: vert  0.9990234375 %, \t horiz  0.892578125 %\n",
      "batch  50\t fit accuracy: vert  1.0 %, \t horiz  0.9404296875 %\n",
      "batch  60\t fit accuracy: vert  1.0 %, \t horiz  0.9765625 %\n",
      "batch  70\t fit accuracy: vert  1.0 %, \t horiz  0.990234375 %\n",
      "batch  80\t fit accuracy: vert  1.0 %, \t horiz  0.998046875 %\n",
      "batch  90\t fit accuracy: vert  1.0 %, \t horiz  1.0 %\n"
     ]
    }
   ],
   "source": [
    "thisscope=\"v4-try1\"\n",
    "with tf.variable_scope(thisscope):\n",
    "    for i in range(100):\n",
    "        if i%10==0:\n",
    "            print (\"batch \",i,end=\"\")\n",
    "        _, loss_value, y, cor_y = sess.run([ handles[thisscope][\"train_op\"], \n",
    "                                             handles[thisscope][\"loss\"],\n",
    "                                             handles[thisscope][\"y\"],\n",
    "                                             handles[thisscope][\"correct_y\"] ] )\n",
    "        \n",
    "        if i%10==0:\n",
    "            print (\"\\t fit accuracy: vert \", np.mean( np.argmax(y[0],axis=1) == cor_y[0] ), \n",
    "                          \"%, \\t horiz \", np.mean( np.argmax(y[1],axis=1) == cor_y[1] ), \"%\" )\n",
    "        handles[thisscope][\"loss_history\"].append(loss_value)"
   ]
  },
  {
   "cell_type": "markdown",
   "metadata": {
    "hidden": true
   },
   "source": []
  },
  {
   "cell_type": "code",
   "execution_count": 30,
   "metadata": {
    "ExecuteTime": {
     "end_time": "2019-01-09T21:16:50.441328Z",
     "start_time": "2019-01-09T21:16:48.296363Z"
    },
    "hidden": true
   },
   "outputs": [
    {
     "name": "stdout",
     "output_type": "stream",
     "text": [
      "\t fit accuracy: vert  1.0 %, \t horiz  1.0 %\n"
     ]
    }
   ],
   "source": [
    "\n",
    "with tf.variable_scope(thisscope):\n",
    "        _, loss_value, y, cor_y = sess.run([ handles[thisscope][\"train_op\"], \n",
    "                                             handles[thisscope][\"loss\"],\n",
    "                                             handles[thisscope][\"y\"],\n",
    "                                             handles[thisscope][\"correct_y\"] ] )\n",
    "        \n",
    "        print (\"\\t fit accuracy: vert \", np.mean( np.argmax(y[0],axis=1) == cor_y[0] ), \n",
    "                      \"%, \\t horiz \", np.mean( np.argmax(y[1],axis=1) == cor_y[1] ), \"%\" )"
   ]
  },
  {
   "cell_type": "code",
   "execution_count": 31,
   "metadata": {
    "ExecuteTime": {
     "end_time": "2019-01-09T21:16:52.918457Z",
     "start_time": "2019-01-09T21:16:52.174470Z"
    },
    "hidden": true
   },
   "outputs": [
    {
     "data": {
      "text/plain": [
       "(0, 5)"
      ]
     },
     "execution_count": 31,
     "metadata": {},
     "output_type": "execute_result"
    },
    {
     "data": {
      "image/png": "[encoded data removed]",
      "text/plain": [
       "<matplotlib.figure.Figure at 0x1d517c4ca20>"
      ]
     },
     "metadata": {},
     "output_type": "display_data"
    }
   ],
   "source": [
    "plt.plot(handles[thisscope][\"loss_history\"][:1000])\n",
    "plt.ylim(0,5)"
   ]
  },
  {
   "cell_type": "markdown",
   "metadata": {
    "heading_collapsed": true,
    "hidden": true
   },
   "source": [
    "##### v4-tr2"
   ]
  },
  {
   "cell_type": "code",
   "execution_count": null,
   "metadata": {
    "hidden": true
   },
   "outputs": [],
   "source": []
  },
  {
   "cell_type": "code",
   "execution_count": 42,
   "metadata": {
    "ExecuteTime": {
     "end_time": "2019-01-10T01:42:40.933484Z",
     "start_time": "2019-01-10T01:42:39.237514Z"
    },
    "hidden": true
   },
   "outputs": [
    {
     "name": "stdout",
     "output_type": "stream",
     "text": [
      "WARNING:tensorflow:case: An unordered dictionary of predicate/fn pairs was provided, but exclusive=False. The order of conditional tests is deterministic but not guaranteed.\n",
      "WARNING:tensorflow:case: An unordered dictionary of predicate/fn pairs was provided, but exclusive=False. The order of conditional tests is deterministic but not guaranteed.\n"
     ]
    }
   ],
   "source": [
    "thisscope=\"v4-try4\"\n",
    "handles[thisscope] = initialize_training_forfunc_averages(thisscope, appended_full_model_v4, averages_xbc90, \"XBCDandY_90.tfrec\")"
   ]
  },
  {
   "cell_type": "code",
   "execution_count": 44,
   "metadata": {
    "ExecuteTime": {
     "end_time": "2019-01-10T01:54:53.701672Z",
     "start_time": "2019-01-10T01:45:10.426864Z"
    },
    "hidden": true,
    "scrolled": false
   },
   "outputs": [
    {
     "name": "stdout",
     "output_type": "stream",
     "text": [
      "batch  0\t fit accuracy: vert  0.2919921875 %, \t horiz  0.380859375 %\n",
      "batch  10\t fit accuracy: vert  0.298828125 %, \t horiz  0.3427734375 %\n",
      "batch  20\t fit accuracy: vert  0.2744140625 %, \t horiz  0.345703125 %\n",
      "batch  30\t fit accuracy: vert  0.4130859375 %, \t horiz  0.423828125 %\n",
      "batch  40\t fit accuracy: vert  0.396484375 %, \t horiz  0.3828125 %\n",
      "batch  50\t fit accuracy: vert  0.4345703125 %, \t horiz  0.3740234375 %\n",
      "batch  60\t fit accuracy: vert  0.427734375 %, \t horiz  0.404296875 %\n",
      "batch  70\t fit accuracy: vert  0.513671875 %, \t horiz  0.35546875 %\n",
      "batch  80\t fit accuracy: vert  0.7041015625 %, \t horiz  0.6796875 %\n",
      "batch  90\t fit accuracy: vert  0.484375 %, \t horiz  0.4814453125 %\n"
     ]
    }
   ],
   "source": [
    "thisscope=\"v4-try4\"\n",
    "with tf.variable_scope(thisscope):\n",
    "    for i in range(100):\n",
    "        if i%10==0:\n",
    "            print (\"batch \",i,end=\"\")\n",
    "        _, loss_value, y, cor_y = sess.run([ handles[thisscope][\"train_op\"], \n",
    "                                             handles[thisscope][\"loss\"],\n",
    "                                             handles[thisscope][\"y\"],\n",
    "                                             handles[thisscope][\"correct_y\"] ] )\n",
    "        \n",
    "        if i%10==0:\n",
    "            print (\"\\t fit accuracy: vert \", np.mean( np.argmax(y[0],axis=1) == cor_y[0] ), \n",
    "                          \"%, \\t horiz \", np.mean( np.argmax(y[1],axis=1) == cor_y[1] ), \"%\" )\n",
    "        handles[thisscope][\"loss_history\"].append(loss_value)"
   ]
  },
  {
   "cell_type": "code",
   "execution_count": 45,
   "metadata": {
    "ExecuteTime": {
     "end_time": "2019-01-10T01:58:25.667373Z",
     "start_time": "2019-01-10T01:58:08.292769Z"
    },
    "hidden": true
   },
   "outputs": [
    {
     "name": "stdout",
     "output_type": "stream",
     "text": [
      "\t fit accuracy: vert  0.4697265625 %, \t horiz  0.591796875 %\n"
     ]
    }
   ],
   "source": [
    "\n",
    "with tf.variable_scope(thisscope):\n",
    "        _, loss_value, y, cor_y = sess.run([ handles[thisscope][\"train_op\"], \n",
    "                                             handles[thisscope][\"loss\"],\n",
    "                                             handles[thisscope][\"y\"],\n",
    "                                             handles[thisscope][\"correct_y\"] ] )\n",
    "        \n",
    "        print (\"\\t fit accuracy: vert \", np.mean( np.argmax(y[0],axis=1) == cor_y[0] ), \n",
    "                      \"%, \\t horiz \", np.mean( np.argmax(y[1],axis=1) == cor_y[1] ), \"%\" )"
   ]
  },
  {
   "cell_type": "code",
   "execution_count": 31,
   "metadata": {
    "ExecuteTime": {
     "end_time": "2019-01-09T21:16:52.918457Z",
     "start_time": "2019-01-09T21:16:52.174470Z"
    },
    "hidden": true,
    "scrolled": true
   },
   "outputs": [
    {
     "data": {
      "text/plain": [
       "(0, 5)"
      ]
     },
     "execution_count": 31,
     "metadata": {},
     "output_type": "execute_result"
    },
    {
     "data": {
      "image/png": "[encoded data removed]",
      "text/plain": [
       "<matplotlib.figure.Figure at 0x1d517c4ca20>"
      ]
     },
     "metadata": {},
     "output_type": "display_data"
    }
   ],
   "source": [
    "plt.plot(handles[thisscope][\"loss_history\"][:1000])\n",
    "plt.ylim(0,5)"
   ]
  },
  {
   "cell_type": "markdown",
   "metadata": {
    "heading_collapsed": true,
    "hidden": true
   },
   "source": [
    "##### v4-try4long"
   ]
  },
  {
   "cell_type": "code",
   "execution_count": null,
   "metadata": {
    "hidden": true
   },
   "outputs": [],
   "source": []
  },
  {
   "cell_type": "code",
   "execution_count": 15,
   "metadata": {
    "ExecuteTime": {
     "end_time": "2019-01-10T23:04:51.891251Z",
     "start_time": "2019-01-10T23:04:50.770275Z"
    },
    "hidden": true
   },
   "outputs": [
    {
     "name": "stdout",
     "output_type": "stream",
     "text": [
      "WARNING:tensorflow:case: An unordered dictionary of predicate/fn pairs was provided, but exclusive=False. The order of conditional tests is deterministic but not guaranteed.\n",
      "WARNING:tensorflow:case: An unordered dictionary of predicate/fn pairs was provided, but exclusive=False. The order of conditional tests is deterministic but not guaranteed.\n",
      "WARNING:tensorflow:From <ipython-input-13-3b36a415d19f>:19: softmax_cross_entropy_with_logits (from tensorflow.python.ops.nn_ops) is deprecated and will be removed in a future version.\n",
      "Instructions for updating:\n",
      "\n",
      "Future major versions of TensorFlow will allow gradients to flow\n",
      "into the labels input on backprop by default.\n",
      "\n",
      "See @{tf.nn.softmax_cross_entropy_with_logits_v2}.\n",
      "\n"
     ]
    }
   ],
   "source": [
    "thisscope=\"v4-try4long\"\n",
    "handles[thisscope] = initialize_training_forfunc_averages(thisscope, appended_full_model_v4, averages_xbc90, \"XBCDandY_90.tfrec\", optname=\"a\")"
   ]
  },
  {
   "cell_type": "code",
   "execution_count": 16,
   "metadata": {
    "ExecuteTime": {
     "end_time": "2019-01-11T00:11:18.845600Z",
     "start_time": "2019-01-10T23:04:53.539215Z"
    },
    "collapsed": true,
    "hidden": true
   },
   "outputs": [
    {
     "name": "stdout",
     "output_type": "stream",
     "text": [
      "batch  0\t fit accuracy: vert  0.3994140625 %, \t horiz  0.34375 %\n",
      "batch  10\t fit accuracy: vert  0.2373046875 %, \t horiz  0.3115234375 %\n",
      "batch  20\t fit accuracy: vert  0.2490234375 %, \t horiz  0.296875 %\n",
      "batch  30\t fit accuracy: vert  0.392578125 %, \t horiz  0.4052734375 %\n",
      "batch  40\t fit accuracy: vert  0.349609375 %, \t horiz  0.36328125 %\n",
      "batch  50\t fit accuracy: vert  0.4013671875 %, \t horiz  0.3984375 %\n",
      "batch  60\t fit accuracy: vert  0.4716796875 %, \t horiz  0.4423828125 %\n",
      "batch  70\t fit accuracy: vert  0.3251953125 %, \t horiz  0.376953125 %\n",
      "batch  80\t fit accuracy: vert  0.580078125 %, \t horiz  0.5556640625 %\n",
      "batch  90\t fit accuracy: vert  0.611328125 %, \t horiz  0.3916015625 %\n",
      "batch  100\t fit accuracy: vert  0.580078125 %, \t horiz  0.6064453125 %\n",
      "batch  110\t fit accuracy: vert  0.49609375 %, \t horiz  0.462890625 %\n",
      "batch  120\t fit accuracy: vert  0.63671875 %, \t horiz  0.5322265625 %\n",
      "batch  130\t fit accuracy: vert  0.4482421875 %, \t horiz  0.4287109375 %\n",
      "batch  140\t fit accuracy: vert  0.564453125 %, \t horiz  0.5341796875 %\n",
      "batch  150\t fit accuracy: vert  0.685546875 %, \t horiz  0.52734375 %\n",
      "batch  160\t fit accuracy: vert  0.4091796875 %, \t horiz  0.4619140625 %\n",
      "batch  170\t fit accuracy: vert  0.775390625 %, \t horiz  0.7158203125 %\n",
      "batch  180\t fit accuracy: vert  0.443359375 %, \t horiz  0.435546875 %\n",
      "batch  190\t fit accuracy: vert  0.740234375 %, \t horiz  0.6142578125 %\n",
      "batch  200\t fit accuracy: vert  0.6748046875 %, \t horiz  0.5869140625 %\n",
      "batch  210\t fit accuracy: vert  0.7900390625 %, \t horiz  0.689453125 %\n",
      "batch  220\t fit accuracy: vert  0.6416015625 %, \t horiz  0.560546875 %\n",
      "batch  230\t fit accuracy: vert  0.6708984375 %, \t horiz  0.74609375 %\n",
      "batch  240\t fit accuracy: vert  0.779296875 %, \t horiz  0.6494140625 %\n",
      "batch  250\t fit accuracy: vert  0.6865234375 %, \t horiz  0.5126953125 %\n",
      "batch  260\t fit accuracy: vert  0.7666015625 %, \t horiz  0.669921875 %\n",
      "batch  270\t fit accuracy: vert  0.62890625 %, \t horiz  0.51953125 %\n",
      "batch  280\t fit accuracy: vert  0.787109375 %, \t horiz  0.75390625 %\n",
      "batch  290\t fit accuracy: vert  0.7958984375 %, \t horiz  0.591796875 %\n",
      "batch  300\t fit accuracy: vert  0.79296875 %, \t horiz  0.7841796875 %\n",
      "batch  310\t fit accuracy: vert  0.7099609375 %, \t horiz  0.7216796875 %\n",
      "batch  320\t fit accuracy: vert  0.7880859375 %, \t horiz  0.810546875 %\n",
      "batch  330\t fit accuracy: vert  0.8095703125 %, \t horiz  0.6962890625 %\n",
      "batch  340\t fit accuracy: vert  0.7138671875 %, \t horiz  0.6220703125 %\n",
      "batch  350\t fit accuracy: vert  0.76953125 %, \t horiz  0.7392578125 %\n",
      "batch  360\t fit accuracy: vert  0.62109375 %, \t horiz  0.556640625 %\n",
      "batch  370\t fit accuracy: vert  0.91796875 %, \t horiz  0.71875 %\n",
      "batch  380\t fit accuracy: vert  0.82421875 %, \t horiz  0.609375 %\n",
      "batch  390\t fit accuracy: vert  0.7841796875 %, \t horiz  0.8681640625 %\n",
      "batch  400\t fit accuracy: vert  0.7900390625 %, \t horiz  0.76953125 %\n",
      "batch  410\t fit accuracy: vert  0.8271484375 %, \t horiz  0.826171875 %\n",
      "batch  420\t fit accuracy: vert  0.8740234375 %, \t horiz  0.744140625 %\n",
      "batch  430\t fit accuracy: vert  0.84375 %, \t horiz  0.7451171875 %\n",
      "batch  440\t fit accuracy: vert  0.7587890625 %, \t horiz  0.7216796875 %\n",
      "batch  450\t fit accuracy: vert  0.71484375 %, \t horiz  0.7236328125 %\n",
      "batch  460\t fit accuracy: vert  0.8984375 %, \t horiz  0.7109375 %\n",
      "batch  470\t fit accuracy: vert  0.6806640625 %, \t horiz  0.65625 %\n",
      "batch  480\t fit accuracy: vert  0.9189453125 %, \t horiz  0.892578125 %\n",
      "batch  490\t fit accuracy: vert  0.869140625 %, \t horiz  0.75 %\n",
      "batch  500\t fit accuracy: vert  0.9052734375 %, \t horiz  0.8046875 %\n",
      "batch  510\t fit accuracy: vert  0.796875 %, \t horiz  0.80078125 %\n",
      "batch  520\t fit accuracy: vert  0.8896484375 %, \t horiz  0.8388671875 %\n",
      "batch  530\t fit accuracy: vert  0.751953125 %, \t horiz  0.7626953125 %\n",
      "batch  540\t fit accuracy: vert  0.7734375 %, \t horiz  0.7978515625 %\n",
      "batch  550\t fit accuracy: vert  0.7822265625 %, \t horiz  0.794921875 %\n",
      "batch  560\t fit accuracy: vert  0.7353515625 %, \t horiz  0.6767578125 %\n",
      "batch  570\t fit accuracy: vert  0.919921875 %, \t horiz  0.865234375 %\n",
      "batch  580\t fit accuracy: vert  0.828125 %, \t horiz  0.81640625 %\n",
      "batch  590\t fit accuracy: vert  0.8896484375 %, \t horiz  0.8701171875 %\n",
      "batch  600\t fit accuracy: vert  0.814453125 %, \t horiz  0.7919921875 %\n",
      "batch  610\t fit accuracy: vert  0.9423828125 %, \t horiz  0.869140625 %\n",
      "batch  620\t fit accuracy: vert  0.876953125 %, \t horiz  0.8125 %\n",
      "batch  630\t fit accuracy: vert  0.8291015625 %, \t horiz  0.8662109375 %\n",
      "batch  640\t fit accuracy: vert  0.9287109375 %, \t horiz  0.8251953125 %\n",
      "batch  650\t fit accuracy: vert  0.8349609375 %, \t horiz  0.73828125 %\n",
      "batch  660\t fit accuracy: vert  0.953125 %, \t horiz  0.7734375 %\n",
      "batch  670\t fit accuracy: vert  0.7509765625 %, \t horiz  0.7470703125 %\n",
      "batch  680\t fit accuracy: vert  0.923828125 %, \t horiz  0.8994140625 %\n",
      "batch  690\t fit accuracy: vert  0.869140625 %, \t horiz  0.791015625 %\n",
      "batch  700\t fit accuracy: vert  0.9580078125 %, \t horiz  0.880859375 %\n",
      "batch  710\t fit accuracy: vert  0.8759765625 %, \t horiz  0.8955078125 %\n",
      "batch  720\t fit accuracy: vert  0.8984375 %, \t horiz  0.908203125 %\n",
      "batch  730\t fit accuracy: vert  0.939453125 %, \t horiz  0.892578125 %\n",
      "batch  740\t fit accuracy: vert  0.8759765625 %, \t horiz  0.7587890625 %\n",
      "batch  750\t fit accuracy: vert  0.9013671875 %, \t horiz  0.9287109375 %\n",
      "batch  760\t fit accuracy: vert  0.7705078125 %, \t horiz  0.787109375 %\n",
      "batch  770\t fit accuracy: vert  0.9423828125 %, \t horiz  0.9169921875 %\n",
      "batch  780\t fit accuracy: vert  0.88671875 %, \t horiz  0.7998046875 %\n",
      "batch  790\t fit accuracy: vert  0.923828125 %, \t horiz  0.9296875 %\n",
      "batch  800\t fit accuracy: vert  0.912109375 %, \t horiz  0.888671875 %\n",
      "batch  810\t fit accuracy: vert  0.9248046875 %, \t horiz  0.9248046875 %\n",
      "batch  820\t fit accuracy: vert  0.9482421875 %, \t horiz  0.8251953125 %\n",
      "batch  830\t fit accuracy: vert  0.8984375 %, \t horiz  0.826171875 %\n",
      "batch  840\t fit accuracy: vert  0.880859375 %, \t horiz  0.9169921875 %\n",
      "batch  850\t fit accuracy: vert  0.81640625 %, \t horiz  0.7978515625 %\n",
      "batch  860\t fit accuracy: vert  0.95703125 %, \t horiz  0.8134765625 %\n",
      "batch  870\t fit accuracy: vert  0.873046875 %, \t horiz  0.765625 %\n",
      "batch  880\t fit accuracy: vert  0.96875 %, \t horiz  0.9345703125 %\n",
      "batch  890\t fit accuracy: vert  0.90234375 %, \t horiz  0.8525390625 %\n",
      "batch  900\t fit accuracy: vert  0.9423828125 %, \t horiz  0.8955078125 %\n",
      "batch  910\t fit accuracy: vert  0.8642578125 %, \t horiz  0.8798828125 %\n",
      "batch  920\t fit accuracy: vert  0.951171875 %, \t horiz  0.833984375 %\n",
      "batch  930\t fit accuracy: vert  0.8994140625 %, \t horiz  0.921875 %\n",
      "batch  940\t fit accuracy: vert  0.8544921875 %, \t horiz  0.8681640625 %\n",
      "batch  950\t fit accuracy: vert  0.9560546875 %, \t horiz  0.8623046875 %\n",
      "batch  960\t fit accuracy: vert  0.87109375 %, \t horiz  0.8134765625 %\n",
      "batch  970\t fit accuracy: vert  0.9541015625 %, \t horiz  0.9482421875 %\n",
      "batch  980\t fit accuracy: vert  0.916015625 %, \t horiz  0.8779296875 %\n",
      "batch  990\t fit accuracy: vert  0.953125 %, \t horiz  0.94921875 %\n"
     ]
    }
   ],
   "source": [
    "thisscope=\"v4-try4long\"\n",
    "with tf.variable_scope(thisscope):\n",
    "    for i in range(1000):\n",
    "        if i%10==0:\n",
    "            print (\"batch \",i,end=\"\")\n",
    "        _, loss_value, y, cor_y = sess.run([ handles[thisscope][\"train_op\"], \n",
    "                                             handles[thisscope][\"loss\"],\n",
    "                                             handles[thisscope][\"y\"],\n",
    "                                             handles[thisscope][\"correct_y\"] ] )\n",
    "        \n",
    "        if i%10==0:\n",
    "            print (\"\\t fit accuracy: vert \", np.mean( np.argmax(y[0],axis=1) == cor_y[0] ), \n",
    "                          \"%, \\t horiz \", np.mean( np.argmax(y[1],axis=1) == cor_y[1] ), \"%\" )\n",
    "        handles[thisscope][\"loss_history\"].append(loss_value)"
   ]
  },
  {
   "cell_type": "code",
   "execution_count": 17,
   "metadata": {
    "ExecuteTime": {
     "end_time": "2019-01-11T01:43:50.448860Z",
     "start_time": "2019-01-11T01:43:28.935221Z"
    },
    "hidden": true
   },
   "outputs": [
    {
     "name": "stdout",
     "output_type": "stream",
     "text": [
      "\t fit accuracy: vert  0.84765625 %, \t horiz  0.8544921875 %\n"
     ]
    }
   ],
   "source": [
    "\n",
    "with tf.variable_scope(thisscope):\n",
    "        _, loss_value, y, cor_y = sess.run([ handles[thisscope][\"train_op\"], \n",
    "                                             handles[thisscope][\"loss\"],\n",
    "                                             handles[thisscope][\"y\"],\n",
    "                                             handles[thisscope][\"correct_y\"] ] )\n",
    "        \n",
    "        print (\"\\t fit accuracy: vert \", np.mean( np.argmax(y[0],axis=1) == cor_y[0] ), \n",
    "                      \"%, \\t horiz \", np.mean( np.argmax(y[1],axis=1) == cor_y[1] ), \"%\" )"
   ]
  },
  {
   "cell_type": "code",
   "execution_count": 18,
   "metadata": {
    "ExecuteTime": {
     "end_time": "2019-01-11T01:43:51.944835Z",
     "start_time": "2019-01-11T01:43:50.451860Z"
    },
    "hidden": true,
    "scrolled": true
   },
   "outputs": [
    {
     "data": {
      "text/plain": [
       "(0, 5)"
      ]
     },
     "execution_count": 18,
     "metadata": {},
     "output_type": "execute_result"
    },
    {
     "data": {
      "image/png": "[encoded data removed]",
      "text/plain": [
       "<matplotlib.figure.Figure at 0x2749afef668>"
      ]
     },
     "metadata": {},
     "output_type": "display_data"
    }
   ],
   "source": [
    "plt.plot(handles[thisscope][\"loss_history\"][:1000])\n",
    "plt.ylim(0,5)"
   ]
  },
  {
   "cell_type": "markdown",
   "metadata": {},
   "source": [
    "## w/ validation"
   ]
  },
  {
   "cell_type": "markdown",
   "metadata": {},
   "source": [
    "###### functions"
   ]
  },
  {
   "cell_type": "code",
   "execution_count": 33,
   "metadata": {
    "ExecuteTime": {
     "end_time": "2019-02-10T23:44:02.444195Z",
     "start_time": "2019-02-10T23:44:02.227198Z"
    }
   },
   "outputs": [],
   "source": [
    "def valacc(thisscope, filename, averages, batch):\n",
    "    with tf.variable_scope(thisscope):\n",
    "        y , ycor, _, _ = appended_full_model_v4(filename, averages, batch_size=batch, reuse=True)\n",
    "        \n",
    "        y_num, ycor_num = sess.run ([y,ycor])\n",
    "        a,b = np.mean( np.argmax(y_num[0],axis=1) == ycor_num[0] )*100, np.mean( np.argmax(y_num[1],axis=1) == ycor_num[1] )*100 \n",
    "        print (\"\\t validation accuracy: vert \",a,  \"%, \\t horiz \", b,\"%\" )\n",
    "        return a,b"
   ]
  },
  {
   "cell_type": "code",
   "execution_count": 22,
   "metadata": {
    "ExecuteTime": {
     "end_time": "2019-02-02T22:34:10.139884Z",
     "start_time": "2019-02-02T22:34:09.937887Z"
    }
   },
   "outputs": [
    {
     "ename": "NameError",
     "evalue": "name '__file__' is not defined",
     "output_type": "error",
     "traceback": [
      "\u001b[1;31m---------------------------------------------------------------------------\u001b[0m",
      "\u001b[1;31mNameError\u001b[0m                                 Traceback (most recent call last)",
      "\u001b[1;32m<ipython-input-22-d60d37328356>\u001b[0m in \u001b[0;36m<module>\u001b[1;34m()\u001b[0m\n\u001b[1;32m----> 1\u001b[1;33m \u001b[1;32mdef\u001b[0m \u001b[0mload_train_and_val\u001b[0m \u001b[1;33m(\u001b[0m\u001b[0mtrain\u001b[0m\u001b[1;33m=\u001b[0m\u001b[1;36m1\u001b[0m\u001b[1;33m,\u001b[0m \u001b[0mvalid\u001b[0m\u001b[1;33m=\u001b[0m\u001b[1;36m1\u001b[0m\u001b[1;33m,\u001b[0m \u001b[0mtest\u001b[0m\u001b[1;33m=\u001b[0m\u001b[1;36m1\u001b[0m\u001b[1;33m,\u001b[0m \u001b[0mpath\u001b[0m\u001b[1;33m=\u001b[0m\u001b[0m__file__\u001b[0m\u001b[1;33m,\u001b[0m \u001b[0mfilename\u001b[0m\u001b[1;33m=\u001b[0m\u001b[1;34m\"default\"\u001b[0m\u001b[1;33m)\u001b[0m\u001b[1;33m:\u001b[0m\u001b[1;33m\u001b[0m\u001b[0m\n\u001b[0m\u001b[0;32m      2\u001b[0m     \u001b[0mgenerate_XFeat_and_Y_TFRecord\u001b[0m\u001b[1;33m(\u001b[0m  \u001b[0min_list\u001b[0m\u001b[1;33m[\u001b[0m\u001b[1;33m:\u001b[0m\u001b[0mtrain\u001b[0m\u001b[1;33m]\u001b[0m\u001b[1;33m,\u001b[0m \u001b[0mmy_Xraw\u001b[0m\u001b[1;33m[\u001b[0m\u001b[1;33m:\u001b[0m\u001b[0mtrain\u001b[0m\u001b[1;33m]\u001b[0m\u001b[1;33m,\u001b[0m \u001b[0mmy_Xref\u001b[0m\u001b[1;33m[\u001b[0m\u001b[1;33m:\u001b[0m\u001b[0mtrain\u001b[0m\u001b[1;33m]\u001b[0m\u001b[1;33m,\u001b[0m  \u001b[0mmodel\u001b[0m\u001b[1;33m,\u001b[0m \u001b[1;33m[\u001b[0m\u001b[1;33m]\u001b[0m\u001b[1;33m,\u001b[0m \u001b[1;33m[\u001b[0m\u001b[1;36m1\u001b[0m\u001b[1;33m,\u001b[0m\u001b[1;36m3\u001b[0m\u001b[1;33m,\u001b[0m\u001b[1;36m7\u001b[0m\u001b[1;33m]\u001b[0m\u001b[1;33m,\u001b[0m \u001b[0mfilename\u001b[0m\u001b[1;33m=\u001b[0m\u001b[0mfilename\u001b[0m\u001b[1;33m+\u001b[0m\u001b[1;34m\"_train\"\u001b[0m \u001b[1;33m)\u001b[0m\u001b[1;33m\u001b[0m\u001b[0m\n\u001b[0;32m      3\u001b[0m     \u001b[0mgenerate_XFeat_and_Y_TFRecord\u001b[0m\u001b[1;33m(\u001b[0m  \u001b[0min_list\u001b[0m\u001b[1;33m[\u001b[0m\u001b[0mtest\u001b[0m\u001b[1;33m:\u001b[0m\u001b[0mvalid\u001b[0m\u001b[1;33m]\u001b[0m\u001b[1;33m,\u001b[0m \u001b[0mmy_Xraw\u001b[0m\u001b[1;33m[\u001b[0m\u001b[0mvalid\u001b[0m\u001b[1;33m]\u001b[0m\u001b[1;33m,\u001b[0m \u001b[0mmy_Xref\u001b[0m\u001b[1;33m[\u001b[0m\u001b[0mvalid\u001b[0m\u001b[1;33m]\u001b[0m\u001b[1;33m,\u001b[0m  \u001b[0mmodel\u001b[0m\u001b[1;33m,\u001b[0m \u001b[1;33m[\u001b[0m\u001b[1;33m]\u001b[0m\u001b[1;33m,\u001b[0m \u001b[1;33m[\u001b[0m\u001b[1;36m1\u001b[0m\u001b[1;33m,\u001b[0m\u001b[1;36m3\u001b[0m\u001b[1;33m,\u001b[0m\u001b[1;36m7\u001b[0m\u001b[1;33m]\u001b[0m\u001b[1;33m,\u001b[0m \u001b[0mfilename\u001b[0m\u001b[1;33m=\u001b[0m\u001b[0mfilename\u001b[0m\u001b[1;33m+\u001b[0m\u001b[1;34m\"_valid\"\u001b[0m \u001b[1;33m)\u001b[0m\u001b[1;33m\u001b[0m\u001b[0m\n\u001b[0;32m      4\u001b[0m     \u001b[0mgenerate_XFeat_and_Y_TFRecord\u001b[0m\u001b[1;33m(\u001b[0m  \u001b[0min_list\u001b[0m\u001b[1;33m[\u001b[0m\u001b[0mtest\u001b[0m\u001b[1;33m]\u001b[0m\u001b[1;33m,\u001b[0m \u001b[0mmy_Xraw\u001b[0m\u001b[1;33m[\u001b[0m\u001b[0mtest\u001b[0m\u001b[1;33m]\u001b[0m\u001b[1;33m,\u001b[0m \u001b[0mmy_Xref\u001b[0m\u001b[1;33m[\u001b[0m\u001b[0mtest\u001b[0m\u001b[1;33m]\u001b[0m\u001b[1;33m,\u001b[0m  \u001b[0mmodel\u001b[0m\u001b[1;33m,\u001b[0m \u001b[1;33m[\u001b[0m\u001b[1;33m]\u001b[0m\u001b[1;33m,\u001b[0m \u001b[1;33m[\u001b[0m\u001b[1;36m1\u001b[0m\u001b[1;33m,\u001b[0m\u001b[1;36m3\u001b[0m\u001b[1;33m,\u001b[0m\u001b[1;36m7\u001b[0m\u001b[1;33m]\u001b[0m\u001b[1;33m,\u001b[0m \u001b[0mfilename\u001b[0m\u001b[1;33m=\u001b[0m\u001b[0mfilename\u001b[0m\u001b[1;33m+\u001b[0m\u001b[1;34m\"_test\"\u001b[0m \u001b[1;33m)\u001b[0m\u001b[1;33m\u001b[0m\u001b[0m\n\u001b[0;32m      5\u001b[0m \u001b[1;33m\u001b[0m\u001b[0m\n",
      "\u001b[1;31mNameError\u001b[0m: name '__file__' is not defined"
     ]
    }
   ],
   "source": [
    "\n",
    "def load_train_and_val (train=1, valid=1, test=1, path=__file__, filename=\"default\"):\n",
    "    generate_XFeat_and_Y_TFRecord(  in_list[:train], my_Xraw[:train], my_Xref[:train],  model, [], [1,3,7], filename=filename+\"_train\" )\n",
    "    generate_XFeat_and_Y_TFRecord(  in_list[test:valid], my_Xraw[valid], my_Xref[valid],  model, [], [1,3,7], filename=filename+\"_valid\" )\n",
    "    generate_XFeat_and_Y_TFRecord(  in_list[test], my_Xraw[test], my_Xref[test],  model, [], [1,3,7], filename=filename+\"_test\" )\n",
    "    "
   ]
  },
  {
   "cell_type": "markdown",
   "metadata": {},
   "source": [
    "##### trys"
   ]
  },
  {
   "cell_type": "markdown",
   "metadata": {
    "heading_collapsed": true
   },
   "source": [
    "###### v4-tryvalid"
   ]
  },
  {
   "cell_type": "code",
   "execution_count": 25,
   "metadata": {
    "ExecuteTime": {
     "end_time": "2019-01-22T00:15:23.607819Z",
     "start_time": "2019-01-22T00:15:22.677795Z"
    },
    "hidden": true
   },
   "outputs": [
    {
     "name": "stdout",
     "output_type": "stream",
     "text": [
      "WARNING:tensorflow:case: An unordered dictionary of predicate/fn pairs was provided, but exclusive=False. The order of conditional tests is deterministic but not guaranteed.\n",
      "WARNING:tensorflow:case: An unordered dictionary of predicate/fn pairs was provided, but exclusive=False. The order of conditional tests is deterministic but not guaranteed.\n"
     ]
    }
   ],
   "source": [
    "thisscope=\"v4-1tryvalid\"\n",
    "handles[thisscope] = initialize_training_forfunc_averages(thisscope, appended_full_model_v4, averages_150, \"simple150_train.tfrec\", optname=\"b\")"
   ]
  },
  {
   "cell_type": "code",
   "execution_count": 26,
   "metadata": {
    "ExecuteTime": {
     "end_time": "2019-01-22T01:23:27.759126Z",
     "start_time": "2019-01-22T00:15:27.716766Z"
    },
    "hidden": true,
    "scrolled": true
   },
   "outputs": [
    {
     "name": "stdout",
     "output_type": "stream",
     "text": [
      "batch  0\t fit accuracy: vert  0.3037109375 %, \t horiz  0.30859375 %\n",
      "batch  10\t fit accuracy: vert  0.3017578125 %, \t horiz  0.3271484375 %\n",
      "batch  20\t fit accuracy: vert  0.3701171875 %, \t horiz  0.30859375 %\n",
      "batch  30\t fit accuracy: vert  0.3798828125 %, \t horiz  0.4189453125 %\n",
      "batch  40\t fit accuracy: vert  0.5400390625 %, \t horiz  0.4130859375 %\n",
      "batch  50\t fit accuracy: vert  0.455078125 %, \t horiz  0.4912109375 %\n",
      "batch  60\t fit accuracy: vert  0.390625 %, \t horiz  0.4033203125 %\n",
      "batch  70\t fit accuracy: vert  0.3603515625 %, \t horiz  0.373046875 %\n",
      "batch  80\t fit accuracy: vert  0.650390625 %, \t horiz  0.578125 %\n",
      "batch  90\t fit accuracy: vert  0.5615234375 %, \t horiz  0.423828125 %\n",
      "batch  100\t fit accuracy: vert  0.3486328125 %, \t horiz  0.52734375 %\n",
      "batch  110\t fit accuracy: vert  0.3837890625 %, \t horiz  0.5791015625 %\n",
      "batch  120\t fit accuracy: vert  0.7431640625 %, \t horiz  0.642578125 %\n",
      "batch  130\t fit accuracy: vert  0.609375 %, \t horiz  0.4921875 %\n",
      "batch  140\t fit accuracy: vert  0.6064453125 %, \t horiz  0.4814453125 %\n",
      "batch  150\t fit accuracy: vert  0.7958984375 %, \t horiz  0.6552734375 %\n",
      "batch  160\t fit accuracy: vert  0.6533203125 %, \t horiz  0.5107421875 %\n",
      "batch  170\t fit accuracy: vert  0.751953125 %, \t horiz  0.5712890625 %\n",
      "batch  180\t fit accuracy: vert  0.681640625 %, \t horiz  0.72265625 %\n",
      "batch  190\t fit accuracy: vert  0.849609375 %, \t horiz  0.7041015625 %\n",
      "batch  200\t fit accuracy: vert  0.734375 %, \t horiz  0.59375 %\n",
      "batch  210\t fit accuracy: vert  0.591796875 %, \t horiz  0.5673828125 %\n",
      "batch  220\t fit accuracy: vert  0.8916015625 %, \t horiz  0.7490234375 %\n",
      "batch  230\t fit accuracy: vert  0.7236328125 %, \t horiz  0.5966796875 %\n",
      "batch  240\t fit accuracy: vert  0.8115234375 %, \t horiz  0.716796875 %\n",
      "batch  250\t fit accuracy: vert  0.8310546875 %, \t horiz  0.814453125 %\n",
      "batch  260\t fit accuracy: vert  0.86328125 %, \t horiz  0.7236328125 %\n",
      "batch  270\t fit accuracy: vert  0.7919921875 %, \t horiz  0.712890625 %\n",
      "batch  280\t fit accuracy: vert  0.6826171875 %, \t horiz  0.5703125 %\n",
      "batch  290\t fit accuracy: vert  0.892578125 %, \t horiz  0.6904296875 %\n",
      "batch  300\t fit accuracy: vert  0.703125 %, \t horiz  0.7021484375 %\n",
      "batch  310\t fit accuracy: vert  0.8525390625 %, \t horiz  0.767578125 %\n",
      "batch  320\t fit accuracy: vert  0.83203125 %, \t horiz  0.8349609375 %\n",
      "batch  330\t fit accuracy: vert  0.869140625 %, \t horiz  0.7587890625 %\n",
      "batch  340\t fit accuracy: vert  0.826171875 %, \t horiz  0.7685546875 %\n",
      "batch  350\t fit accuracy: vert  0.76171875 %, \t horiz  0.7021484375 %\n",
      "batch  360\t fit accuracy: vert  0.830078125 %, \t horiz  0.73828125 %\n",
      "batch  370\t fit accuracy: vert  0.7607421875 %, \t horiz  0.642578125 %\n",
      "batch  380\t fit accuracy: vert  0.720703125 %, \t horiz  0.7451171875 %\n",
      "batch  390\t fit accuracy: vert  0.8671875 %, \t horiz  0.8544921875 %\n",
      "batch  400\t fit accuracy: vert  0.7939453125 %, \t horiz  0.8037109375 %\n",
      "batch  410\t fit accuracy: vert  0.8759765625 %, \t horiz  0.7255859375 %\n",
      "batch  420\t fit accuracy: vert  0.7861328125 %, \t horiz  0.798828125 %\n",
      "batch  430\t fit accuracy: vert  0.880859375 %, \t horiz  0.751953125 %\n",
      "batch  440\t fit accuracy: vert  0.623046875 %, \t horiz  0.6875 %\n",
      "batch  450\t fit accuracy: vert  0.771484375 %, \t horiz  0.7373046875 %\n",
      "batch  460\t fit accuracy: vert  0.82421875 %, \t horiz  0.8134765625 %\n",
      "batch  470\t fit accuracy: vert  0.701171875 %, \t horiz  0.759765625 %\n",
      "batch  480\t fit accuracy: vert  0.8876953125 %, \t horiz  0.7626953125 %\n",
      "batch  490\t fit accuracy: vert  0.8740234375 %, \t horiz  0.85546875 %\n",
      "batch  500\t fit accuracy: vert  0.9384765625 %, \t horiz  0.865234375 %\n",
      "batch  510\t fit accuracy: vert  0.8271484375 %, \t horiz  0.7880859375 %\n",
      "batch  520\t fit accuracy: vert  0.75 %, \t horiz  0.7724609375 %\n",
      "batch  530\t fit accuracy: vert  0.9169921875 %, \t horiz  0.865234375 %\n",
      "batch  540\t fit accuracy: vert  0.8642578125 %, \t horiz  0.8271484375 %\n",
      "batch  550\t fit accuracy: vert  0.9189453125 %, \t horiz  0.8603515625 %\n",
      "batch  560\t fit accuracy: vert  0.8994140625 %, \t horiz  0.9345703125 %\n",
      "batch  570\t fit accuracy: vert  0.9091796875 %, \t horiz  0.900390625 %\n",
      "batch  580\t fit accuracy: vert  0.84375 %, \t horiz  0.77734375 %\n",
      "batch  590\t fit accuracy: vert  0.7822265625 %, \t horiz  0.822265625 %\n",
      "batch  600\t fit accuracy: vert  0.9140625 %, \t horiz  0.837890625 %\n",
      "batch  610\t fit accuracy: vert  0.806640625 %, \t horiz  0.8037109375 %\n",
      "batch  620\t fit accuracy: vert  0.9306640625 %, \t horiz  0.8935546875 %\n",
      "batch  630\t fit accuracy: vert  0.873046875 %, \t horiz  0.9345703125 %\n",
      "batch  640\t fit accuracy: vert  0.91015625 %, \t horiz  0.890625 %\n",
      "batch  650\t fit accuracy: vert  0.8994140625 %, \t horiz  0.83203125 %\n",
      "batch  660\t fit accuracy: vert  0.87890625 %, \t horiz  0.8134765625 %\n",
      "batch  670\t fit accuracy: vert  0.9169921875 %, \t horiz  0.8466796875 %\n",
      "batch  680\t fit accuracy: vert  0.869140625 %, \t horiz  0.8212890625 %\n",
      "batch  690\t fit accuracy: vert  0.7529296875 %, \t horiz  0.873046875 %\n",
      "batch  700\t fit accuracy: vert  0.8837890625 %, \t horiz  0.900390625 %\n",
      "batch  710\t fit accuracy: vert  0.814453125 %, \t horiz  0.8486328125 %\n",
      "batch  720\t fit accuracy: vert  0.8681640625 %, \t horiz  0.7958984375 %\n",
      "batch  730\t fit accuracy: vert  0.767578125 %, \t horiz  0.865234375 %\n",
      "batch  740\t fit accuracy: vert  0.951171875 %, \t horiz  0.857421875 %\n",
      "batch  750\t fit accuracy: vert  0.8115234375 %, \t horiz  0.865234375 %\n",
      "batch  760\t fit accuracy: vert  0.7197265625 %, \t horiz  0.7841796875 %\n",
      "batch  770\t fit accuracy: vert  0.9228515625 %, \t horiz  0.8505859375 %\n",
      "batch  780\t fit accuracy: vert  0.8046875 %, \t horiz  0.84765625 %\n",
      "batch  790\t fit accuracy: vert  0.876953125 %, \t horiz  0.8076171875 %\n",
      "batch  800\t fit accuracy: vert  0.83203125 %, \t horiz  0.9091796875 %\n",
      "batch  810\t fit accuracy: vert  0.92578125 %, \t horiz  0.8720703125 %\n",
      "batch  820\t fit accuracy: vert  0.71875 %, \t horiz  0.8603515625 %\n",
      "batch  830\t fit accuracy: vert  0.7490234375 %, \t horiz  0.828125 %\n",
      "batch  840\t fit accuracy: vert  0.9345703125 %, \t horiz  0.919921875 %\n",
      "batch  850\t fit accuracy: vert  0.8701171875 %, \t horiz  0.8359375 %\n",
      "batch  860\t fit accuracy: vert  0.916015625 %, \t horiz  0.84765625 %\n",
      "batch  870\t fit accuracy: vert  0.9287109375 %, \t horiz  0.9228515625 %\n",
      "batch  880\t fit accuracy: vert  0.958984375 %, \t horiz  0.89453125 %\n",
      "batch  890\t fit accuracy: vert  0.890625 %, \t horiz  0.8212890625 %\n",
      "batch  900\t fit accuracy: vert  0.8349609375 %, \t horiz  0.8681640625 %\n",
      "batch  910\t fit accuracy: vert  0.9453125 %, \t horiz  0.91796875 %\n",
      "batch  920\t fit accuracy: vert  0.8994140625 %, \t horiz  0.87890625 %\n",
      "batch  930\t fit accuracy: vert  0.958984375 %, \t horiz  0.8984375 %\n",
      "batch  940\t fit accuracy: vert  0.9375 %, \t horiz  0.9482421875 %\n",
      "batch  950\t fit accuracy: vert  0.943359375 %, \t horiz  0.8486328125 %\n",
      "batch  960\t fit accuracy: vert  0.8984375 %, \t horiz  0.8515625 %\n",
      "batch  970\t fit accuracy: vert  0.888671875 %, \t horiz  0.8896484375 %\n",
      "batch  980\t fit accuracy: vert  0.951171875 %, \t horiz  0.85546875 %\n",
      "batch  990\t fit accuracy: vert  0.888671875 %, \t horiz  0.873046875 %\n"
     ]
    }
   ],
   "source": [
    "thisscope=\"v4-1tryvalid\"\n",
    "with tf.variable_scope(thisscope):\n",
    "    for i in range(1000):\n",
    "        if i%10==0:\n",
    "            print (\"batch \",i,end=\"\")\n",
    "        _, loss_value, y, cor_y = sess.run([ handles[thisscope][\"train_op\"], \n",
    "                                             handles[thisscope][\"loss\"],\n",
    "                                             handles[thisscope][\"y\"],\n",
    "                                             handles[thisscope][\"correct_y\"] ] )\n",
    "        \n",
    "        if i%10==0:\n",
    "            print (\"\\t fit accuracy: vert \", np.mean( np.argmax(y[0],axis=1) == cor_y[0] ), \n",
    "                          \"%, \\t horiz \", np.mean( np.argmax(y[1],axis=1) == cor_y[1] ), \"%\" )\n",
    "        handles[thisscope][\"loss_history\"].append(loss_value)"
   ]
  },
  {
   "cell_type": "code",
   "execution_count": 37,
   "metadata": {
    "ExecuteTime": {
     "end_time": "2019-01-22T01:44:02.579997Z",
     "start_time": "2019-01-22T01:36:55.389979Z"
    },
    "hidden": true
   },
   "outputs": [
    {
     "name": "stdout",
     "output_type": "stream",
     "text": [
      "WARNING:tensorflow:case: An unordered dictionary of predicate/fn pairs was provided, but exclusive=False. The order of conditional tests is deterministic but not guaranteed.\n",
      "WARNING:tensorflow:case: An unordered dictionary of predicate/fn pairs was provided, but exclusive=False. The order of conditional tests is deterministic but not guaranteed.\n",
      "\t validation accuracy: vert  0.519 %, \t horiz  0.467 %\n",
      "WARNING:tensorflow:case: An unordered dictionary of predicate/fn pairs was provided, but exclusive=False. The order of conditional tests is deterministic but not guaranteed.\n",
      "WARNING:tensorflow:case: An unordered dictionary of predicate/fn pairs was provided, but exclusive=False. The order of conditional tests is deterministic but not guaranteed.\n",
      "\t validation accuracy: vert  0.512 %, \t horiz  0.475 %\n",
      "WARNING:tensorflow:case: An unordered dictionary of predicate/fn pairs was provided, but exclusive=False. The order of conditional tests is deterministic but not guaranteed.\n",
      "WARNING:tensorflow:case: An unordered dictionary of predicate/fn pairs was provided, but exclusive=False. The order of conditional tests is deterministic but not guaranteed.\n",
      "\t validation accuracy: vert  0.516 %, \t horiz  0.477 %\n",
      "WARNING:tensorflow:case: An unordered dictionary of predicate/fn pairs was provided, but exclusive=False. The order of conditional tests is deterministic but not guaranteed.\n",
      "WARNING:tensorflow:case: An unordered dictionary of predicate/fn pairs was provided, but exclusive=False. The order of conditional tests is deterministic but not guaranteed.\n",
      "\t validation accuracy: vert  0.523 %, \t horiz  0.493 %\n",
      "WARNING:tensorflow:case: An unordered dictionary of predicate/fn pairs was provided, but exclusive=False. The order of conditional tests is deterministic but not guaranteed.\n",
      "WARNING:tensorflow:case: An unordered dictionary of predicate/fn pairs was provided, but exclusive=False. The order of conditional tests is deterministic but not guaranteed.\n",
      "\t validation accuracy: vert  0.5115 %, \t horiz  0.489 %\n"
     ]
    }
   ],
   "source": [
    "for i in range(5):\n",
    "    valacc(thisscope, \"simple150_valid.tfrec\", averages_150, 2000)"
   ]
  },
  {
   "cell_type": "code",
   "execution_count": null,
   "metadata": {
    "hidden": true
   },
   "outputs": [],
   "source": []
  },
  {
   "cell_type": "markdown",
   "metadata": {
    "heading_collapsed": true
   },
   "source": [
    "###### try-5"
   ]
  },
  {
   "cell_type": "code",
   "execution_count": 28,
   "metadata": {
    "ExecuteTime": {
     "end_time": "2019-02-02T22:49:29.156111Z",
     "start_time": "2019-02-02T22:49:28.224120Z"
    },
    "hidden": true
   },
   "outputs": [
    {
     "name": "stdout",
     "output_type": "stream",
     "text": [
      "WARNING:tensorflow:case: An unordered dictionary of predicate/fn pairs was provided, but exclusive=False. The order of conditional tests is deterministic but not guaranteed.\n",
      "WARNING:tensorflow:case: An unordered dictionary of predicate/fn pairs was provided, but exclusive=False. The order of conditional tests is deterministic but not guaranteed.\n",
      "WARNING:tensorflow:From <ipython-input-19-3b36a415d19f>:19: softmax_cross_entropy_with_logits (from tensorflow.python.ops.nn_ops) is deprecated and will be removed in a future version.\n",
      "Instructions for updating:\n",
      "\n",
      "Future major versions of TensorFlow will allow gradients to flow\n",
      "into the labels input on backprop by default.\n",
      "\n",
      "See @{tf.nn.softmax_cross_entropy_with_logits_v2}.\n",
      "\n"
     ]
    }
   ],
   "source": [
    "thisscope=\"v4-cmpltnrm\"\n",
    "handles[thisscope] = initialize_training_forfunc_averages(thisscope, appended_full_model_v4, averages_norm160, \"stable160_train.tfrec\", optname=\"a\")"
   ]
  },
  {
   "cell_type": "code",
   "execution_count": 29,
   "metadata": {
    "ExecuteTime": {
     "end_time": "2019-02-02T23:01:07.200887Z",
     "start_time": "2019-02-02T22:49:49.334872Z"
    },
    "hidden": true,
    "scrolled": true
   },
   "outputs": [
    {
     "name": "stdout",
     "output_type": "stream",
     "text": [
      "batch  0\t fit accuracy: vert  0.326171875 %, \t horiz  0.3798828125 %\n",
      "batch  10\t fit accuracy: vert  0.416015625 %, \t horiz  0.3603515625 %\n",
      "batch  20\t fit accuracy: vert  0.546875 %, \t horiz  0.4892578125 %\n",
      "batch  30\t fit accuracy: vert  0.6279296875 %, \t horiz  0.599609375 %\n",
      "batch  40\t fit accuracy: vert  0.7119140625 %, \t horiz  0.6572265625 %\n",
      "batch  50\t fit accuracy: vert  0.7744140625 %, \t horiz  0.708984375 %\n",
      "batch  60\t fit accuracy: vert  0.82421875 %, \t horiz  0.7822265625 %\n",
      "batch  70\t fit accuracy: vert  0.8828125 %, \t horiz  0.8515625 %\n",
      "batch  80\t fit accuracy: vert  0.9140625 %, \t horiz  0.890625 %\n",
      "batch  90\t fit accuracy: vert  0.94921875 %, \t horiz  0.9384765625 %\n",
      "batch  100\t fit accuracy: vert  0.962890625 %, \t horiz  0.9638671875 %\n",
      "batch  110\t fit accuracy: vert  0.984375 %, \t horiz  0.9873046875 %\n",
      "batch  120\t fit accuracy: vert  0.9892578125 %, \t horiz  0.9912109375 %\n",
      "batch  130\t fit accuracy: vert  0.99609375 %, \t horiz  0.9970703125 %\n",
      "batch  140\t fit accuracy: vert  0.99609375 %, \t horiz  0.998046875 %\n",
      "batch  150\t fit accuracy: vert  1.0 %, \t horiz  0.9990234375 %\n",
      "batch  160\t fit accuracy: vert  1.0 %, \t horiz  1.0 %\n",
      "batch  170\t fit accuracy: vert  1.0 %, \t horiz  1.0 %\n",
      "batch  180\t fit accuracy: vert  1.0 %, \t horiz  1.0 %\n",
      "batch  190\t fit accuracy: vert  1.0 %, \t horiz  1.0 %\n",
      "batch  200\t fit accuracy: vert  1.0 %, \t horiz  1.0 %\n",
      "batch  210\t fit accuracy: vert  1.0 %, \t horiz  1.0 %\n",
      "batch  220\t fit accuracy: vert  1.0 %, \t horiz  1.0 %\n",
      "batch  230\t fit accuracy: vert  1.0 %, \t horiz  1.0 %\n",
      "batch  240\t fit accuracy: vert  1.0 %, \t horiz  1.0 %\n",
      "batch  250\t fit accuracy: vert  1.0 %, \t horiz  1.0 %\n",
      "batch  260\t fit accuracy: vert  1.0 %, \t horiz  1.0 %\n",
      "batch  270\t fit accuracy: vert  1.0 %, \t horiz  1.0 %\n",
      "batch  280\t fit accuracy: vert  1.0 %, \t horiz  1.0 %\n",
      "batch  290\t fit accuracy: vert  1.0 %, \t horiz  1.0 %\n",
      "batch  300\t fit accuracy: vert  1.0 %, \t horiz  1.0 %\n",
      "batch  310\t fit accuracy: vert  1.0 %, \t horiz  0.998046875 %\n",
      "batch  320\t fit accuracy: vert  1.0 %, \t horiz  1.0 %\n",
      "batch  330\t fit accuracy: vert  1.0 %, \t horiz  1.0 %\n",
      "batch  340\t fit accuracy: vert  1.0 %, \t horiz  1.0 %\n",
      "batch  350\t fit accuracy: vert  1.0 %, \t horiz  1.0 %\n"
     ]
    },
    {
     "ename": "KeyboardInterrupt",
     "evalue": "",
     "output_type": "error",
     "traceback": [
      "\u001b[1;31m---------------------------------------------------------------------------\u001b[0m",
      "\u001b[1;31mKeyboardInterrupt\u001b[0m                         Traceback (most recent call last)",
      "\u001b[1;32m<ipython-input-29-00fbb9906b43>\u001b[0m in \u001b[0;36m<module>\u001b[1;34m()\u001b[0m\n\u001b[0;32m      7\u001b[0m                                              \u001b[0mhandles\u001b[0m\u001b[1;33m[\u001b[0m\u001b[0mthisscope\u001b[0m\u001b[1;33m]\u001b[0m\u001b[1;33m[\u001b[0m\u001b[1;34m\"loss\"\u001b[0m\u001b[1;33m]\u001b[0m\u001b[1;33m,\u001b[0m\u001b[1;33m\u001b[0m\u001b[0m\n\u001b[0;32m      8\u001b[0m                                              \u001b[0mhandles\u001b[0m\u001b[1;33m[\u001b[0m\u001b[0mthisscope\u001b[0m\u001b[1;33m]\u001b[0m\u001b[1;33m[\u001b[0m\u001b[1;34m\"y\"\u001b[0m\u001b[1;33m]\u001b[0m\u001b[1;33m,\u001b[0m\u001b[1;33m\u001b[0m\u001b[0m\n\u001b[1;32m----> 9\u001b[1;33m                                              handles[thisscope][\"correct_y\"] ] )\n\u001b[0m\u001b[0;32m     10\u001b[0m \u001b[1;33m\u001b[0m\u001b[0m\n\u001b[0;32m     11\u001b[0m         \u001b[1;32mif\u001b[0m \u001b[0mi\u001b[0m\u001b[1;33m%\u001b[0m\u001b[1;36m10\u001b[0m\u001b[1;33m==\u001b[0m\u001b[1;36m0\u001b[0m\u001b[1;33m:\u001b[0m\u001b[1;33m\u001b[0m\u001b[0m\n",
      "\u001b[1;32mC:\\ProgramData\\Anaconda3\\lib\\site-packages\\tensorflow\\python\\client\\session.py\u001b[0m in \u001b[0;36mrun\u001b[1;34m(self, fetches, feed_dict, options, run_metadata)\u001b[0m\n\u001b[0;32m    875\u001b[0m     \u001b[1;32mtry\u001b[0m\u001b[1;33m:\u001b[0m\u001b[1;33m\u001b[0m\u001b[0m\n\u001b[0;32m    876\u001b[0m       result = self._run(None, fetches, feed_dict, options_ptr,\n\u001b[1;32m--> 877\u001b[1;33m                          run_metadata_ptr)\n\u001b[0m\u001b[0;32m    878\u001b[0m       \u001b[1;32mif\u001b[0m \u001b[0mrun_metadata\u001b[0m\u001b[1;33m:\u001b[0m\u001b[1;33m\u001b[0m\u001b[0m\n\u001b[0;32m    879\u001b[0m         \u001b[0mproto_data\u001b[0m \u001b[1;33m=\u001b[0m \u001b[0mtf_session\u001b[0m\u001b[1;33m.\u001b[0m\u001b[0mTF_GetBuffer\u001b[0m\u001b[1;33m(\u001b[0m\u001b[0mrun_metadata_ptr\u001b[0m\u001b[1;33m)\u001b[0m\u001b[1;33m\u001b[0m\u001b[0m\n",
      "\u001b[1;32mC:\\ProgramData\\Anaconda3\\lib\\site-packages\\tensorflow\\python\\client\\session.py\u001b[0m in \u001b[0;36m_run\u001b[1;34m(self, handle, fetches, feed_dict, options, run_metadata)\u001b[0m\n\u001b[0;32m   1098\u001b[0m     \u001b[1;32mif\u001b[0m \u001b[0mfinal_fetches\u001b[0m \u001b[1;32mor\u001b[0m \u001b[0mfinal_targets\u001b[0m \u001b[1;32mor\u001b[0m \u001b[1;33m(\u001b[0m\u001b[0mhandle\u001b[0m \u001b[1;32mand\u001b[0m \u001b[0mfeed_dict_tensor\u001b[0m\u001b[1;33m)\u001b[0m\u001b[1;33m:\u001b[0m\u001b[1;33m\u001b[0m\u001b[0m\n\u001b[0;32m   1099\u001b[0m       results = self._do_run(handle, final_targets, final_fetches,\n\u001b[1;32m-> 1100\u001b[1;33m                              feed_dict_tensor, options, run_metadata)\n\u001b[0m\u001b[0;32m   1101\u001b[0m     \u001b[1;32melse\u001b[0m\u001b[1;33m:\u001b[0m\u001b[1;33m\u001b[0m\u001b[0m\n\u001b[0;32m   1102\u001b[0m       \u001b[0mresults\u001b[0m \u001b[1;33m=\u001b[0m \u001b[1;33m[\u001b[0m\u001b[1;33m]\u001b[0m\u001b[1;33m\u001b[0m\u001b[0m\n",
      "\u001b[1;32mC:\\ProgramData\\Anaconda3\\lib\\site-packages\\tensorflow\\python\\client\\session.py\u001b[0m in \u001b[0;36m_do_run\u001b[1;34m(self, handle, target_list, fetch_list, feed_dict, options, run_metadata)\u001b[0m\n\u001b[0;32m   1270\u001b[0m     \u001b[1;32mif\u001b[0m \u001b[0mhandle\u001b[0m \u001b[1;32mis\u001b[0m \u001b[1;32mNone\u001b[0m\u001b[1;33m:\u001b[0m\u001b[1;33m\u001b[0m\u001b[0m\n\u001b[0;32m   1271\u001b[0m       return self._do_call(_run_fn, feeds, fetches, targets, options,\n\u001b[1;32m-> 1272\u001b[1;33m                            run_metadata)\n\u001b[0m\u001b[0;32m   1273\u001b[0m     \u001b[1;32melse\u001b[0m\u001b[1;33m:\u001b[0m\u001b[1;33m\u001b[0m\u001b[0m\n\u001b[0;32m   1274\u001b[0m       \u001b[1;32mreturn\u001b[0m \u001b[0mself\u001b[0m\u001b[1;33m.\u001b[0m\u001b[0m_do_call\u001b[0m\u001b[1;33m(\u001b[0m\u001b[0m_prun_fn\u001b[0m\u001b[1;33m,\u001b[0m \u001b[0mhandle\u001b[0m\u001b[1;33m,\u001b[0m \u001b[0mfeeds\u001b[0m\u001b[1;33m,\u001b[0m \u001b[0mfetches\u001b[0m\u001b[1;33m)\u001b[0m\u001b[1;33m\u001b[0m\u001b[0m\n",
      "\u001b[1;32mC:\\ProgramData\\Anaconda3\\lib\\site-packages\\tensorflow\\python\\client\\session.py\u001b[0m in \u001b[0;36m_do_call\u001b[1;34m(self, fn, *args)\u001b[0m\n\u001b[0;32m   1276\u001b[0m   \u001b[1;32mdef\u001b[0m \u001b[0m_do_call\u001b[0m\u001b[1;33m(\u001b[0m\u001b[0mself\u001b[0m\u001b[1;33m,\u001b[0m \u001b[0mfn\u001b[0m\u001b[1;33m,\u001b[0m \u001b[1;33m*\u001b[0m\u001b[0margs\u001b[0m\u001b[1;33m)\u001b[0m\u001b[1;33m:\u001b[0m\u001b[1;33m\u001b[0m\u001b[0m\n\u001b[0;32m   1277\u001b[0m     \u001b[1;32mtry\u001b[0m\u001b[1;33m:\u001b[0m\u001b[1;33m\u001b[0m\u001b[0m\n\u001b[1;32m-> 1278\u001b[1;33m       \u001b[1;32mreturn\u001b[0m \u001b[0mfn\u001b[0m\u001b[1;33m(\u001b[0m\u001b[1;33m*\u001b[0m\u001b[0margs\u001b[0m\u001b[1;33m)\u001b[0m\u001b[1;33m\u001b[0m\u001b[0m\n\u001b[0m\u001b[0;32m   1279\u001b[0m     \u001b[1;32mexcept\u001b[0m \u001b[0merrors\u001b[0m\u001b[1;33m.\u001b[0m\u001b[0mOpError\u001b[0m \u001b[1;32mas\u001b[0m \u001b[0me\u001b[0m\u001b[1;33m:\u001b[0m\u001b[1;33m\u001b[0m\u001b[0m\n\u001b[0;32m   1280\u001b[0m       \u001b[0mmessage\u001b[0m \u001b[1;33m=\u001b[0m \u001b[0mcompat\u001b[0m\u001b[1;33m.\u001b[0m\u001b[0mas_text\u001b[0m\u001b[1;33m(\u001b[0m\u001b[0me\u001b[0m\u001b[1;33m.\u001b[0m\u001b[0mmessage\u001b[0m\u001b[1;33m)\u001b[0m\u001b[1;33m\u001b[0m\u001b[0m\n",
      "\u001b[1;32mC:\\ProgramData\\Anaconda3\\lib\\site-packages\\tensorflow\\python\\client\\session.py\u001b[0m in \u001b[0;36m_run_fn\u001b[1;34m(feed_dict, fetch_list, target_list, options, run_metadata)\u001b[0m\n\u001b[0;32m   1261\u001b[0m       \u001b[0mself\u001b[0m\u001b[1;33m.\u001b[0m\u001b[0m_extend_graph\u001b[0m\u001b[1;33m(\u001b[0m\u001b[1;33m)\u001b[0m\u001b[1;33m\u001b[0m\u001b[0m\n\u001b[0;32m   1262\u001b[0m       return self._call_tf_sessionrun(\n\u001b[1;32m-> 1263\u001b[1;33m           options, feed_dict, fetch_list, target_list, run_metadata)\n\u001b[0m\u001b[0;32m   1264\u001b[0m \u001b[1;33m\u001b[0m\u001b[0m\n\u001b[0;32m   1265\u001b[0m     \u001b[1;32mdef\u001b[0m \u001b[0m_prun_fn\u001b[0m\u001b[1;33m(\u001b[0m\u001b[0mhandle\u001b[0m\u001b[1;33m,\u001b[0m \u001b[0mfeed_dict\u001b[0m\u001b[1;33m,\u001b[0m \u001b[0mfetch_list\u001b[0m\u001b[1;33m)\u001b[0m\u001b[1;33m:\u001b[0m\u001b[1;33m\u001b[0m\u001b[0m\n",
      "\u001b[1;32mC:\\ProgramData\\Anaconda3\\lib\\site-packages\\tensorflow\\python\\client\\session.py\u001b[0m in \u001b[0;36m_call_tf_sessionrun\u001b[1;34m(self, options, feed_dict, fetch_list, target_list, run_metadata)\u001b[0m\n\u001b[0;32m   1348\u001b[0m     return tf_session.TF_SessionRun_wrapper(\n\u001b[0;32m   1349\u001b[0m         \u001b[0mself\u001b[0m\u001b[1;33m.\u001b[0m\u001b[0m_session\u001b[0m\u001b[1;33m,\u001b[0m \u001b[0moptions\u001b[0m\u001b[1;33m,\u001b[0m \u001b[0mfeed_dict\u001b[0m\u001b[1;33m,\u001b[0m \u001b[0mfetch_list\u001b[0m\u001b[1;33m,\u001b[0m \u001b[0mtarget_list\u001b[0m\u001b[1;33m,\u001b[0m\u001b[1;33m\u001b[0m\u001b[0m\n\u001b[1;32m-> 1350\u001b[1;33m         run_metadata)\n\u001b[0m\u001b[0;32m   1351\u001b[0m \u001b[1;33m\u001b[0m\u001b[0m\n\u001b[0;32m   1352\u001b[0m   \u001b[1;32mdef\u001b[0m \u001b[0m_call_tf_sessionprun\u001b[0m\u001b[1;33m(\u001b[0m\u001b[0mself\u001b[0m\u001b[1;33m,\u001b[0m \u001b[0mhandle\u001b[0m\u001b[1;33m,\u001b[0m \u001b[0mfeed_dict\u001b[0m\u001b[1;33m,\u001b[0m \u001b[0mfetch_list\u001b[0m\u001b[1;33m)\u001b[0m\u001b[1;33m:\u001b[0m\u001b[1;33m\u001b[0m\u001b[0m\n",
      "\u001b[1;31mKeyboardInterrupt\u001b[0m: "
     ]
    }
   ],
   "source": [
    "thisscope=\"v4-cmpltnrm\"\n",
    "with tf.variable_scope(thisscope):\n",
    "    for i in range(1):\n",
    "        if i%10==0:\n",
    "            print (\"batch \",i,end=\"\")\n",
    "        _, loss_value, y, cor_y = sess.run([ handles[thisscope][\"train_op\"], \n",
    "                                             handles[thisscope][\"loss\"],\n",
    "                                             handles[thisscope][\"y\"],\n",
    "                                             handles[thisscope][\"correct_y\"] ] )\n",
    "        \n",
    "        if i%10==0:\n",
    "            print (\"\\t fit accuracy: vert \", np.mean( np.argmax(y[0],axis=1) == cor_y[0] ), \n",
    "                          \"%, \\t horiz \", np.mean( np.argmax(y[1],axis=1) == cor_y[1] ), \"%\" )\n",
    "        handles[thisscope][\"loss_history\"].append(loss_value)"
   ]
  },
  {
   "cell_type": "code",
   "execution_count": 39,
   "metadata": {
    "ExecuteTime": {
     "end_time": "2019-02-02T23:07:16.904708Z",
     "start_time": "2019-02-02T23:07:16.546711Z"
    },
    "hidden": true
   },
   "outputs": [
    {
     "data": {
      "text/plain": [
       "(0, 0.05)"
      ]
     },
     "execution_count": 39,
     "metadata": {},
     "output_type": "execute_result"
    },
    {
     "data": {
      "image/png": "[encoded data removed]",
      "text/plain": [
       "<matplotlib.figure.Figure at 0x210f73997f0>"
      ]
     },
     "metadata": {},
     "output_type": "display_data"
    }
   ],
   "source": [
    "plt.plot(handles[thisscope][\"loss_history\"][200:1000])\n",
    "plt.ylim(0,.05)"
   ]
  },
  {
   "cell_type": "code",
   "execution_count": 34,
   "metadata": {
    "ExecuteTime": {
     "end_time": "2019-02-02T23:04:17.277205Z",
     "start_time": "2019-02-02T23:03:44.718049Z"
    },
    "hidden": true,
    "scrolled": true
   },
   "outputs": [
    {
     "name": "stdout",
     "output_type": "stream",
     "text": [
      "WARNING:tensorflow:case: An unordered dictionary of predicate/fn pairs was provided, but exclusive=False. The order of conditional tests is deterministic but not guaranteed.\n",
      "WARNING:tensorflow:case: An unordered dictionary of predicate/fn pairs was provided, but exclusive=False. The order of conditional tests is deterministic but not guaranteed.\n",
      "\t validation accuracy: vert  50.1 %, \t horiz  45.95 %\n"
     ]
    }
   ],
   "source": [
    "valacc(thisscope, \"stable160_test.tfrec\", averages_norm160, 2000)"
   ]
  },
  {
   "cell_type": "markdown",
   "metadata": {
    "heading_collapsed": true
   },
   "source": [
    "###### v4-noflip"
   ]
  },
  {
   "cell_type": "code",
   "execution_count": 43,
   "metadata": {
    "ExecuteTime": {
     "end_time": "2019-02-02T23:14:33.734000Z",
     "start_time": "2019-02-02T23:14:32.257013Z"
    },
    "hidden": true
   },
   "outputs": [
    {
     "name": "stdout",
     "output_type": "stream",
     "text": [
      "WARNING:tensorflow:case: An unordered dictionary of predicate/fn pairs was provided, but exclusive=False. The order of conditional tests is deterministic but not guaranteed.\n",
      "WARNING:tensorflow:case: An unordered dictionary of predicate/fn pairs was provided, but exclusive=False. The order of conditional tests is deterministic but not guaranteed.\n"
     ]
    }
   ],
   "source": [
    "thisscope=\"v4-noflip1\"\n",
    "handles[thisscope] = initialize_training_forfunc_averages(thisscope, appended_full_model_v4, averages_nf160, \"noflip160_train.tfrec\", optname=\"a\")"
   ]
  },
  {
   "cell_type": "code",
   "execution_count": 44,
   "metadata": {
    "ExecuteTime": {
     "end_time": "2019-02-02T23:21:56.076692Z",
     "start_time": "2019-02-02T23:14:46.751889Z"
    },
    "hidden": true
   },
   "outputs": [
    {
     "name": "stdout",
     "output_type": "stream",
     "text": [
      "batch  0\t fit accuracy: vert  0.33984375 %, \t horiz  0.3896484375 %\n",
      "batch  10\t fit accuracy: vert  0.3662109375 %, \t horiz  0.3447265625 %\n",
      "batch  20\t fit accuracy: vert  0.3671875 %, \t horiz  0.39453125 %\n",
      "batch  30\t fit accuracy: vert  0.4404296875 %, \t horiz  0.4873046875 %\n",
      "batch  40\t fit accuracy: vert  0.5478515625 %, \t horiz  0.5224609375 %\n",
      "batch  50\t fit accuracy: vert  0.6181640625 %, \t horiz  0.5966796875 %\n",
      "batch  60\t fit accuracy: vert  0.6982421875 %, \t horiz  0.6396484375 %\n",
      "batch  70\t fit accuracy: vert  0.73828125 %, \t horiz  0.7060546875 %\n",
      "batch  80\t fit accuracy: vert  0.7890625 %, \t horiz  0.75 %\n",
      "batch  90\t fit accuracy: vert  0.82421875 %, \t horiz  0.8056640625 %\n",
      "batch  100\t fit accuracy: vert  0.8408203125 %, \t horiz  0.8427734375 %\n",
      "batch  110\t fit accuracy: vert  0.8935546875 %, \t horiz  0.8984375 %\n",
      "batch  120\t fit accuracy: vert  0.912109375 %, \t horiz  0.904296875 %\n",
      "batch  130\t fit accuracy: vert  0.943359375 %, \t horiz  0.96484375 %\n",
      "batch  140\t fit accuracy: vert  0.9423828125 %, \t horiz  0.9697265625 %\n",
      "batch  150\t fit accuracy: vert  0.9619140625 %, \t horiz  0.974609375 %\n",
      "batch  160\t fit accuracy: vert  0.9833984375 %, \t horiz  0.9873046875 %\n",
      "batch  170\t fit accuracy: vert  0.99609375 %, \t horiz  0.9990234375 %\n",
      "batch  180\t fit accuracy: vert  0.994140625 %, \t horiz  1.0 %\n"
     ]
    },
    {
     "ename": "KeyboardInterrupt",
     "evalue": "",
     "output_type": "error",
     "traceback": [
      "\u001b[1;31m---------------------------------------------------------------------------\u001b[0m",
      "\u001b[1;31mKeyboardInterrupt\u001b[0m                         Traceback (most recent call last)",
      "\u001b[1;32m<ipython-input-44-6bcfa88d68fa>\u001b[0m in \u001b[0;36m<module>\u001b[1;34m()\u001b[0m\n\u001b[0;32m      7\u001b[0m                                              \u001b[0mhandles\u001b[0m\u001b[1;33m[\u001b[0m\u001b[0mthisscope\u001b[0m\u001b[1;33m]\u001b[0m\u001b[1;33m[\u001b[0m\u001b[1;34m\"loss\"\u001b[0m\u001b[1;33m]\u001b[0m\u001b[1;33m,\u001b[0m\u001b[1;33m\u001b[0m\u001b[0m\n\u001b[0;32m      8\u001b[0m                                              \u001b[0mhandles\u001b[0m\u001b[1;33m[\u001b[0m\u001b[0mthisscope\u001b[0m\u001b[1;33m]\u001b[0m\u001b[1;33m[\u001b[0m\u001b[1;34m\"y\"\u001b[0m\u001b[1;33m]\u001b[0m\u001b[1;33m,\u001b[0m\u001b[1;33m\u001b[0m\u001b[0m\n\u001b[1;32m----> 9\u001b[1;33m                                              handles[thisscope][\"correct_y\"] ] )\n\u001b[0m\u001b[0;32m     10\u001b[0m \u001b[1;33m\u001b[0m\u001b[0m\n\u001b[0;32m     11\u001b[0m         \u001b[1;32mif\u001b[0m \u001b[0mi\u001b[0m\u001b[1;33m%\u001b[0m\u001b[1;36m10\u001b[0m\u001b[1;33m==\u001b[0m\u001b[1;36m0\u001b[0m\u001b[1;33m:\u001b[0m\u001b[1;33m\u001b[0m\u001b[0m\n",
      "\u001b[1;32mC:\\ProgramData\\Anaconda3\\lib\\site-packages\\tensorflow\\python\\client\\session.py\u001b[0m in \u001b[0;36mrun\u001b[1;34m(self, fetches, feed_dict, options, run_metadata)\u001b[0m\n\u001b[0;32m    875\u001b[0m     \u001b[1;32mtry\u001b[0m\u001b[1;33m:\u001b[0m\u001b[1;33m\u001b[0m\u001b[0m\n\u001b[0;32m    876\u001b[0m       result = self._run(None, fetches, feed_dict, options_ptr,\n\u001b[1;32m--> 877\u001b[1;33m                          run_metadata_ptr)\n\u001b[0m\u001b[0;32m    878\u001b[0m       \u001b[1;32mif\u001b[0m \u001b[0mrun_metadata\u001b[0m\u001b[1;33m:\u001b[0m\u001b[1;33m\u001b[0m\u001b[0m\n\u001b[0;32m    879\u001b[0m         \u001b[0mproto_data\u001b[0m \u001b[1;33m=\u001b[0m \u001b[0mtf_session\u001b[0m\u001b[1;33m.\u001b[0m\u001b[0mTF_GetBuffer\u001b[0m\u001b[1;33m(\u001b[0m\u001b[0mrun_metadata_ptr\u001b[0m\u001b[1;33m)\u001b[0m\u001b[1;33m\u001b[0m\u001b[0m\n",
      "\u001b[1;32mC:\\ProgramData\\Anaconda3\\lib\\site-packages\\tensorflow\\python\\client\\session.py\u001b[0m in \u001b[0;36m_run\u001b[1;34m(self, handle, fetches, feed_dict, options, run_metadata)\u001b[0m\n\u001b[0;32m   1098\u001b[0m     \u001b[1;32mif\u001b[0m \u001b[0mfinal_fetches\u001b[0m \u001b[1;32mor\u001b[0m \u001b[0mfinal_targets\u001b[0m \u001b[1;32mor\u001b[0m \u001b[1;33m(\u001b[0m\u001b[0mhandle\u001b[0m \u001b[1;32mand\u001b[0m \u001b[0mfeed_dict_tensor\u001b[0m\u001b[1;33m)\u001b[0m\u001b[1;33m:\u001b[0m\u001b[1;33m\u001b[0m\u001b[0m\n\u001b[0;32m   1099\u001b[0m       results = self._do_run(handle, final_targets, final_fetches,\n\u001b[1;32m-> 1100\u001b[1;33m                              feed_dict_tensor, options, run_metadata)\n\u001b[0m\u001b[0;32m   1101\u001b[0m     \u001b[1;32melse\u001b[0m\u001b[1;33m:\u001b[0m\u001b[1;33m\u001b[0m\u001b[0m\n\u001b[0;32m   1102\u001b[0m       \u001b[0mresults\u001b[0m \u001b[1;33m=\u001b[0m \u001b[1;33m[\u001b[0m\u001b[1;33m]\u001b[0m\u001b[1;33m\u001b[0m\u001b[0m\n",
      "\u001b[1;32mC:\\ProgramData\\Anaconda3\\lib\\site-packages\\tensorflow\\python\\client\\session.py\u001b[0m in \u001b[0;36m_do_run\u001b[1;34m(self, handle, target_list, fetch_list, feed_dict, options, run_metadata)\u001b[0m\n\u001b[0;32m   1270\u001b[0m     \u001b[1;32mif\u001b[0m \u001b[0mhandle\u001b[0m \u001b[1;32mis\u001b[0m \u001b[1;32mNone\u001b[0m\u001b[1;33m:\u001b[0m\u001b[1;33m\u001b[0m\u001b[0m\n\u001b[0;32m   1271\u001b[0m       return self._do_call(_run_fn, feeds, fetches, targets, options,\n\u001b[1;32m-> 1272\u001b[1;33m                            run_metadata)\n\u001b[0m\u001b[0;32m   1273\u001b[0m     \u001b[1;32melse\u001b[0m\u001b[1;33m:\u001b[0m\u001b[1;33m\u001b[0m\u001b[0m\n\u001b[0;32m   1274\u001b[0m       \u001b[1;32mreturn\u001b[0m \u001b[0mself\u001b[0m\u001b[1;33m.\u001b[0m\u001b[0m_do_call\u001b[0m\u001b[1;33m(\u001b[0m\u001b[0m_prun_fn\u001b[0m\u001b[1;33m,\u001b[0m \u001b[0mhandle\u001b[0m\u001b[1;33m,\u001b[0m \u001b[0mfeeds\u001b[0m\u001b[1;33m,\u001b[0m \u001b[0mfetches\u001b[0m\u001b[1;33m)\u001b[0m\u001b[1;33m\u001b[0m\u001b[0m\n",
      "\u001b[1;32mC:\\ProgramData\\Anaconda3\\lib\\site-packages\\tensorflow\\python\\client\\session.py\u001b[0m in \u001b[0;36m_do_call\u001b[1;34m(self, fn, *args)\u001b[0m\n\u001b[0;32m   1276\u001b[0m   \u001b[1;32mdef\u001b[0m \u001b[0m_do_call\u001b[0m\u001b[1;33m(\u001b[0m\u001b[0mself\u001b[0m\u001b[1;33m,\u001b[0m \u001b[0mfn\u001b[0m\u001b[1;33m,\u001b[0m \u001b[1;33m*\u001b[0m\u001b[0margs\u001b[0m\u001b[1;33m)\u001b[0m\u001b[1;33m:\u001b[0m\u001b[1;33m\u001b[0m\u001b[0m\n\u001b[0;32m   1277\u001b[0m     \u001b[1;32mtry\u001b[0m\u001b[1;33m:\u001b[0m\u001b[1;33m\u001b[0m\u001b[0m\n\u001b[1;32m-> 1278\u001b[1;33m       \u001b[1;32mreturn\u001b[0m \u001b[0mfn\u001b[0m\u001b[1;33m(\u001b[0m\u001b[1;33m*\u001b[0m\u001b[0margs\u001b[0m\u001b[1;33m)\u001b[0m\u001b[1;33m\u001b[0m\u001b[0m\n\u001b[0m\u001b[0;32m   1279\u001b[0m     \u001b[1;32mexcept\u001b[0m \u001b[0merrors\u001b[0m\u001b[1;33m.\u001b[0m\u001b[0mOpError\u001b[0m \u001b[1;32mas\u001b[0m \u001b[0me\u001b[0m\u001b[1;33m:\u001b[0m\u001b[1;33m\u001b[0m\u001b[0m\n\u001b[0;32m   1280\u001b[0m       \u001b[0mmessage\u001b[0m \u001b[1;33m=\u001b[0m \u001b[0mcompat\u001b[0m\u001b[1;33m.\u001b[0m\u001b[0mas_text\u001b[0m\u001b[1;33m(\u001b[0m\u001b[0me\u001b[0m\u001b[1;33m.\u001b[0m\u001b[0mmessage\u001b[0m\u001b[1;33m)\u001b[0m\u001b[1;33m\u001b[0m\u001b[0m\n",
      "\u001b[1;32mC:\\ProgramData\\Anaconda3\\lib\\site-packages\\tensorflow\\python\\client\\session.py\u001b[0m in \u001b[0;36m_run_fn\u001b[1;34m(feed_dict, fetch_list, target_list, options, run_metadata)\u001b[0m\n\u001b[0;32m   1261\u001b[0m       \u001b[0mself\u001b[0m\u001b[1;33m.\u001b[0m\u001b[0m_extend_graph\u001b[0m\u001b[1;33m(\u001b[0m\u001b[1;33m)\u001b[0m\u001b[1;33m\u001b[0m\u001b[0m\n\u001b[0;32m   1262\u001b[0m       return self._call_tf_sessionrun(\n\u001b[1;32m-> 1263\u001b[1;33m           options, feed_dict, fetch_list, target_list, run_metadata)\n\u001b[0m\u001b[0;32m   1264\u001b[0m \u001b[1;33m\u001b[0m\u001b[0m\n\u001b[0;32m   1265\u001b[0m     \u001b[1;32mdef\u001b[0m \u001b[0m_prun_fn\u001b[0m\u001b[1;33m(\u001b[0m\u001b[0mhandle\u001b[0m\u001b[1;33m,\u001b[0m \u001b[0mfeed_dict\u001b[0m\u001b[1;33m,\u001b[0m \u001b[0mfetch_list\u001b[0m\u001b[1;33m)\u001b[0m\u001b[1;33m:\u001b[0m\u001b[1;33m\u001b[0m\u001b[0m\n",
      "\u001b[1;32mC:\\ProgramData\\Anaconda3\\lib\\site-packages\\tensorflow\\python\\client\\session.py\u001b[0m in \u001b[0;36m_call_tf_sessionrun\u001b[1;34m(self, options, feed_dict, fetch_list, target_list, run_metadata)\u001b[0m\n\u001b[0;32m   1348\u001b[0m     return tf_session.TF_SessionRun_wrapper(\n\u001b[0;32m   1349\u001b[0m         \u001b[0mself\u001b[0m\u001b[1;33m.\u001b[0m\u001b[0m_session\u001b[0m\u001b[1;33m,\u001b[0m \u001b[0moptions\u001b[0m\u001b[1;33m,\u001b[0m \u001b[0mfeed_dict\u001b[0m\u001b[1;33m,\u001b[0m \u001b[0mfetch_list\u001b[0m\u001b[1;33m,\u001b[0m \u001b[0mtarget_list\u001b[0m\u001b[1;33m,\u001b[0m\u001b[1;33m\u001b[0m\u001b[0m\n\u001b[1;32m-> 1350\u001b[1;33m         run_metadata)\n\u001b[0m\u001b[0;32m   1351\u001b[0m \u001b[1;33m\u001b[0m\u001b[0m\n\u001b[0;32m   1352\u001b[0m   \u001b[1;32mdef\u001b[0m \u001b[0m_call_tf_sessionprun\u001b[0m\u001b[1;33m(\u001b[0m\u001b[0mself\u001b[0m\u001b[1;33m,\u001b[0m \u001b[0mhandle\u001b[0m\u001b[1;33m,\u001b[0m \u001b[0mfeed_dict\u001b[0m\u001b[1;33m,\u001b[0m \u001b[0mfetch_list\u001b[0m\u001b[1;33m)\u001b[0m\u001b[1;33m:\u001b[0m\u001b[1;33m\u001b[0m\u001b[0m\n",
      "\u001b[1;31mKeyboardInterrupt\u001b[0m: "
     ]
    }
   ],
   "source": [
    "thisscope=\"v4-noflip1\"\n",
    "with tf.variable_scope(thisscope):\n",
    "    for i in range(300):\n",
    "        if i%10==0:\n",
    "            print (\"batch \",i,end=\"\")\n",
    "        _, loss_value, y, cor_y = sess.run([ handles[thisscope][\"train_op\"], \n",
    "                                             handles[thisscope][\"loss\"],\n",
    "                                             handles[thisscope][\"y\"],\n",
    "                                             handles[thisscope][\"correct_y\"] ] )\n",
    "        \n",
    "        if i%10==0:\n",
    "            valacc(thisscope, \"noflip160_valid.tfrec\", averages_nf160, 2000)\n",
    "            print (\"\\t fit accuracy: vert \", np.mean( np.argmax(y[0],axis=1) == cor_y[0] ), \n",
    "                          \"%, \\t horiz \", np.mean( np.argmax(y[1],axis=1) == cor_y[1] ), \"%\" )\n",
    "        handles[thisscope][\"loss_history\"].append(loss_value)"
   ]
  },
  {
   "cell_type": "code",
   "execution_count": 46,
   "metadata": {
    "ExecuteTime": {
     "end_time": "2019-02-02T23:23:00.107140Z",
     "start_time": "2019-02-02T23:22:45.914191Z"
    },
    "hidden": true
   },
   "outputs": [
    {
     "name": "stdout",
     "output_type": "stream",
     "text": [
      "WARNING:tensorflow:case: An unordered dictionary of predicate/fn pairs was provided, but exclusive=False. The order of conditional tests is deterministic but not guaranteed.\n",
      "WARNING:tensorflow:case: An unordered dictionary of predicate/fn pairs was provided, but exclusive=False. The order of conditional tests is deterministic but not guaranteed.\n",
      "\t validation accuracy: vert  47.599999999999994 %, \t horiz  39.0 %\n"
     ]
    }
   ],
   "source": [
    "valacc(thisscope, \"stable160_test.tfrec\", averages_norm160, 500)"
   ]
  },
  {
   "cell_type": "markdown",
   "metadata": {
    "heading_collapsed": true
   },
   "source": [
    "###### v4-train160"
   ]
  },
  {
   "cell_type": "code",
   "execution_count": 52,
   "metadata": {
    "ExecuteTime": {
     "end_time": "2019-02-02T23:42:41.266954Z",
     "start_time": "2019-02-02T23:42:39.300972Z"
    },
    "hidden": true
   },
   "outputs": [
    {
     "name": "stdout",
     "output_type": "stream",
     "text": [
      "WARNING:tensorflow:case: An unordered dictionary of predicate/fn pairs was provided, but exclusive=False. The order of conditional tests is deterministic but not guaranteed.\n",
      "WARNING:tensorflow:case: An unordered dictionary of predicate/fn pairs was provided, but exclusive=False. The order of conditional tests is deterministic but not guaranteed.\n"
     ]
    }
   ],
   "source": [
    "thisscope=\"v4-train160-1\"\n",
    "handles[thisscope] = initialize_training_forfunc_averages(thisscope, appended_full_model_v4, averages_train160, \"noflip160_train.tfrec\", optname=\"b\")"
   ]
  },
  {
   "cell_type": "code",
   "execution_count": 54,
   "metadata": {
    "ExecuteTime": {
     "end_time": "2019-02-02T23:54:09.407510Z",
     "start_time": "2019-02-02T23:49:29.610601Z"
    },
    "hidden": true
   },
   "outputs": [
    {
     "name": "stdout",
     "output_type": "stream",
     "text": [
      "batch  0\t fit accuracy: vert  0.37109375 %, \t horiz  0.3671875 %\n",
      "batch  10\t fit accuracy: vert  0.408203125 %, \t horiz  0.3818359375 %\n",
      "batch  20\t fit accuracy: vert  0.5107421875 %, \t horiz  0.4443359375 %\n",
      "batch  30\t fit accuracy: vert  0.5390625 %, \t horiz  0.4931640625 %\n",
      "batch  40\t fit accuracy: vert  0.61328125 %, \t horiz  0.6123046875 %\n",
      "batch  50\t fit accuracy: vert  0.6865234375 %, \t horiz  0.677734375 %\n",
      "batch  60\t fit accuracy: vert  0.7490234375 %, \t horiz  0.732421875 %\n",
      "batch  70\t fit accuracy: vert  0.8115234375 %, \t horiz  0.765625 %\n",
      "batch  80\t fit accuracy: vert  0.833984375 %, \t horiz  0.8125 %\n",
      "batch  90\t fit accuracy: vert  0.8779296875 %, \t horiz  0.849609375 %\n",
      "batch  100\t fit accuracy: vert  0.93359375 %, \t horiz  0.8955078125 %\n",
      "batch  110\t fit accuracy: vert  0.9658203125 %, \t horiz  0.9404296875 %\n"
     ]
    },
    {
     "ename": "KeyboardInterrupt",
     "evalue": "",
     "output_type": "error",
     "traceback": [
      "\u001b[1;31m---------------------------------------------------------------------------\u001b[0m",
      "\u001b[1;31mKeyboardInterrupt\u001b[0m                         Traceback (most recent call last)",
      "\u001b[1;32m<ipython-input-54-bff09638ac1e>\u001b[0m in \u001b[0;36m<module>\u001b[1;34m()\u001b[0m\n\u001b[0;32m      7\u001b[0m                                              \u001b[0mhandles\u001b[0m\u001b[1;33m[\u001b[0m\u001b[0mthisscope\u001b[0m\u001b[1;33m]\u001b[0m\u001b[1;33m[\u001b[0m\u001b[1;34m\"loss\"\u001b[0m\u001b[1;33m]\u001b[0m\u001b[1;33m,\u001b[0m\u001b[1;33m\u001b[0m\u001b[0m\n\u001b[0;32m      8\u001b[0m                                              \u001b[0mhandles\u001b[0m\u001b[1;33m[\u001b[0m\u001b[0mthisscope\u001b[0m\u001b[1;33m]\u001b[0m\u001b[1;33m[\u001b[0m\u001b[1;34m\"y\"\u001b[0m\u001b[1;33m]\u001b[0m\u001b[1;33m,\u001b[0m\u001b[1;33m\u001b[0m\u001b[0m\n\u001b[1;32m----> 9\u001b[1;33m                                              handles[thisscope][\"correct_y\"] ] )\n\u001b[0m\u001b[0;32m     10\u001b[0m \u001b[1;33m\u001b[0m\u001b[0m\n\u001b[0;32m     11\u001b[0m         \u001b[1;32mif\u001b[0m \u001b[0mi\u001b[0m\u001b[1;33m%\u001b[0m\u001b[1;36m10\u001b[0m\u001b[1;33m==\u001b[0m\u001b[1;36m0\u001b[0m\u001b[1;33m:\u001b[0m\u001b[1;33m\u001b[0m\u001b[0m\n",
      "\u001b[1;32mC:\\ProgramData\\Anaconda3\\lib\\site-packages\\tensorflow\\python\\client\\session.py\u001b[0m in \u001b[0;36mrun\u001b[1;34m(self, fetches, feed_dict, options, run_metadata)\u001b[0m\n\u001b[0;32m    875\u001b[0m     \u001b[1;32mtry\u001b[0m\u001b[1;33m:\u001b[0m\u001b[1;33m\u001b[0m\u001b[0m\n\u001b[0;32m    876\u001b[0m       result = self._run(None, fetches, feed_dict, options_ptr,\n\u001b[1;32m--> 877\u001b[1;33m                          run_metadata_ptr)\n\u001b[0m\u001b[0;32m    878\u001b[0m       \u001b[1;32mif\u001b[0m \u001b[0mrun_metadata\u001b[0m\u001b[1;33m:\u001b[0m\u001b[1;33m\u001b[0m\u001b[0m\n\u001b[0;32m    879\u001b[0m         \u001b[0mproto_data\u001b[0m \u001b[1;33m=\u001b[0m \u001b[0mtf_session\u001b[0m\u001b[1;33m.\u001b[0m\u001b[0mTF_GetBuffer\u001b[0m\u001b[1;33m(\u001b[0m\u001b[0mrun_metadata_ptr\u001b[0m\u001b[1;33m)\u001b[0m\u001b[1;33m\u001b[0m\u001b[0m\n",
      "\u001b[1;32mC:\\ProgramData\\Anaconda3\\lib\\site-packages\\tensorflow\\python\\client\\session.py\u001b[0m in \u001b[0;36m_run\u001b[1;34m(self, handle, fetches, feed_dict, options, run_metadata)\u001b[0m\n\u001b[0;32m   1098\u001b[0m     \u001b[1;32mif\u001b[0m \u001b[0mfinal_fetches\u001b[0m \u001b[1;32mor\u001b[0m \u001b[0mfinal_targets\u001b[0m \u001b[1;32mor\u001b[0m \u001b[1;33m(\u001b[0m\u001b[0mhandle\u001b[0m \u001b[1;32mand\u001b[0m \u001b[0mfeed_dict_tensor\u001b[0m\u001b[1;33m)\u001b[0m\u001b[1;33m:\u001b[0m\u001b[1;33m\u001b[0m\u001b[0m\n\u001b[0;32m   1099\u001b[0m       results = self._do_run(handle, final_targets, final_fetches,\n\u001b[1;32m-> 1100\u001b[1;33m                              feed_dict_tensor, options, run_metadata)\n\u001b[0m\u001b[0;32m   1101\u001b[0m     \u001b[1;32melse\u001b[0m\u001b[1;33m:\u001b[0m\u001b[1;33m\u001b[0m\u001b[0m\n\u001b[0;32m   1102\u001b[0m       \u001b[0mresults\u001b[0m \u001b[1;33m=\u001b[0m \u001b[1;33m[\u001b[0m\u001b[1;33m]\u001b[0m\u001b[1;33m\u001b[0m\u001b[0m\n",
      "\u001b[1;32mC:\\ProgramData\\Anaconda3\\lib\\site-packages\\tensorflow\\python\\client\\session.py\u001b[0m in \u001b[0;36m_do_run\u001b[1;34m(self, handle, target_list, fetch_list, feed_dict, options, run_metadata)\u001b[0m\n\u001b[0;32m   1270\u001b[0m     \u001b[1;32mif\u001b[0m \u001b[0mhandle\u001b[0m \u001b[1;32mis\u001b[0m \u001b[1;32mNone\u001b[0m\u001b[1;33m:\u001b[0m\u001b[1;33m\u001b[0m\u001b[0m\n\u001b[0;32m   1271\u001b[0m       return self._do_call(_run_fn, feeds, fetches, targets, options,\n\u001b[1;32m-> 1272\u001b[1;33m                            run_metadata)\n\u001b[0m\u001b[0;32m   1273\u001b[0m     \u001b[1;32melse\u001b[0m\u001b[1;33m:\u001b[0m\u001b[1;33m\u001b[0m\u001b[0m\n\u001b[0;32m   1274\u001b[0m       \u001b[1;32mreturn\u001b[0m \u001b[0mself\u001b[0m\u001b[1;33m.\u001b[0m\u001b[0m_do_call\u001b[0m\u001b[1;33m(\u001b[0m\u001b[0m_prun_fn\u001b[0m\u001b[1;33m,\u001b[0m \u001b[0mhandle\u001b[0m\u001b[1;33m,\u001b[0m \u001b[0mfeeds\u001b[0m\u001b[1;33m,\u001b[0m \u001b[0mfetches\u001b[0m\u001b[1;33m)\u001b[0m\u001b[1;33m\u001b[0m\u001b[0m\n",
      "\u001b[1;32mC:\\ProgramData\\Anaconda3\\lib\\site-packages\\tensorflow\\python\\client\\session.py\u001b[0m in \u001b[0;36m_do_call\u001b[1;34m(self, fn, *args)\u001b[0m\n\u001b[0;32m   1276\u001b[0m   \u001b[1;32mdef\u001b[0m \u001b[0m_do_call\u001b[0m\u001b[1;33m(\u001b[0m\u001b[0mself\u001b[0m\u001b[1;33m,\u001b[0m \u001b[0mfn\u001b[0m\u001b[1;33m,\u001b[0m \u001b[1;33m*\u001b[0m\u001b[0margs\u001b[0m\u001b[1;33m)\u001b[0m\u001b[1;33m:\u001b[0m\u001b[1;33m\u001b[0m\u001b[0m\n\u001b[0;32m   1277\u001b[0m     \u001b[1;32mtry\u001b[0m\u001b[1;33m:\u001b[0m\u001b[1;33m\u001b[0m\u001b[0m\n\u001b[1;32m-> 1278\u001b[1;33m       \u001b[1;32mreturn\u001b[0m \u001b[0mfn\u001b[0m\u001b[1;33m(\u001b[0m\u001b[1;33m*\u001b[0m\u001b[0margs\u001b[0m\u001b[1;33m)\u001b[0m\u001b[1;33m\u001b[0m\u001b[0m\n\u001b[0m\u001b[0;32m   1279\u001b[0m     \u001b[1;32mexcept\u001b[0m \u001b[0merrors\u001b[0m\u001b[1;33m.\u001b[0m\u001b[0mOpError\u001b[0m \u001b[1;32mas\u001b[0m \u001b[0me\u001b[0m\u001b[1;33m:\u001b[0m\u001b[1;33m\u001b[0m\u001b[0m\n\u001b[0;32m   1280\u001b[0m       \u001b[0mmessage\u001b[0m \u001b[1;33m=\u001b[0m \u001b[0mcompat\u001b[0m\u001b[1;33m.\u001b[0m\u001b[0mas_text\u001b[0m\u001b[1;33m(\u001b[0m\u001b[0me\u001b[0m\u001b[1;33m.\u001b[0m\u001b[0mmessage\u001b[0m\u001b[1;33m)\u001b[0m\u001b[1;33m\u001b[0m\u001b[0m\n",
      "\u001b[1;32mC:\\ProgramData\\Anaconda3\\lib\\site-packages\\tensorflow\\python\\client\\session.py\u001b[0m in \u001b[0;36m_run_fn\u001b[1;34m(feed_dict, fetch_list, target_list, options, run_metadata)\u001b[0m\n\u001b[0;32m   1261\u001b[0m       \u001b[0mself\u001b[0m\u001b[1;33m.\u001b[0m\u001b[0m_extend_graph\u001b[0m\u001b[1;33m(\u001b[0m\u001b[1;33m)\u001b[0m\u001b[1;33m\u001b[0m\u001b[0m\n\u001b[0;32m   1262\u001b[0m       return self._call_tf_sessionrun(\n\u001b[1;32m-> 1263\u001b[1;33m           options, feed_dict, fetch_list, target_list, run_metadata)\n\u001b[0m\u001b[0;32m   1264\u001b[0m \u001b[1;33m\u001b[0m\u001b[0m\n\u001b[0;32m   1265\u001b[0m     \u001b[1;32mdef\u001b[0m \u001b[0m_prun_fn\u001b[0m\u001b[1;33m(\u001b[0m\u001b[0mhandle\u001b[0m\u001b[1;33m,\u001b[0m \u001b[0mfeed_dict\u001b[0m\u001b[1;33m,\u001b[0m \u001b[0mfetch_list\u001b[0m\u001b[1;33m)\u001b[0m\u001b[1;33m:\u001b[0m\u001b[1;33m\u001b[0m\u001b[0m\n",
      "\u001b[1;32mC:\\ProgramData\\Anaconda3\\lib\\site-packages\\tensorflow\\python\\client\\session.py\u001b[0m in \u001b[0;36m_call_tf_sessionrun\u001b[1;34m(self, options, feed_dict, fetch_list, target_list, run_metadata)\u001b[0m\n\u001b[0;32m   1348\u001b[0m     return tf_session.TF_SessionRun_wrapper(\n\u001b[0;32m   1349\u001b[0m         \u001b[0mself\u001b[0m\u001b[1;33m.\u001b[0m\u001b[0m_session\u001b[0m\u001b[1;33m,\u001b[0m \u001b[0moptions\u001b[0m\u001b[1;33m,\u001b[0m \u001b[0mfeed_dict\u001b[0m\u001b[1;33m,\u001b[0m \u001b[0mfetch_list\u001b[0m\u001b[1;33m,\u001b[0m \u001b[0mtarget_list\u001b[0m\u001b[1;33m,\u001b[0m\u001b[1;33m\u001b[0m\u001b[0m\n\u001b[1;32m-> 1350\u001b[1;33m         run_metadata)\n\u001b[0m\u001b[0;32m   1351\u001b[0m \u001b[1;33m\u001b[0m\u001b[0m\n\u001b[0;32m   1352\u001b[0m   \u001b[1;32mdef\u001b[0m \u001b[0m_call_tf_sessionprun\u001b[0m\u001b[1;33m(\u001b[0m\u001b[0mself\u001b[0m\u001b[1;33m,\u001b[0m \u001b[0mhandle\u001b[0m\u001b[1;33m,\u001b[0m \u001b[0mfeed_dict\u001b[0m\u001b[1;33m,\u001b[0m \u001b[0mfetch_list\u001b[0m\u001b[1;33m)\u001b[0m\u001b[1;33m:\u001b[0m\u001b[1;33m\u001b[0m\u001b[0m\n",
      "\u001b[1;31mKeyboardInterrupt\u001b[0m: "
     ]
    }
   ],
   "source": [
    "thisscope=\"v4-train160-1\"\n",
    "with tf.variable_scope(thisscope):\n",
    "    for i in range(300):\n",
    "        if i%10==0:\n",
    "            print (\"batch \",i,end=\"\")\n",
    "        _, loss_value, y, cor_y = sess.run([ handles[thisscope][\"train_op\"], \n",
    "                                             handles[thisscope][\"loss\"],\n",
    "                                             handles[thisscope][\"y\"],\n",
    "                                             handles[thisscope][\"correct_y\"] ] )\n",
    "        \n",
    "        if i%10==0:\n",
    "            a,b =  (np.mean( np.argmax(y[0],axis=1) == cor_y[0] ),np.mean( np.argmax(y[1],axis=1) == cor_y[1] ))\n",
    "            print (\"\\t fit accuracy: vert \", a, \"%, \\t horiz \",b , \"%\" )\n",
    "            #handles[thisscope][\"fit_history\"].append((a,b))\n",
    "            #handles[thisscope][\"val_history\"].append(valacc(thisscope, \"noflip160_valid.tfrec\", averages_nf160, 2000))\n",
    "        handles[thisscope][\"loss_history\"].append(loss_value)"
   ]
  },
  {
   "cell_type": "code",
   "execution_count": 55,
   "metadata": {
    "ExecuteTime": {
     "end_time": "2019-02-02T23:55:10.813867Z",
     "start_time": "2019-02-02T23:55:01.225872Z"
    },
    "hidden": true
   },
   "outputs": [
    {
     "name": "stdout",
     "output_type": "stream",
     "text": [
      "WARNING:tensorflow:case: An unordered dictionary of predicate/fn pairs was provided, but exclusive=False. The order of conditional tests is deterministic but not guaranteed.\n",
      "WARNING:tensorflow:case: An unordered dictionary of predicate/fn pairs was provided, but exclusive=False. The order of conditional tests is deterministic but not guaranteed.\n",
      "\t validation accuracy: vert  62.8 %, \t horiz  63.2 %\n"
     ]
    },
    {
     "data": {
      "text/plain": [
       "(62.8, 63.2)"
      ]
     },
     "execution_count": 55,
     "metadata": {},
     "output_type": "execute_result"
    }
   ],
   "source": [
    "valacc(thisscope, \"only9_train.tfrec\", averages_norm160, 500)"
   ]
  },
  {
   "cell_type": "markdown",
   "metadata": {
    "heading_collapsed": true
   },
   "source": [
    "###### v4-try1000"
   ]
  },
  {
   "cell_type": "code",
   "execution_count": 15,
   "metadata": {
    "ExecuteTime": {
     "end_time": "2019-02-17T19:04:11.109079Z",
     "start_time": "2019-02-17T19:04:08.016138Z"
    },
    "hidden": true
   },
   "outputs": [],
   "source": [
    "averages_1000 = tftonp('1000_train.tfrec',1000)"
   ]
  },
  {
   "cell_type": "code",
   "execution_count": 23,
   "metadata": {
    "ExecuteTime": {
     "end_time": "2019-02-08T00:13:27.474773Z",
     "start_time": "2019-02-08T00:13:26.067781Z"
    },
    "hidden": true
   },
   "outputs": [
    {
     "name": "stdout",
     "output_type": "stream",
     "text": [
      "WARNING:tensorflow:case: An unordered dictionary of predicate/fn pairs was provided, but exclusive=False. The order of conditional tests is deterministic but not guaranteed.\n",
      "WARNING:tensorflow:case: An unordered dictionary of predicate/fn pairs was provided, but exclusive=False. The order of conditional tests is deterministic but not guaranteed.\n",
      "WARNING:tensorflow:From <ipython-input-19-3b36a415d19f>:19: softmax_cross_entropy_with_logits (from tensorflow.python.ops.nn_ops) is deprecated and will be removed in a future version.\n",
      "Instructions for updating:\n",
      "\n",
      "Future major versions of TensorFlow will allow gradients to flow\n",
      "into the labels input on backprop by default.\n",
      "\n",
      "See @{tf.nn.softmax_cross_entropy_with_logits_v2}.\n",
      "\n"
     ]
    }
   ],
   "source": [
    "thisscope=\"v4-train1000\"\n",
    "handles[thisscope] = initialize_training_forfunc_averages(thisscope, appended_full_model_v4, averages_1000, \"1000_train.tfrec\", optname=\"a\")"
   ]
  },
  {
   "cell_type": "code",
   "execution_count": 24,
   "metadata": {
    "ExecuteTime": {
     "end_time": "2019-02-08T00:23:52.722347Z",
     "start_time": "2019-02-08T00:13:55.314464Z"
    },
    "hidden": true
   },
   "outputs": [
    {
     "name": "stdout",
     "output_type": "stream",
     "text": [
      "batch  0\t fit accuracy: vert  0.3388671875 %, \t horiz  0.31640625 %\n",
      "batch  10\t fit accuracy: vert  0.380859375 %, \t horiz  0.38671875 %\n",
      "batch  20\t fit accuracy: vert  0.4541015625 %, \t horiz  0.4326171875 %\n",
      "batch  30\t fit accuracy: vert  0.5634765625 %, \t horiz  0.4873046875 %\n",
      "batch  40\t fit accuracy: vert  0.59765625 %, \t horiz  0.4951171875 %\n",
      "batch  50\t fit accuracy: vert  0.5908203125 %, \t horiz  0.5361328125 %\n",
      "batch  60\t fit accuracy: vert  0.6669921875 %, \t horiz  0.5703125 %\n",
      "batch  70\t fit accuracy: vert  0.6904296875 %, \t horiz  0.57421875 %\n",
      "batch  80\t fit accuracy: vert  0.7177734375 %, \t horiz  0.57421875 %\n",
      "batch  90\t fit accuracy: vert  0.7431640625 %, \t horiz  0.5908203125 %\n",
      "batch  100\t fit accuracy: vert  0.7421875 %, \t horiz  0.65625 %\n",
      "batch  110\t fit accuracy: vert  0.7724609375 %, \t horiz  0.6630859375 %\n",
      "batch  120\t fit accuracy: vert  0.78515625 %, \t horiz  0.66015625 %\n",
      "batch  130\t fit accuracy: vert  0.7734375 %, \t horiz  0.69140625 %\n",
      "batch  140\t fit accuracy: vert  0.8076171875 %, \t horiz  0.697265625 %\n",
      "batch  150\t fit accuracy: vert  0.8203125 %, \t horiz  0.712890625 %\n",
      "batch  160\t fit accuracy: vert  0.81640625 %, \t horiz  0.720703125 %\n",
      "batch  170\t fit accuracy: vert  0.830078125 %, \t horiz  0.73828125 %\n",
      "batch  180\t fit accuracy: vert  0.8212890625 %, \t horiz  0.7470703125 %\n",
      "batch  190\t fit accuracy: vert  0.8359375 %, \t horiz  0.7587890625 %\n",
      "batch  200\t fit accuracy: vert  0.8212890625 %, \t horiz  0.7685546875 %\n",
      "batch  210\t fit accuracy: vert  0.8486328125 %, \t horiz  0.7646484375 %\n",
      "batch  220\t fit accuracy: vert  0.857421875 %, \t horiz  0.7939453125 %\n",
      "batch  230\t fit accuracy: vert  0.857421875 %, \t horiz  0.783203125 %\n",
      "batch  240\t fit accuracy: vert  0.8515625 %, \t horiz  0.775390625 %\n",
      "batch  250\t fit accuracy: vert  0.861328125 %, \t horiz  0.7763671875 %\n",
      "batch  260\t fit accuracy: vert  0.8837890625 %, \t horiz  0.78125 %\n",
      "batch  270\t fit accuracy: vert  0.8603515625 %, \t horiz  0.8046875 %\n",
      "batch  280\t fit accuracy: vert  0.86328125 %, \t horiz  0.7978515625 %\n",
      "batch  290\t fit accuracy: vert  0.865234375 %, \t horiz  0.7734375 %\n"
     ]
    }
   ],
   "source": [
    "thisscope=\"v4-train1000\"\n",
    "with tf.variable_scope(thisscope):\n",
    "    for i in range(300):\n",
    "        if i%10==0:\n",
    "            print (\"batch \",i,end=\"\")\n",
    "        _, loss_value, y, cor_y = sess.run([ handles[thisscope][\"train_op\"], \n",
    "                                             handles[thisscope][\"loss\"],\n",
    "                                             handles[thisscope][\"y\"],\n",
    "                                             handles[thisscope][\"correct_y\"] ] )\n",
    "        \n",
    "        if i%10==0:\n",
    "            a,b =  (np.mean( np.argmax(y[0],axis=1) == cor_y[0] ),np.mean( np.argmax(y[1],axis=1) == cor_y[1] ))\n",
    "            print (\"\\t fit accuracy: vert \", a, \"%, \\t horiz \",b , \"%\" )\n",
    "            #handles[thisscope][\"fit_history\"].append((a,b))\n",
    "            #handles[thisscope][\"val_history\"].append(valacc(thisscope, \"noflip160_valid.tfrec\", averages_nf160, 2000))\n",
    "        handles[thisscope][\"loss_history\"].append(loss_value)"
   ]
  },
  {
   "cell_type": "code",
   "execution_count": 25,
   "metadata": {
    "ExecuteTime": {
     "end_time": "2019-02-08T00:34:05.137769Z",
     "start_time": "2019-02-08T00:33:56.156872Z"
    },
    "hidden": true
   },
   "outputs": [
    {
     "name": "stdout",
     "output_type": "stream",
     "text": [
      "WARNING:tensorflow:case: An unordered dictionary of predicate/fn pairs was provided, but exclusive=False. The order of conditional tests is deterministic but not guaranteed.\n",
      "WARNING:tensorflow:case: An unordered dictionary of predicate/fn pairs was provided, but exclusive=False. The order of conditional tests is deterministic but not guaranteed.\n",
      "\t validation accuracy: vert  59.8 %, \t horiz  49.4 %\n"
     ]
    },
    {
     "data": {
      "text/plain": [
       "(59.8, 49.4)"
      ]
     },
     "execution_count": 25,
     "metadata": {},
     "output_type": "execute_result"
    }
   ],
   "source": [
    "valacc(thisscope, \"1000_test.tfrec\", averages_1000, 500)"
   ]
  },
  {
   "cell_type": "code",
   "execution_count": 29,
   "metadata": {
    "ExecuteTime": {
     "end_time": "2019-02-08T00:35:02.473654Z",
     "start_time": "2019-02-08T00:35:02.173658Z"
    },
    "hidden": true
   },
   "outputs": [
    {
     "data": {
      "text/plain": [
       "(0, 1)"
      ]
     },
     "execution_count": 29,
     "metadata": {},
     "output_type": "execute_result"
    },
    {
     "data": {
      "image/png": "[encoded data removed]",
      "text/plain": [
       "<matplotlib.figure.Figure at 0x1deeef6dda0>"
      ]
     },
     "metadata": {},
     "output_type": "display_data"
    }
   ],
   "source": [
    "plt.plot(handles[thisscope][\"loss_history\"][50:])\n",
    "plt.ylim(0,1)"
   ]
  },
  {
   "cell_type": "code",
   "execution_count": 30,
   "metadata": {
    "ExecuteTime": {
     "end_time": "2019-02-08T00:35:32.048328Z",
     "start_time": "2019-02-08T00:35:31.123333Z"
    },
    "hidden": true
   },
   "outputs": [
    {
     "name": "stdout",
     "output_type": "stream",
     "text": [
      "WARNING:tensorflow:case: An unordered dictionary of predicate/fn pairs was provided, but exclusive=False. The order of conditional tests is deterministic but not guaranteed.\n",
      "WARNING:tensorflow:case: An unordered dictionary of predicate/fn pairs was provided, but exclusive=False. The order of conditional tests is deterministic but not guaranteed.\n"
     ]
    }
   ],
   "source": [
    "thisscope=\"v4-train1001\"\n",
    "handles[thisscope] = initialize_training_forfunc_averages(thisscope, appended_full_model_v4, averages_1000, \"1000_train.tfrec\", optname=\"a\")"
   ]
  },
  {
   "cell_type": "code",
   "execution_count": 31,
   "metadata": {
    "ExecuteTime": {
     "end_time": "2019-02-08T00:52:43.794849Z",
     "start_time": "2019-02-08T00:35:41.606216Z"
    },
    "hidden": true
   },
   "outputs": [
    {
     "name": "stdout",
     "output_type": "stream",
     "text": [
      "batch  0\t fit accuracy: vert  0.3720703125 %, \t horiz  0.3583984375 %\n",
      "batch  10\t fit accuracy: vert  0.369140625 %, \t horiz  0.3515625 %\n",
      "batch  20\t fit accuracy: vert  0.5185546875 %, \t horiz  0.3984375 %\n",
      "batch  30\t fit accuracy: vert  0.5830078125 %, \t horiz  0.44140625 %\n",
      "batch  40\t fit accuracy: vert  0.638671875 %, \t horiz  0.5068359375 %\n",
      "batch  50\t fit accuracy: vert  0.6396484375 %, \t horiz  0.5029296875 %\n",
      "batch  60\t fit accuracy: vert  0.6904296875 %, \t horiz  0.515625 %\n",
      "batch  70\t fit accuracy: vert  0.697265625 %, \t horiz  0.564453125 %\n",
      "batch  80\t fit accuracy: vert  0.7607421875 %, \t horiz  0.6044921875 %\n",
      "batch  90\t fit accuracy: vert  0.720703125 %, \t horiz  0.5625 %\n",
      "batch  100\t fit accuracy: vert  0.76171875 %, \t horiz  0.6005859375 %\n",
      "batch  110\t fit accuracy: vert  0.8056640625 %, \t horiz  0.6435546875 %\n",
      "batch  120\t fit accuracy: vert  0.77734375 %, \t horiz  0.607421875 %\n",
      "batch  130\t fit accuracy: vert  0.8037109375 %, \t horiz  0.6708984375 %\n",
      "batch  140\t fit accuracy: vert  0.8251953125 %, \t horiz  0.6591796875 %\n",
      "batch  150\t fit accuracy: vert  0.7978515625 %, \t horiz  0.669921875 %\n",
      "batch  160\t fit accuracy: vert  0.82421875 %, \t horiz  0.693359375 %\n",
      "batch  170\t fit accuracy: vert  0.8408203125 %, \t horiz  0.708984375 %\n",
      "batch  180\t fit accuracy: vert  0.798828125 %, \t horiz  0.689453125 %\n",
      "batch  190\t fit accuracy: vert  0.841796875 %, \t horiz  0.7333984375 %\n",
      "batch  200\t fit accuracy: vert  0.8388671875 %, \t horiz  0.7333984375 %\n",
      "batch  210\t fit accuracy: vert  0.8203125 %, \t horiz  0.734375 %\n",
      "batch  220\t fit accuracy: vert  0.8720703125 %, \t horiz  0.75 %\n",
      "batch  230\t fit accuracy: vert  0.845703125 %, \t horiz  0.763671875 %\n",
      "batch  240\t fit accuracy: vert  0.8486328125 %, \t horiz  0.751953125 %\n",
      "batch  250\t fit accuracy: vert  0.8798828125 %, \t horiz  0.7470703125 %\n",
      "batch  260\t fit accuracy: vert  0.861328125 %, \t horiz  0.76953125 %\n",
      "batch  270\t fit accuracy: vert  0.8818359375 %, \t horiz  0.759765625 %\n",
      "batch  280\t fit accuracy: vert  0.87890625 %, \t horiz  0.7763671875 %\n",
      "batch  290\t fit accuracy: vert  0.892578125 %, \t horiz  0.7978515625 %\n",
      "batch  300\t fit accuracy: vert  0.8916015625 %, \t horiz  0.7763671875 %\n",
      "batch  310\t fit accuracy: vert  0.8876953125 %, \t horiz  0.796875 %\n",
      "batch  320\t fit accuracy: vert  0.876953125 %, \t horiz  0.7685546875 %\n",
      "batch  330\t fit accuracy: vert  0.892578125 %, \t horiz  0.787109375 %\n",
      "batch  340\t fit accuracy: vert  0.8935546875 %, \t horiz  0.8125 %\n",
      "batch  350\t fit accuracy: vert  0.896484375 %, \t horiz  0.7880859375 %\n",
      "batch  360\t fit accuracy: vert  0.91796875 %, \t horiz  0.83984375 %\n",
      "batch  370\t fit accuracy: vert  0.892578125 %, \t horiz  0.765625 %\n",
      "batch  380\t fit accuracy: vert  0.892578125 %, \t horiz  0.79296875 %\n",
      "batch  390\t fit accuracy: vert  0.9091796875 %, \t horiz  0.8291015625 %\n",
      "batch  400\t fit accuracy: vert  0.91015625 %, \t horiz  0.8037109375 %\n",
      "batch  410\t fit accuracy: vert  0.9013671875 %, \t horiz  0.828125 %\n",
      "batch  420\t fit accuracy: vert  0.908203125 %, \t horiz  0.8349609375 %\n",
      "batch  430\t fit accuracy: vert  0.9052734375 %, \t horiz  0.830078125 %\n",
      "batch  440\t fit accuracy: vert  0.9208984375 %, \t horiz  0.841796875 %\n",
      "batch  450\t fit accuracy: vert  0.9140625 %, \t horiz  0.82421875 %\n",
      "batch  460\t fit accuracy: vert  0.9169921875 %, \t horiz  0.8232421875 %\n",
      "batch  470\t fit accuracy: vert  0.9287109375 %, \t horiz  0.853515625 %\n",
      "batch  480\t fit accuracy: vert  0.9111328125 %, \t horiz  0.84765625 %\n",
      "batch  490\t fit accuracy: vert  0.9150390625 %, \t horiz  0.8603515625 %\n"
     ]
    }
   ],
   "source": [
    "thisscope=\"v4-train1001\"\n",
    "with tf.variable_scope(thisscope):\n",
    "    for i in range(500):\n",
    "        if i%10==0:\n",
    "            print (\"batch \",i,end=\"\")\n",
    "        _, loss_value, y, cor_y = sess.run([ handles[thisscope][\"train_op\"], \n",
    "                                             handles[thisscope][\"loss\"],\n",
    "                                             handles[thisscope][\"y\"],\n",
    "                                             handles[thisscope][\"correct_y\"] ] )\n",
    "        \n",
    "        if i%10==0:\n",
    "            a,b =  (np.mean( np.argmax(y[0],axis=1) == cor_y[0] ),np.mean( np.argmax(y[1],axis=1) == cor_y[1] ))\n",
    "            print (\"\\t fit accuracy: vert \", a, \"%, \\t horiz \",b , \"%\" )\n",
    "            #handles[thisscope][\"fit_history\"].append((a,b))\n",
    "            #handles[thisscope][\"val_history\"].append(valacc(thisscope, \"noflip160_valid.tfrec\", averages_nf160, 2000))\n",
    "        handles[thisscope][\"loss_history\"].append(loss_value)"
   ]
  },
  {
   "cell_type": "code",
   "execution_count": 32,
   "metadata": {
    "ExecuteTime": {
     "end_time": "2019-02-08T00:53:03.718217Z",
     "start_time": "2019-02-08T00:52:53.860301Z"
    },
    "hidden": true
   },
   "outputs": [
    {
     "name": "stdout",
     "output_type": "stream",
     "text": [
      "WARNING:tensorflow:case: An unordered dictionary of predicate/fn pairs was provided, but exclusive=False. The order of conditional tests is deterministic but not guaranteed.\n",
      "WARNING:tensorflow:case: An unordered dictionary of predicate/fn pairs was provided, but exclusive=False. The order of conditional tests is deterministic but not guaranteed.\n",
      "\t validation accuracy: vert  62.0 %, \t horiz  51.800000000000004 %\n"
     ]
    },
    {
     "data": {
      "text/plain": [
       "(62.0, 51.800000000000004)"
      ]
     },
     "execution_count": 32,
     "metadata": {},
     "output_type": "execute_result"
    }
   ],
   "source": [
    "valacc(thisscope, \"1000_test.tfrec\", averages_1000, 500)"
   ]
  },
  {
   "cell_type": "code",
   "execution_count": 38,
   "metadata": {
    "ExecuteTime": {
     "end_time": "2019-02-08T00:55:40.380307Z",
     "start_time": "2019-02-08T00:55:40.079310Z"
    },
    "hidden": true
   },
   "outputs": [
    {
     "data": {
      "text/plain": [
       "(0, 1)"
      ]
     },
     "execution_count": 38,
     "metadata": {},
     "output_type": "execute_result"
    },
    {
     "data": {
      "image/png": "[encoded data removed]",
      "text/plain": [
       "<matplotlib.figure.Figure at 0x1dec3334518>"
      ]
     },
     "metadata": {},
     "output_type": "display_data"
    }
   ],
   "source": [
    "plt.plot(handles[thisscope][\"loss_history\"][250:])\n",
    "plt.ylim(0,1)"
   ]
  },
  {
   "cell_type": "code",
   "execution_count": 39,
   "metadata": {
    "ExecuteTime": {
     "end_time": "2019-02-08T01:26:12.475567Z",
     "start_time": "2019-02-08T01:26:12.003571Z"
    },
    "hidden": true
   },
   "outputs": [
    {
     "data": {
      "text/plain": [
       "(0, 2.8)"
      ]
     },
     "execution_count": 39,
     "metadata": {},
     "output_type": "execute_result"
    },
    {
     "data": {
      "image/png": "[encoded data removed]",
      "text/plain": [
       "<matplotlib.figure.Figure at 0x1deed7445f8>"
      ]
     },
     "metadata": {},
     "output_type": "display_data"
    }
   ],
   "source": [
    "plt.plot(handles[thisscope][\"loss_history\"][:])\n",
    "plt.ylim(0,2.8)"
   ]
  },
  {
   "cell_type": "code",
   "execution_count": 40,
   "metadata": {
    "ExecuteTime": {
     "end_time": "2019-02-08T01:39:22.199638Z",
     "start_time": "2019-02-08T01:39:12.150743Z"
    },
    "hidden": true
   },
   "outputs": [
    {
     "name": "stdout",
     "output_type": "stream",
     "text": [
      "WARNING:tensorflow:case: An unordered dictionary of predicate/fn pairs was provided, but exclusive=False. The order of conditional tests is deterministic but not guaranteed.\n",
      "WARNING:tensorflow:case: An unordered dictionary of predicate/fn pairs was provided, but exclusive=False. The order of conditional tests is deterministic but not guaranteed.\n",
      "\t validation accuracy: vert  62.6 %, \t horiz  48.3 %\n"
     ]
    },
    {
     "data": {
      "text/plain": [
       "(62.6, 48.3)"
      ]
     },
     "execution_count": 40,
     "metadata": {},
     "output_type": "execute_result"
    }
   ],
   "source": [
    "valacc(thisscope, \"1000_test.tfrec\", averages_1000, 1000)"
   ]
  },
  {
   "cell_type": "markdown",
   "metadata": {},
   "source": [
    "### EXEC v4a (previous v4 used appendedmodel 2)"
   ]
  },
  {
   "cell_type": "code",
   "execution_count": 10,
   "metadata": {
    "ExecuteTime": {
     "end_time": "2019-02-17T22:33:02.672778Z",
     "start_time": "2019-02-17T22:33:01.337799Z"
    }
   },
   "outputs": [],
   "source": [
    "\n",
    "def appended_model_v4_extended(XB,XC,XD, reuse=True):\n",
    "    '''input: XB,XC, XD - input from layers B,C,D of squeezenet\n",
    "    returns: layers[0...6]'''\n",
    "    layers=[]\n",
    "    var_list=[] # list of variable tensors so that we can initialize variables for a particular model\n",
    "    with tf.variable_scope('my_v2', reuse=reuse):\n",
    "        x=XD #55x55x16\n",
    "        with tf.variable_scope('layer0-D'):\n",
    "            W = tf.get_variable(\"weights\",shape=[1,1,16,10])\n",
    "            b = tf.get_variable(\"bias\",shape=[10])\n",
    "            var_list.append(W)\n",
    "            var_list.append(b)\n",
    "            x = tf.nn.conv2d(x,W,[1,1,1,1],\"VALID\")\n",
    "            x = tf.nn.bias_add(x,b)\n",
    "            layers.append(x)\n",
    "            #layer 1:\n",
    "            x = tf.nn.relu(x)\n",
    "            layers.append(x)\n",
    "            #layer 2:\n",
    "            x = tf.nn.max_pool(x,[1,3,3,1],strides=[1,2,2,1],padding='VALID')\n",
    "            layers.append(x)\n",
    "            # x now is 27x27x10\n",
    "            \n",
    "        #this now has the same HW dimension as layer C (which is 27x27x32) :\n",
    "        x = tf.concat([x,XC], 3) #3 is axis   \n",
    "        with tf.variable_scope('layer3-C'):\n",
    "            W = tf.get_variable(\"weights\",shape=[1,1,42,24])\n",
    "            b = tf.get_variable(\"bias\",shape=[24])\n",
    "            var_list.append(W)\n",
    "            var_list.append(b)\n",
    "            x = tf.nn.conv2d(x,W,[1,1,1,1],\"VALID\")\n",
    "            x = tf.nn.bias_add(x,b)\n",
    "            layers.append(x)\n",
    "            #layer 4:\n",
    "            x = tf.nn.relu(x)\n",
    "            layers.append(x)\n",
    "            #layer 5:\n",
    "            x = tf.nn.max_pool(x,[1,3,3,1],strides=[1,1,1,1],padding='VALID')\n",
    "            layers.append(x)\n",
    "            # x now is 25x25x12\n",
    "            \n",
    "        with tf.variable_scope('layerc-b'):\n",
    "            W = tf.get_variable(\"weights\",shape=[1,1,12,12])\n",
    "            b = tf.get_variable(\"bias\",shape=[12])\n",
    "            var_list.append(W)\n",
    "            var_list.append(b)\n",
    "            x = tf.nn.conv2d(x,W,[1,1,1,1],\"VALID\")\n",
    "            x = tf.nn.bias_add(x,b)\n",
    "            layers.append(x)\n",
    "            #layer 6:\n",
    "            x = tf.nn.relu(x)\n",
    "            layers.append(x)\n",
    "            #layer 7:\n",
    "            x = tf.nn.max_pool(x,[1,13,13,1],strides=[1,1,1,1],padding='VALID')\n",
    "            layers.append(x)\n",
    "        \n",
    "        \n",
    "        #XB is  13x13x64\n",
    "        x  = tf.concat([x,XB], 3)   \n",
    "        with tf.variable_scope('layer6-B'):\n",
    "            W = tf.get_variable(\"weights\",shape=[1,1,76,24])\n",
    "            b = tf.get_variable(\"bias\",shape=[24])\n",
    "            var_list.append(W)\n",
    "            var_list.append(b)\n",
    "            x = tf.nn.conv2d(x,W,[1,1,1,1],\"VALID\")\n",
    "            x = tf.nn.bias_add(x,b)\n",
    "            layers.append(x)\n",
    "            #layer 7:\n",
    "            x = tf.nn.relu(x)\n",
    "            layers.append(x)\n",
    "        #x is 13x13x18\n",
    "        with tf.variable_scope('layer8'):\n",
    "            W = tf.get_variable(\"weights\",shape=[1,1,24,18])\n",
    "            b = tf.get_variable(\"bias\",shape=[18])\n",
    "            var_list.append(W)\n",
    "            var_list.append(b)\n",
    "            x = tf.nn.conv2d(x,W,[1,1,1,1],\"VALID\")\n",
    "            x = tf.nn.bias_add(x,b)\n",
    "            layers.append(x)\n",
    "            #layer 9:\n",
    "            x = tf.nn.relu(x)\n",
    "            layers.append(x)\n",
    "        #x has shape 13x13x18\n",
    "        \n",
    "        with tf.variable_scope('layer10'):\n",
    "            W = tf.get_variable(\"weights\",shape=[1,1,18,18])\n",
    "            b = tf.get_variable(\"bias\",shape=[18])\n",
    "            var_list.append(W)\n",
    "            var_list.append(b)\n",
    "            x = tf.nn.conv2d(x,W,[1,1,1,1],\"VALID\")\n",
    "            x = tf.nn.bias_add(x,b)\n",
    "            layers.append(x)\n",
    "            #layer 11:\n",
    "            x = tf.nn.relu(x)\n",
    "            layers.append(x)\n",
    "        #\n",
    "        #fully connected layer:\n",
    "        with tf.variable_scope('layer12'):\n",
    "            W = tf.get_variable(\"weights\",shape=[1,1,18,6])\n",
    "            b = tf.get_variable(\"bias\",shape=[6])\n",
    "            var_list.append(W)\n",
    "            var_list.append(b)\n",
    "            x = tf.nn.conv2d(x,W,[1,13,13,1],\"VALID\")\n",
    "            x = tf.nn.bias_add(x,b)\n",
    "            layers.append(x)\n",
    "\n",
    "        with tf.variable_scope('layer13'):\n",
    "            W = tf.get_variable(\"weights\",shape=[1,1,6,6])\n",
    "            b = tf.get_variable(\"bias\",shape=[6])\n",
    "            var_list.append(W)\n",
    "            var_list.append(b)\n",
    "            x = tf.nn.conv2d(x,W,[1,13,13,1],\"VALID\")\n",
    "            x = tf.nn.bias_add(x,b)\n",
    "            x = tf.nn.relu(x)\n",
    "            layers.append(x)\n",
    "\n",
    "            \n",
    "            \n",
    "    return layers, var_list\n",
    "                \n",
    "  "
   ]
  },
  {
   "cell_type": "code",
   "execution_count": 11,
   "metadata": {
    "ExecuteTime": {
     "end_time": "2019-02-17T22:33:03.651764Z",
     "start_time": "2019-02-17T22:33:02.674778Z"
    }
   },
   "outputs": [],
   "source": [
    "\n",
    "def appended_model_v4_avgpool(XB,XC,XD, reuse=True):\n",
    "    '''input: XB,XC, XD - input from layers B,C,D of squeezenet\n",
    "    returns: layers[0...6]'''\n",
    "    layers=[]\n",
    "    var_list=[] # list of variable tensors so that we can initialize variables for a particular model\n",
    "    with tf.variable_scope('my_v2', reuse=reuse):\n",
    "        x=XD #55x55x16\n",
    "        with tf.variable_scope('layer0-D'):\n",
    "            W = tf.get_variable(\"weights\",shape=[1,1,16,10])\n",
    "            b = tf.get_variable(\"bias\",shape=[10])\n",
    "            var_list.append(W)\n",
    "            var_list.append(b)\n",
    "            x = tf.nn.conv2d(x,W,[1,1,1,1],\"VALID\")\n",
    "            x = tf.nn.bias_add(x,b)\n",
    "            layers.append(x)\n",
    "            #layer 1:\n",
    "            x = tf.nn.relu(x)\n",
    "            layers.append(x)\n",
    "            #layer 2:\n",
    "            x = tf.nn.max_pool(x,[1,3,3,1],strides=[1,2,2,1],padding='VALID')\n",
    "            layers.append(x)\n",
    "            # x now is 27x27x10\n",
    "            \n",
    "        #this now has the same HW dimension as layer C (which is 27x27x32) :\n",
    "        x = tf.concat([x,XC], 3) #3 is axis   \n",
    "        with tf.variable_scope('layer3-C'):\n",
    "            W = tf.get_variable(\"weights\",shape=[1,1,42,12])\n",
    "            b = tf.get_variable(\"bias\",shape=[12])\n",
    "            var_list.append(W)\n",
    "            var_list.append(b)\n",
    "            x = tf.nn.conv2d(x,W,[1,1,1,1],\"VALID\")\n",
    "            x = tf.nn.bias_add(x,b)\n",
    "            layers.append(x)\n",
    "            #layer 4:\n",
    "            x = tf.nn.relu(x)\n",
    "            layers.append(x)\n",
    "            #layer 5:\n",
    "            x = tf.nn.max_pool(x,[1,3,3,1],strides=[1,2,2,1],padding='VALID')\n",
    "            layers.append(x)\n",
    "            # x now is 13x13x12\n",
    "        #XB is  13x13x64\n",
    "        x  = tf.concat([x,XB], 3)   \n",
    "        with tf.variable_scope('layer6-B'):\n",
    "            W = tf.get_variable(\"weights\",shape=[1,1,76,18])\n",
    "            b = tf.get_variable(\"bias\",shape=[18])\n",
    "            var_list.append(W)\n",
    "            var_list.append(b)\n",
    "            x = tf.nn.conv2d(x,W,[1,1,1,1],\"VALID\")\n",
    "            x = tf.nn.bias_add(x,b)\n",
    "            layers.append(x)\n",
    "            #layer 7:\n",
    "            x = tf.nn.relu(x)\n",
    "            layers.append(x)\n",
    "        #x is 13x13x18\n",
    "        with tf.variable_scope('layer8'):\n",
    "            W = tf.get_variable(\"weights\",shape=[1,1,18,18])\n",
    "            b = tf.get_variable(\"bias\",shape=[18])\n",
    "            var_list.append(W)\n",
    "            var_list.append(b)\n",
    "            x = tf.nn.conv2d(x,W,[1,1,1,1],\"VALID\")\n",
    "            x = tf.nn.bias_add(x,b)\n",
    "            layers.append(x)\n",
    "            #layer 9:\n",
    "            x = tf.nn.relu(x)\n",
    "            layers.append(x)\n",
    "        #x has shape 13x13x18\n",
    "        \n",
    "        with tf.variable_scope('layer10'):\n",
    "            W = tf.get_variable(\"weights\",shape=[1,1,18,18])\n",
    "            b = tf.get_variable(\"bias\",shape=[18])\n",
    "            var_list.append(W)\n",
    "            var_list.append(b)\n",
    "            x = tf.nn.conv2d(x,W,[1,1,1,1],\"VALID\")\n",
    "            x = tf.nn.bias_add(x,b)\n",
    "            layers.append(x)\n",
    "            #layer 11:\n",
    "            x = tf.nn.relu(x)\n",
    "            layers.append(x)\n",
    "        #\n",
    "        #averagepool:\n",
    "        with tf.variable_scope('layer12'):\n",
    "            x = tf.nn.avg_pool(x,[1,13,13,1],strides=[1,1,1,1],padding = \"VALID\")\n",
    "            layers.append(x)\n",
    "            W = tf.get_variable(\"weights\",shape=[1,1,18,6])\n",
    "            b = tf.get_variable(\"bias\",shape=[6])\n",
    "            var_list.append(W)\n",
    "            var_list.append(b)\n",
    "            x = tf.nn.conv2d(x,W,[1,1,1,1],\"VALID\")\n",
    "            layers.append(x)\n",
    "    return layers, var_list\n",
    "                \n",
    "  "
   ]
  },
  {
   "cell_type": "code",
   "execution_count": 12,
   "metadata": {
    "ExecuteTime": {
     "end_time": "2019-02-17T22:33:04.156756Z",
     "start_time": "2019-02-17T22:33:03.653763Z"
    }
   },
   "outputs": [],
   "source": [
    "def appended_full_model_v5( filename, averages, batch_size=2, regscale=0., reuse=False):\n",
    "    \n",
    "    #no coordinates\n",
    "    ds=dataset_XYclassif_from_TFRecord( layer_name_and_shape_list=[    (\"squeezed_layer_1\", 55, 55, 16), \n",
    "                                                                (\"squeezed_layer_3\", 27, 27, 32),\n",
    "                                                                (\"squeezed_layer_7\", 13, 13, 64)  ], filename=filename )\n",
    "    dsbatched=ds.repeat().shuffle(4600).batch(batch_size)\n",
    "    iterator= dsbatched.make_one_shot_iterator()\n",
    "    nextdict=iterator.get_next()\n",
    "    a1,s1,a3,s3,a7,s7=averages\n",
    "    layers, var_list = appended_model_v4_avgpool( ((nextdict['squeezed_layer_7']-a7)/s7), \n",
    "                                          ((nextdict['squeezed_layer_3']-a3)/s3),\n",
    "                                          ((nextdict['squeezed_layer_1']-a1)/s1), reuse )\n",
    "    y=tf.reshape(layers[-1],[-1,6])\n",
    "    y_vert = y[:,:3]\n",
    "    y_horiz = y[:,3:]\n",
    "    \n",
    "    reg_loss = tf.add_n([.5 *regscale * tf.reduce_sum(h**2)   for h in var_list])\n",
    "    \n",
    "    loss_vert = tf.reduce_mean(tf.nn.softmax_cross_entropy_with_logits(labels=tf.one_hot(nextdict['class_vert'], 3), \n",
    "                                                                        logits=y_vert\n",
    "                                                                       ))\n",
    "    loss_horiz = tf.reduce_mean(tf.nn.softmax_cross_entropy_with_logits(labels=tf.one_hot(nextdict['class_horiz'], 3), \n",
    "                                                                        logits=y_horiz\n",
    "                                                                       ))\n",
    "    loss = loss_vert + loss_horiz + reg_loss\n",
    "    \n",
    "    return (y_vert,y_horiz), (nextdict['class_vert'],nextdict['class_horiz']), loss, var_list"
   ]
  },
  {
   "cell_type": "code",
   "execution_count": 16,
   "metadata": {
    "ExecuteTime": {
     "end_time": "2019-02-17T23:51:55.517570Z",
     "start_time": "2019-02-17T23:51:55.039578Z"
    }
   },
   "outputs": [],
   "source": [
    "def appended_full_model_v5_extended( filename, averages, batch_size=2, regscale=0., reuse=False):\n",
    "    \n",
    "    #no coordinates\n",
    "    ds=dataset_XYclassif_from_TFRecord( layer_name_and_shape_list=[    (\"squeezed_layer_1\", 55, 55, 16), \n",
    "                                                                (\"squeezed_layer_3\", 27, 27, 32),\n",
    "                                                                (\"squeezed_layer_7\", 13, 13, 64)  ], filename=filename )\n",
    "    dsbatched=ds.repeat().shuffle(4600).batch(batch_size)\n",
    "    iterator= dsbatched.make_one_shot_iterator()\n",
    "    nextdict=iterator.get_next()\n",
    "    a1,s1,a3,s3,a7,s7=averages\n",
    "    layers, var_list = appended_model_v4_extended( ((nextdict['squeezed_layer_7']-a7)/s7), \n",
    "                                          ((nextdict['squeezed_layer_3']-a3)/s3),\n",
    "                                          ((nextdict['squeezed_layer_1']-a1)/s1), reuse )\n",
    "    y=tf.reshape(layers[-1],[-1,6])\n",
    "    y_vert = y[:,:3]\n",
    "    y_horiz = y[:,3:]\n",
    "    \n",
    "    reg_loss = tf.add_n([.5 *regscale * tf.reduce_sum(h**2)   for h in var_list])\n",
    "    \n",
    "    loss_vert = tf.reduce_mean(tf.nn.softmax_cross_entropy_with_logits(labels=tf.one_hot(nextdict['class_vert'], 3), \n",
    "                                                                        logits=y_vert\n",
    "                                                                       ))\n",
    "    loss_horiz = tf.reduce_mean(tf.nn.softmax_cross_entropy_with_logits(labels=tf.one_hot(nextdict['class_horiz'], 3), \n",
    "                                                                        logits=y_horiz\n",
    "                                                                       ))\n",
    "    loss = loss_vert + loss_horiz + reg_loss\n",
    "    \n",
    "    return (y_vert,y_horiz), (nextdict['class_vert'],nextdict['class_horiz']), loss, var_list"
   ]
  },
  {
   "cell_type": "markdown",
   "metadata": {},
   "source": [
    "###### v4_averages-1004"
   ]
  },
  {
   "cell_type": "code",
   "execution_count": 48,
   "metadata": {
    "ExecuteTime": {
     "end_time": "2019-02-11T00:23:31.114896Z",
     "start_time": "2019-02-11T00:23:29.316941Z"
    }
   },
   "outputs": [
    {
     "name": "stdout",
     "output_type": "stream",
     "text": [
      "WARNING:tensorflow:case: An unordered dictionary of predicate/fn pairs was provided, but exclusive=False. The order of conditional tests is deterministic but not guaranteed.\n",
      "WARNING:tensorflow:case: An unordered dictionary of predicate/fn pairs was provided, but exclusive=False. The order of conditional tests is deterministic but not guaranteed.\n"
     ]
    }
   ],
   "source": [
    "thisscope=\"v4_averages-train1004\"\n",
    "handles[thisscope] = initialize_training_forfunc_averages(thisscope, appended_full_model_v5, averages_1000, \"1000_train.tfrec\", optname=\"g\")"
   ]
  },
  {
   "cell_type": "code",
   "execution_count": 46,
   "metadata": {
    "ExecuteTime": {
     "end_time": "2019-02-11T00:22:49.618357Z",
     "start_time": "2019-02-11T00:22:49.387364Z"
    }
   },
   "outputs": [],
   "source": [
    "def valacc_v4(thisscope, filename, averages, batch):\n",
    "\n",
    "    y , ycor, _, _ = appended_full_model_v5(filename, averages, batch_size=batch, reuse=True)\n",
    "\n",
    "    y_num, ycor_num = sess.run ([y,ycor])\n",
    "    a,b = np.mean( np.argmax(y_num[0],axis=1) == ycor_num[0] )*100, np.mean( np.argmax(y_num[1],axis=1) == ycor_num[1] )*100 \n",
    "    print (\"\\t validation accuracy: vert \",a,  \"%, \\t horiz \", b,\"%\" )\n",
    "    return a,b"
   ]
  },
  {
   "cell_type": "code",
   "execution_count": 50,
   "metadata": {
    "ExecuteTime": {
     "end_time": "2019-02-11T00:32:44.752899Z",
     "start_time": "2019-02-11T00:24:19.853083Z"
    },
    "collapsed": true
   },
   "outputs": [
    {
     "name": "stdout",
     "output_type": "stream",
     "text": [
      "batch  0\t fit accuracy: vert  0.3271484375 %, \t horiz  0.3447265625 %\n",
      "WARNING:tensorflow:case: An unordered dictionary of predicate/fn pairs was provided, but exclusive=False. The order of conditional tests is deterministic but not guaranteed.\n",
      "WARNING:tensorflow:case: An unordered dictionary of predicate/fn pairs was provided, but exclusive=False. The order of conditional tests is deterministic but not guaranteed.\n",
      "\t validation accuracy: vert  36.8 %, \t horiz  30.4 %\n",
      "batch  10\t fit accuracy: vert  0.36328125 %, \t horiz  0.3583984375 %\n",
      "WARNING:tensorflow:case: An unordered dictionary of predicate/fn pairs was provided, but exclusive=False. The order of conditional tests is deterministic but not guaranteed.\n",
      "WARNING:tensorflow:case: An unordered dictionary of predicate/fn pairs was provided, but exclusive=False. The order of conditional tests is deterministic but not guaranteed.\n",
      "\t validation accuracy: vert  34.2 %, \t horiz  34.8 %\n",
      "batch  20\t fit accuracy: vert  0.3759765625 %, \t horiz  0.3212890625 %\n",
      "WARNING:tensorflow:case: An unordered dictionary of predicate/fn pairs was provided, but exclusive=False. The order of conditional tests is deterministic but not guaranteed.\n",
      "WARNING:tensorflow:case: An unordered dictionary of predicate/fn pairs was provided, but exclusive=False. The order of conditional tests is deterministic but not guaranteed.\n",
      "\t validation accuracy: vert  40.6 %, \t horiz  35.8 %\n",
      "batch  30\t fit accuracy: vert  0.345703125 %, \t horiz  0.390625 %\n",
      "WARNING:tensorflow:case: An unordered dictionary of predicate/fn pairs was provided, but exclusive=False. The order of conditional tests is deterministic but not guaranteed.\n",
      "WARNING:tensorflow:case: An unordered dictionary of predicate/fn pairs was provided, but exclusive=False. The order of conditional tests is deterministic but not guaranteed.\n",
      "\t validation accuracy: vert  36.0 %, \t horiz  39.6 %\n",
      "batch  40\t fit accuracy: vert  0.421875 %, \t horiz  0.3720703125 %\n",
      "WARNING:tensorflow:case: An unordered dictionary of predicate/fn pairs was provided, but exclusive=False. The order of conditional tests is deterministic but not guaranteed.\n",
      "WARNING:tensorflow:case: An unordered dictionary of predicate/fn pairs was provided, but exclusive=False. The order of conditional tests is deterministic but not guaranteed.\n",
      "\t validation accuracy: vert  43.0 %, \t horiz  37.8 %\n",
      "batch  50\t fit accuracy: vert  0.44921875 %, \t horiz  0.3876953125 %\n",
      "WARNING:tensorflow:case: An unordered dictionary of predicate/fn pairs was provided, but exclusive=False. The order of conditional tests is deterministic but not guaranteed.\n",
      "WARNING:tensorflow:case: An unordered dictionary of predicate/fn pairs was provided, but exclusive=False. The order of conditional tests is deterministic but not guaranteed.\n",
      "\t validation accuracy: vert  51.800000000000004 %, \t horiz  34.2 %\n",
      "batch  60\t fit accuracy: vert  0.4580078125 %, \t horiz  0.396484375 %\n",
      "WARNING:tensorflow:case: An unordered dictionary of predicate/fn pairs was provided, but exclusive=False. The order of conditional tests is deterministic but not guaranteed.\n",
      "WARNING:tensorflow:case: An unordered dictionary of predicate/fn pairs was provided, but exclusive=False. The order of conditional tests is deterministic but not guaranteed.\n"
     ]
    },
    {
     "ename": "KeyboardInterrupt",
     "evalue": "",
     "output_type": "error",
     "traceback": [
      "\u001b[1;31m---------------------------------------------------------------------------\u001b[0m",
      "\u001b[1;31mKeyboardInterrupt\u001b[0m                         Traceback (most recent call last)",
      "\u001b[1;32m<ipython-input-50-fb585489accb>\u001b[0m in \u001b[0;36m<module>\u001b[1;34m()\u001b[0m\n\u001b[0;32m     12\u001b[0m             \u001b[0ma\u001b[0m\u001b[1;33m,\u001b[0m\u001b[0mb\u001b[0m \u001b[1;33m=\u001b[0m  \u001b[1;33m(\u001b[0m\u001b[0mnp\u001b[0m\u001b[1;33m.\u001b[0m\u001b[0mmean\u001b[0m\u001b[1;33m(\u001b[0m \u001b[0mnp\u001b[0m\u001b[1;33m.\u001b[0m\u001b[0margmax\u001b[0m\u001b[1;33m(\u001b[0m\u001b[0my\u001b[0m\u001b[1;33m[\u001b[0m\u001b[1;36m0\u001b[0m\u001b[1;33m]\u001b[0m\u001b[1;33m,\u001b[0m\u001b[0maxis\u001b[0m\u001b[1;33m=\u001b[0m\u001b[1;36m1\u001b[0m\u001b[1;33m)\u001b[0m \u001b[1;33m==\u001b[0m \u001b[0mcor_y\u001b[0m\u001b[1;33m[\u001b[0m\u001b[1;36m0\u001b[0m\u001b[1;33m]\u001b[0m \u001b[1;33m)\u001b[0m\u001b[1;33m,\u001b[0m\u001b[0mnp\u001b[0m\u001b[1;33m.\u001b[0m\u001b[0mmean\u001b[0m\u001b[1;33m(\u001b[0m \u001b[0mnp\u001b[0m\u001b[1;33m.\u001b[0m\u001b[0margmax\u001b[0m\u001b[1;33m(\u001b[0m\u001b[0my\u001b[0m\u001b[1;33m[\u001b[0m\u001b[1;36m1\u001b[0m\u001b[1;33m]\u001b[0m\u001b[1;33m,\u001b[0m\u001b[0maxis\u001b[0m\u001b[1;33m=\u001b[0m\u001b[1;36m1\u001b[0m\u001b[1;33m)\u001b[0m \u001b[1;33m==\u001b[0m \u001b[0mcor_y\u001b[0m\u001b[1;33m[\u001b[0m\u001b[1;36m1\u001b[0m\u001b[1;33m]\u001b[0m \u001b[1;33m)\u001b[0m\u001b[1;33m)\u001b[0m\u001b[1;33m\u001b[0m\u001b[0m\n\u001b[0;32m     13\u001b[0m             \u001b[0mprint\u001b[0m \u001b[1;33m(\u001b[0m\u001b[1;34m\"\\t fit accuracy: vert \"\u001b[0m\u001b[1;33m,\u001b[0m \u001b[0ma\u001b[0m\u001b[1;33m,\u001b[0m \u001b[1;34m\"%, \\t horiz \"\u001b[0m\u001b[1;33m,\u001b[0m\u001b[0mb\u001b[0m \u001b[1;33m,\u001b[0m \u001b[1;34m\"%\"\u001b[0m \u001b[1;33m)\u001b[0m\u001b[1;33m\u001b[0m\u001b[0m\n\u001b[1;32m---> 14\u001b[1;33m             \u001b[0mc\u001b[0m\u001b[1;33m,\u001b[0m\u001b[0md\u001b[0m \u001b[1;33m=\u001b[0m \u001b[0mvalacc_v4\u001b[0m\u001b[1;33m(\u001b[0m\u001b[0mthisscope\u001b[0m\u001b[1;33m,\u001b[0m \u001b[1;34m\"1000_valid.tfrec\"\u001b[0m\u001b[1;33m,\u001b[0m \u001b[0maverages_1000\u001b[0m\u001b[1;33m,\u001b[0m \u001b[1;36m500\u001b[0m\u001b[1;33m)\u001b[0m\u001b[1;33m\u001b[0m\u001b[0m\n\u001b[0m\u001b[0;32m     15\u001b[0m \u001b[1;33m\u001b[0m\u001b[0m\n\u001b[0;32m     16\u001b[0m             \u001b[1;31m#handles[thisscope][\"fit_history\"].append((a,b))\u001b[0m\u001b[1;33m\u001b[0m\u001b[1;33m\u001b[0m\u001b[0m\n",
      "\u001b[1;32m<ipython-input-46-a344e499f57f>\u001b[0m in \u001b[0;36mvalacc_v4\u001b[1;34m(thisscope, filename, averages, batch)\u001b[0m\n\u001b[0;32m      3\u001b[0m     \u001b[0my\u001b[0m \u001b[1;33m,\u001b[0m \u001b[0mycor\u001b[0m\u001b[1;33m,\u001b[0m \u001b[0m_\u001b[0m\u001b[1;33m,\u001b[0m \u001b[0m_\u001b[0m \u001b[1;33m=\u001b[0m \u001b[0mappended_full_model_v5\u001b[0m\u001b[1;33m(\u001b[0m\u001b[0mfilename\u001b[0m\u001b[1;33m,\u001b[0m \u001b[0maverages\u001b[0m\u001b[1;33m,\u001b[0m \u001b[0mbatch_size\u001b[0m\u001b[1;33m=\u001b[0m\u001b[0mbatch\u001b[0m\u001b[1;33m,\u001b[0m \u001b[0mreuse\u001b[0m\u001b[1;33m=\u001b[0m\u001b[1;32mTrue\u001b[0m\u001b[1;33m)\u001b[0m\u001b[1;33m\u001b[0m\u001b[0m\n\u001b[0;32m      4\u001b[0m \u001b[1;33m\u001b[0m\u001b[0m\n\u001b[1;32m----> 5\u001b[1;33m     \u001b[0my_num\u001b[0m\u001b[1;33m,\u001b[0m \u001b[0mycor_num\u001b[0m \u001b[1;33m=\u001b[0m \u001b[0msess\u001b[0m\u001b[1;33m.\u001b[0m\u001b[0mrun\u001b[0m \u001b[1;33m(\u001b[0m\u001b[1;33m[\u001b[0m\u001b[0my\u001b[0m\u001b[1;33m,\u001b[0m\u001b[0mycor\u001b[0m\u001b[1;33m]\u001b[0m\u001b[1;33m)\u001b[0m\u001b[1;33m\u001b[0m\u001b[0m\n\u001b[0m\u001b[0;32m      6\u001b[0m     \u001b[0ma\u001b[0m\u001b[1;33m,\u001b[0m\u001b[0mb\u001b[0m \u001b[1;33m=\u001b[0m \u001b[0mnp\u001b[0m\u001b[1;33m.\u001b[0m\u001b[0mmean\u001b[0m\u001b[1;33m(\u001b[0m \u001b[0mnp\u001b[0m\u001b[1;33m.\u001b[0m\u001b[0margmax\u001b[0m\u001b[1;33m(\u001b[0m\u001b[0my_num\u001b[0m\u001b[1;33m[\u001b[0m\u001b[1;36m0\u001b[0m\u001b[1;33m]\u001b[0m\u001b[1;33m,\u001b[0m\u001b[0maxis\u001b[0m\u001b[1;33m=\u001b[0m\u001b[1;36m1\u001b[0m\u001b[1;33m)\u001b[0m \u001b[1;33m==\u001b[0m \u001b[0mycor_num\u001b[0m\u001b[1;33m[\u001b[0m\u001b[1;36m0\u001b[0m\u001b[1;33m]\u001b[0m \u001b[1;33m)\u001b[0m\u001b[1;33m*\u001b[0m\u001b[1;36m100\u001b[0m\u001b[1;33m,\u001b[0m \u001b[0mnp\u001b[0m\u001b[1;33m.\u001b[0m\u001b[0mmean\u001b[0m\u001b[1;33m(\u001b[0m \u001b[0mnp\u001b[0m\u001b[1;33m.\u001b[0m\u001b[0margmax\u001b[0m\u001b[1;33m(\u001b[0m\u001b[0my_num\u001b[0m\u001b[1;33m[\u001b[0m\u001b[1;36m1\u001b[0m\u001b[1;33m]\u001b[0m\u001b[1;33m,\u001b[0m\u001b[0maxis\u001b[0m\u001b[1;33m=\u001b[0m\u001b[1;36m1\u001b[0m\u001b[1;33m)\u001b[0m \u001b[1;33m==\u001b[0m \u001b[0mycor_num\u001b[0m\u001b[1;33m[\u001b[0m\u001b[1;36m1\u001b[0m\u001b[1;33m]\u001b[0m \u001b[1;33m)\u001b[0m\u001b[1;33m*\u001b[0m\u001b[1;36m100\u001b[0m\u001b[1;33m\u001b[0m\u001b[0m\n\u001b[0;32m      7\u001b[0m     \u001b[0mprint\u001b[0m \u001b[1;33m(\u001b[0m\u001b[1;34m\"\\t validation accuracy: vert \"\u001b[0m\u001b[1;33m,\u001b[0m\u001b[0ma\u001b[0m\u001b[1;33m,\u001b[0m  \u001b[1;34m\"%, \\t horiz \"\u001b[0m\u001b[1;33m,\u001b[0m \u001b[0mb\u001b[0m\u001b[1;33m,\u001b[0m\u001b[1;34m\"%\"\u001b[0m \u001b[1;33m)\u001b[0m\u001b[1;33m\u001b[0m\u001b[0m\n",
      "\u001b[1;32mC:\\ProgramData\\Anaconda3\\lib\\site-packages\\tensorflow\\python\\client\\session.py\u001b[0m in \u001b[0;36mrun\u001b[1;34m(self, fetches, feed_dict, options, run_metadata)\u001b[0m\n\u001b[0;32m    875\u001b[0m     \u001b[1;32mtry\u001b[0m\u001b[1;33m:\u001b[0m\u001b[1;33m\u001b[0m\u001b[0m\n\u001b[0;32m    876\u001b[0m       result = self._run(None, fetches, feed_dict, options_ptr,\n\u001b[1;32m--> 877\u001b[1;33m                          run_metadata_ptr)\n\u001b[0m\u001b[0;32m    878\u001b[0m       \u001b[1;32mif\u001b[0m \u001b[0mrun_metadata\u001b[0m\u001b[1;33m:\u001b[0m\u001b[1;33m\u001b[0m\u001b[0m\n\u001b[0;32m    879\u001b[0m         \u001b[0mproto_data\u001b[0m \u001b[1;33m=\u001b[0m \u001b[0mtf_session\u001b[0m\u001b[1;33m.\u001b[0m\u001b[0mTF_GetBuffer\u001b[0m\u001b[1;33m(\u001b[0m\u001b[0mrun_metadata_ptr\u001b[0m\u001b[1;33m)\u001b[0m\u001b[1;33m\u001b[0m\u001b[0m\n",
      "\u001b[1;32mC:\\ProgramData\\Anaconda3\\lib\\site-packages\\tensorflow\\python\\client\\session.py\u001b[0m in \u001b[0;36m_run\u001b[1;34m(self, handle, fetches, feed_dict, options, run_metadata)\u001b[0m\n\u001b[0;32m   1098\u001b[0m     \u001b[1;32mif\u001b[0m \u001b[0mfinal_fetches\u001b[0m \u001b[1;32mor\u001b[0m \u001b[0mfinal_targets\u001b[0m \u001b[1;32mor\u001b[0m \u001b[1;33m(\u001b[0m\u001b[0mhandle\u001b[0m \u001b[1;32mand\u001b[0m \u001b[0mfeed_dict_tensor\u001b[0m\u001b[1;33m)\u001b[0m\u001b[1;33m:\u001b[0m\u001b[1;33m\u001b[0m\u001b[0m\n\u001b[0;32m   1099\u001b[0m       results = self._do_run(handle, final_targets, final_fetches,\n\u001b[1;32m-> 1100\u001b[1;33m                              feed_dict_tensor, options, run_metadata)\n\u001b[0m\u001b[0;32m   1101\u001b[0m     \u001b[1;32melse\u001b[0m\u001b[1;33m:\u001b[0m\u001b[1;33m\u001b[0m\u001b[0m\n\u001b[0;32m   1102\u001b[0m       \u001b[0mresults\u001b[0m \u001b[1;33m=\u001b[0m \u001b[1;33m[\u001b[0m\u001b[1;33m]\u001b[0m\u001b[1;33m\u001b[0m\u001b[0m\n",
      "\u001b[1;32mC:\\ProgramData\\Anaconda3\\lib\\site-packages\\tensorflow\\python\\client\\session.py\u001b[0m in \u001b[0;36m_do_run\u001b[1;34m(self, handle, target_list, fetch_list, feed_dict, options, run_metadata)\u001b[0m\n\u001b[0;32m   1270\u001b[0m     \u001b[1;32mif\u001b[0m \u001b[0mhandle\u001b[0m \u001b[1;32mis\u001b[0m \u001b[1;32mNone\u001b[0m\u001b[1;33m:\u001b[0m\u001b[1;33m\u001b[0m\u001b[0m\n\u001b[0;32m   1271\u001b[0m       return self._do_call(_run_fn, feeds, fetches, targets, options,\n\u001b[1;32m-> 1272\u001b[1;33m                            run_metadata)\n\u001b[0m\u001b[0;32m   1273\u001b[0m     \u001b[1;32melse\u001b[0m\u001b[1;33m:\u001b[0m\u001b[1;33m\u001b[0m\u001b[0m\n\u001b[0;32m   1274\u001b[0m       \u001b[1;32mreturn\u001b[0m \u001b[0mself\u001b[0m\u001b[1;33m.\u001b[0m\u001b[0m_do_call\u001b[0m\u001b[1;33m(\u001b[0m\u001b[0m_prun_fn\u001b[0m\u001b[1;33m,\u001b[0m \u001b[0mhandle\u001b[0m\u001b[1;33m,\u001b[0m \u001b[0mfeeds\u001b[0m\u001b[1;33m,\u001b[0m \u001b[0mfetches\u001b[0m\u001b[1;33m)\u001b[0m\u001b[1;33m\u001b[0m\u001b[0m\n",
      "\u001b[1;32mC:\\ProgramData\\Anaconda3\\lib\\site-packages\\tensorflow\\python\\client\\session.py\u001b[0m in \u001b[0;36m_do_call\u001b[1;34m(self, fn, *args)\u001b[0m\n\u001b[0;32m   1276\u001b[0m   \u001b[1;32mdef\u001b[0m \u001b[0m_do_call\u001b[0m\u001b[1;33m(\u001b[0m\u001b[0mself\u001b[0m\u001b[1;33m,\u001b[0m \u001b[0mfn\u001b[0m\u001b[1;33m,\u001b[0m \u001b[1;33m*\u001b[0m\u001b[0margs\u001b[0m\u001b[1;33m)\u001b[0m\u001b[1;33m:\u001b[0m\u001b[1;33m\u001b[0m\u001b[0m\n\u001b[0;32m   1277\u001b[0m     \u001b[1;32mtry\u001b[0m\u001b[1;33m:\u001b[0m\u001b[1;33m\u001b[0m\u001b[0m\n\u001b[1;32m-> 1278\u001b[1;33m       \u001b[1;32mreturn\u001b[0m \u001b[0mfn\u001b[0m\u001b[1;33m(\u001b[0m\u001b[1;33m*\u001b[0m\u001b[0margs\u001b[0m\u001b[1;33m)\u001b[0m\u001b[1;33m\u001b[0m\u001b[0m\n\u001b[0m\u001b[0;32m   1279\u001b[0m     \u001b[1;32mexcept\u001b[0m \u001b[0merrors\u001b[0m\u001b[1;33m.\u001b[0m\u001b[0mOpError\u001b[0m \u001b[1;32mas\u001b[0m \u001b[0me\u001b[0m\u001b[1;33m:\u001b[0m\u001b[1;33m\u001b[0m\u001b[0m\n\u001b[0;32m   1280\u001b[0m       \u001b[0mmessage\u001b[0m \u001b[1;33m=\u001b[0m \u001b[0mcompat\u001b[0m\u001b[1;33m.\u001b[0m\u001b[0mas_text\u001b[0m\u001b[1;33m(\u001b[0m\u001b[0me\u001b[0m\u001b[1;33m.\u001b[0m\u001b[0mmessage\u001b[0m\u001b[1;33m)\u001b[0m\u001b[1;33m\u001b[0m\u001b[0m\n",
      "\u001b[1;32mC:\\ProgramData\\Anaconda3\\lib\\site-packages\\tensorflow\\python\\client\\session.py\u001b[0m in \u001b[0;36m_run_fn\u001b[1;34m(feed_dict, fetch_list, target_list, options, run_metadata)\u001b[0m\n\u001b[0;32m   1261\u001b[0m       \u001b[0mself\u001b[0m\u001b[1;33m.\u001b[0m\u001b[0m_extend_graph\u001b[0m\u001b[1;33m(\u001b[0m\u001b[1;33m)\u001b[0m\u001b[1;33m\u001b[0m\u001b[0m\n\u001b[0;32m   1262\u001b[0m       return self._call_tf_sessionrun(\n\u001b[1;32m-> 1263\u001b[1;33m           options, feed_dict, fetch_list, target_list, run_metadata)\n\u001b[0m\u001b[0;32m   1264\u001b[0m \u001b[1;33m\u001b[0m\u001b[0m\n\u001b[0;32m   1265\u001b[0m     \u001b[1;32mdef\u001b[0m \u001b[0m_prun_fn\u001b[0m\u001b[1;33m(\u001b[0m\u001b[0mhandle\u001b[0m\u001b[1;33m,\u001b[0m \u001b[0mfeed_dict\u001b[0m\u001b[1;33m,\u001b[0m \u001b[0mfetch_list\u001b[0m\u001b[1;33m)\u001b[0m\u001b[1;33m:\u001b[0m\u001b[1;33m\u001b[0m\u001b[0m\n",
      "\u001b[1;32mC:\\ProgramData\\Anaconda3\\lib\\site-packages\\tensorflow\\python\\client\\session.py\u001b[0m in \u001b[0;36m_call_tf_sessionrun\u001b[1;34m(self, options, feed_dict, fetch_list, target_list, run_metadata)\u001b[0m\n\u001b[0;32m   1348\u001b[0m     return tf_session.TF_SessionRun_wrapper(\n\u001b[0;32m   1349\u001b[0m         \u001b[0mself\u001b[0m\u001b[1;33m.\u001b[0m\u001b[0m_session\u001b[0m\u001b[1;33m,\u001b[0m \u001b[0moptions\u001b[0m\u001b[1;33m,\u001b[0m \u001b[0mfeed_dict\u001b[0m\u001b[1;33m,\u001b[0m \u001b[0mfetch_list\u001b[0m\u001b[1;33m,\u001b[0m \u001b[0mtarget_list\u001b[0m\u001b[1;33m,\u001b[0m\u001b[1;33m\u001b[0m\u001b[0m\n\u001b[1;32m-> 1350\u001b[1;33m         run_metadata)\n\u001b[0m\u001b[0;32m   1351\u001b[0m \u001b[1;33m\u001b[0m\u001b[0m\n\u001b[0;32m   1352\u001b[0m   \u001b[1;32mdef\u001b[0m \u001b[0m_call_tf_sessionprun\u001b[0m\u001b[1;33m(\u001b[0m\u001b[0mself\u001b[0m\u001b[1;33m,\u001b[0m \u001b[0mhandle\u001b[0m\u001b[1;33m,\u001b[0m \u001b[0mfeed_dict\u001b[0m\u001b[1;33m,\u001b[0m \u001b[0mfetch_list\u001b[0m\u001b[1;33m)\u001b[0m\u001b[1;33m:\u001b[0m\u001b[1;33m\u001b[0m\u001b[0m\n",
      "\u001b[1;31mKeyboardInterrupt\u001b[0m: "
     ]
    }
   ],
   "source": [
    "thisscope=\"v4_averages-train1004\"\n",
    "with tf.variable_scope(thisscope):\n",
    "    for i in range(300):\n",
    "        if i%10==0:\n",
    "            print (\"batch \",i,end=\"\")\n",
    "        _, loss_value, y, cor_y = sess.run([ handles[thisscope][\"train_op\"], \n",
    "                                             handles[thisscope][\"loss\"],\n",
    "                                             handles[thisscope][\"y\"],\n",
    "                                             handles[thisscope][\"correct_y\"] ] )\n",
    "        \n",
    "        if i%50==0:\n",
    "            a,b =  (np.mean( np.argmax(y[0],axis=1) == cor_y[0] ),np.mean( np.argmax(y[1],axis=1) == cor_y[1] ))\n",
    "            print (\"\\t fit accuracy: vert \", a, \"%, \\t horiz \",b , \"%\" )\n",
    "            c,d = valacc_v4(thisscope, \"1000_valid.tfrec\", averages_1000, 500)\n",
    "            \n",
    "            #handles[thisscope][\"fit_history\"].append((a,b))\n",
    "            #handles[thisscope][\"val_history\"].append(valacc(thisscope, \"noflip160_valid.tfrec\", averages_nf160, 2000))\n",
    "        handles[thisscope][\"loss_history\"].append(loss_value)"
   ]
  },
  {
   "cell_type": "markdown",
   "metadata": {},
   "source": [
    "### train and validation simultaneously"
   ]
  },
  {
   "cell_type": "code",
   "execution_count": 13,
   "metadata": {
    "ExecuteTime": {
     "end_time": "2019-02-17T22:39:13.673990Z",
     "start_time": "2019-02-17T22:39:13.229997Z"
    }
   },
   "outputs": [],
   "source": [
    "def initialize_training_forfunc_averages_validtn(scopename, func, averages, trainfile, valfile, batch_size=1024,learning_rate=0.003,beta1=0.95, reuse=False, optname=\"a\", validate=False):\n",
    "    with tf.variable_scope(scopename):\n",
    "        y, correct_y, loss, var_list = func(trainfile, averages, batch_size=batch_size, reuse=reuse )\n",
    "        val_y, val_correct_y, val_loss, val_var_list = func(valfile, averages, batch_size=batch_size, reuse=True )\n",
    "        op = tf.train.AdamOptimizer(name=optname,learning_rate=learning_rate,beta1=beta1)\n",
    "        train_op=op.minimize(loss)\n",
    "        initialize_model(var_list, sess)\n",
    "        initialize_model(val_var_list, sess)\n",
    "        sess.run(tf.variables_initializer(op.variables()))\n",
    "    return {\"y\":y, \"correct_y\":correct_y, \"loss\":loss, \"train_op\":train_op, \"loss_history\": [], \"val_history_x\":[], \"val_history_y\":[],\n",
    "            \"fit_history_x\":[], \"fit_history_y\":[], \"val_y\":val_y, \"val_correct_y\": val_correct_y, \"val_loss\": val_loss}"
   ]
  },
  {
   "cell_type": "code",
   "execution_count": null,
   "metadata": {},
   "outputs": [],
   "source": []
  },
  {
   "cell_type": "markdown",
   "metadata": {},
   "source": [
    "###### v5-try1"
   ]
  },
  {
   "cell_type": "code",
   "execution_count": 15,
   "metadata": {
    "ExecuteTime": {
     "end_time": "2019-02-17T23:51:12.545302Z",
     "start_time": "2019-02-17T23:51:07.350392Z"
    }
   },
   "outputs": [],
   "source": [
    "averages_1000 = tftonp('1000_train.tfrec',1000)"
   ]
  },
  {
   "cell_type": "code",
   "execution_count": 17,
   "metadata": {
    "ExecuteTime": {
     "end_time": "2019-02-17T19:04:38.475555Z",
     "start_time": "2019-02-17T19:04:36.834586Z"
    },
    "scrolled": true
   },
   "outputs": [
    {
     "name": "stdout",
     "output_type": "stream",
     "text": [
      "WARNING:tensorflow:case: An unordered dictionary of predicate/fn pairs was provided, but exclusive=False. The order of conditional tests is deterministic but not guaranteed.\n",
      "WARNING:tensorflow:case: An unordered dictionary of predicate/fn pairs was provided, but exclusive=False. The order of conditional tests is deterministic but not guaranteed.\n",
      "WARNING:tensorflow:From <ipython-input-12-b871259f9b7d>:21: softmax_cross_entropy_with_logits (from tensorflow.python.ops.nn_ops) is deprecated and will be removed in a future version.\n",
      "Instructions for updating:\n",
      "\n",
      "Future major versions of TensorFlow will allow gradients to flow\n",
      "into the labels input on backprop by default.\n",
      "\n",
      "See @{tf.nn.softmax_cross_entropy_with_logits_v2}.\n",
      "\n",
      "WARNING:tensorflow:case: An unordered dictionary of predicate/fn pairs was provided, but exclusive=False. The order of conditional tests is deterministic but not guaranteed.\n",
      "WARNING:tensorflow:case: An unordered dictionary of predicate/fn pairs was provided, but exclusive=False. The order of conditional tests is deterministic but not guaranteed.\n"
     ]
    }
   ],
   "source": [
    "thisscope=\"v5-try1\"\n",
    "handles[thisscope] = initialize_training_forfunc_averages_validtn(thisscope, appended_full_model_v5, averages_1000, \"1000_train.tfrec\", \"1000_valid.tfrec\", optname=\"a\")"
   ]
  },
  {
   "cell_type": "code",
   "execution_count": null,
   "metadata": {},
   "outputs": [],
   "source": [
    "def valacc_v4(thisscope, filename, averages, batch):\n",
    "\n",
    "    y , ycor, _, _ = appended_full_model_v5(filename, averages, batch_size=batch, reuse=True)\n",
    "\n",
    "    y_num, ycor_num = sess.run ([y,ycor])\n",
    "    a,b = np.mean( np.argmax(y_num[0],axis=1) == ycor_num[0] )*100, np.mean( np.argmax(y_num[1],axis=1) == ycor_num[1] )*100 \n",
    "    print (\"\\t validation accuracy: vert \",a,  \"%, \\t horiz \", b,\"%\" )\n",
    "    return a,b"
   ]
  },
  {
   "cell_type": "code",
   "execution_count": null,
   "metadata": {},
   "outputs": [],
   "source": [
    "thisscope=\"v4_averages-train1004\"\n",
    "with tf.variable_scope(thisscope):\n",
    "    for i in range(300):\n",
    "        if i%10==0:\n",
    "            print (\"batch \",i,end=\"\")\n",
    "        _, loss_value, y, cor_y = sess.run([ handles[thisscope][\"train_op\"], \n",
    "                                             handles[thisscope][\"loss\"],\n",
    "                                             handles[thisscope][\"y\"],\n",
    "                                             handles[thisscope][\"correct_y\"] ] )\n",
    "        \n",
    "        if i%50==0:\n",
    "            a,b =  (np.mean( np.argmax(y[0],axis=1) == cor_y[0] ),np.mean( np.argmax(y[1],axis=1) == cor_y[1] ))\n",
    "            print (\"\\t fit accuracy: vert \", a, \"%, \\t horiz \",b , \"%\" )\n",
    "            y_num, ycor_num = sess.run ([y,cor_y])\n",
    "            first, second = np.mean( np.argmax(y_num[0],axis=1) == ycor_num[0] ), np.mean( np.argmax(y_num[1],axis=1) == ycor_num[1] ))\n",
    "            print (\"\\t validation accuracy: vert \",first,  \"%, \\t horiz \", second,\"%\" )\n",
    "            \n",
    "            handles[thisscope][\"val_history_y\"].append(second)\n",
    "            handles[thisscope][\"val_history_x\"].append(first)\n",
    "            handles[thisscope][\"fit_history_x\"].append(a)\n",
    "            handles[thisscope][\"fit_history_y\"].append(b)\n",
    "            \n",
    "            #handles[thisscope][\"val_history\"].append(valacc(thisscope, \"noflip160_valid.tfrec\", averages_nf160, 2000))\n",
    "            handles[thisscope][\"loss_history\"].append(loss_value)\n",
    "        "
   ]
  },
  {
   "cell_type": "code",
   "execution_count": 18,
   "metadata": {
    "ExecuteTime": {
     "end_time": "2019-02-17T19:17:42.348740Z",
     "start_time": "2019-02-17T19:04:40.978508Z"
    },
    "collapsed": true
   },
   "outputs": [
    {
     "name": "stdout",
     "output_type": "stream",
     "text": [
      "batch  0\t fit accuracy: vert  0.322265625 %, \t horiz  0.3408203125 %\n",
      "batch  10\t fit accuracy: vert  0.341796875 %, \t horiz  0.3447265625 %\n",
      "batch  20\t fit accuracy: vert  0.32421875 %, \t horiz  0.3564453125 %\n",
      "batch  30\t fit accuracy: vert  0.435546875 %, \t horiz  0.369140625 %\n",
      "batch  40\t fit accuracy: vert  0.43359375 %, \t horiz  0.38671875 %\n",
      "batch  50\t fit accuracy: vert  0.4580078125 %, \t horiz  0.3857421875 %\n",
      "batch  60\t fit accuracy: vert  0.4765625 %, \t horiz  0.43359375 %\n",
      "batch  70\t fit accuracy: vert  0.5009765625 %, \t horiz  0.439453125 %\n",
      "batch  80\t fit accuracy: vert  0.5615234375 %, \t horiz  0.4228515625 %\n",
      "batch  90\t fit accuracy: vert  0.5615234375 %, \t horiz  0.43359375 %\n",
      "batch  100\t fit accuracy: vert  0.5537109375 %, \t horiz  0.4326171875 %\n",
      "batch  110\t fit accuracy: vert  0.5849609375 %, \t horiz  0.4599609375 %\n",
      "batch  120\t fit accuracy: vert  0.6171875 %, \t horiz  0.466796875 %\n",
      "batch  130\t fit accuracy: vert  0.6220703125 %, \t horiz  0.4833984375 %\n",
      "batch  140\t fit accuracy: vert  0.6357421875 %, \t horiz  0.45703125 %\n",
      "batch  150\t fit accuracy: vert  0.623046875 %, \t horiz  0.427734375 %\n",
      "batch  160\t fit accuracy: vert  0.63671875 %, \t horiz  0.4970703125 %\n",
      "batch  170\t fit accuracy: vert  0.6728515625 %, \t horiz  0.4736328125 %\n",
      "batch  180\t fit accuracy: vert  0.6953125 %, \t horiz  0.44921875 %\n",
      "batch  190\t fit accuracy: vert  0.6943359375 %, \t horiz  0.486328125 %\n",
      "batch  200\t fit accuracy: vert  0.7099609375 %, \t horiz  0.494140625 %\n",
      "batch  210\t fit accuracy: vert  0.669921875 %, \t horiz  0.498046875 %\n",
      "batch  220\t fit accuracy: vert  0.6982421875 %, \t horiz  0.4609375 %\n",
      "batch  230\t fit accuracy: vert  0.7001953125 %, \t horiz  0.4814453125 %\n",
      "batch  240\t fit accuracy: vert  0.6943359375 %, \t horiz  0.5166015625 %\n",
      "batch  250\t fit accuracy: vert  0.6884765625 %, \t horiz  0.4765625 %\n",
      "batch  260\t fit accuracy: vert  0.6923828125 %, \t horiz  0.5205078125 %\n",
      "batch  270\t fit accuracy: vert  0.73046875 %, \t horiz  0.513671875 %\n",
      "batch  280\t fit accuracy: vert  0.7412109375 %, \t horiz  0.51953125 %\n",
      "batch  290\t fit accuracy: vert  0.720703125 %, \t horiz  0.498046875 %\n"
     ]
    }
   ],
   "source": [
    "thisscope=\"v5-try1\"\n",
    "with tf.variable_scope(thisscope):\n",
    "    for i in range(300):\n",
    "        if i%10==0:\n",
    "            print (\"batch \",i,end=\"\")\n",
    "        _, loss_value, y, cor_y, val_his = sess.run([ handles[thisscope][\"train_op\"], \n",
    "                                             handles[thisscope][\"loss\"],\n",
    "                                             handles[thisscope][\"y\"],\n",
    "                                             handles[thisscope][\"correct_y\"],\n",
    "                                             handles[thisscope][\"val_history\"]] )\n",
    "        \n",
    "        if i%10==0:\n",
    "            a,b =  (np.mean( np.argmax(y[0],axis=1) == cor_y[0] ),np.mean( np.argmax(y[1],axis=1) == cor_y[1] ))\n",
    "            print (\"\\t fit accuracy: vert \", a, \"%, \\t horiz \",b , \"%\" )\n",
    "            #handles[thisscope][\"fit_history\"].append((a,b))\n",
    "            #handles[thisscope][\"val_history\"].append(valacc(thisscope, \"noflip160_valid.tfrec\", averages_nf160, 2000))\n",
    "        handles[thisscope][\"loss_history\"].append(loss_value)\n",
    "        handles[thisscope][\"val_history\"].append(val_his)"
   ]
  },
  {
   "cell_type": "code",
   "execution_count": 17,
   "metadata": {
    "ExecuteTime": {
     "end_time": "2019-02-17T23:52:35.182894Z",
     "start_time": "2019-02-17T23:52:33.934915Z"
    },
    "collapsed": true
   },
   "outputs": [
    {
     "name": "stdout",
     "output_type": "stream",
     "text": [
      "WARNING:tensorflow:case: An unordered dictionary of predicate/fn pairs was provided, but exclusive=False. The order of conditional tests is deterministic but not guaranteed.\n",
      "WARNING:tensorflow:case: An unordered dictionary of predicate/fn pairs was provided, but exclusive=False. The order of conditional tests is deterministic but not guaranteed.\n"
     ]
    },
    {
     "ename": "ValueError",
     "evalue": "Dimensions must be equal, but are 24 and 12 for 'v5-try1-e/my_v2/layerc-b/Conv2D' (op: 'Conv2D') with input shapes: [?,25,25,24], [1,1,12,12].",
     "output_type": "error",
     "traceback": [
      "\u001b[1;31m---------------------------------------------------------------------------\u001b[0m",
      "\u001b[1;31mInvalidArgumentError\u001b[0m                      Traceback (most recent call last)",
      "\u001b[1;32mC:\\ProgramData\\Anaconda3\\lib\\site-packages\\tensorflow\\python\\framework\\ops.py\u001b[0m in \u001b[0;36m_create_c_op\u001b[1;34m(graph, node_def, inputs, control_inputs)\u001b[0m\n\u001b[0;32m   1575\u001b[0m   \u001b[1;32mtry\u001b[0m\u001b[1;33m:\u001b[0m\u001b[1;33m\u001b[0m\u001b[0m\n\u001b[1;32m-> 1576\u001b[1;33m     \u001b[0mc_op\u001b[0m \u001b[1;33m=\u001b[0m \u001b[0mc_api\u001b[0m\u001b[1;33m.\u001b[0m\u001b[0mTF_FinishOperation\u001b[0m\u001b[1;33m(\u001b[0m\u001b[0mop_desc\u001b[0m\u001b[1;33m)\u001b[0m\u001b[1;33m\u001b[0m\u001b[0m\n\u001b[0m\u001b[0;32m   1577\u001b[0m   \u001b[1;32mexcept\u001b[0m \u001b[0merrors\u001b[0m\u001b[1;33m.\u001b[0m\u001b[0mInvalidArgumentError\u001b[0m \u001b[1;32mas\u001b[0m \u001b[0me\u001b[0m\u001b[1;33m:\u001b[0m\u001b[1;33m\u001b[0m\u001b[0m\n",
      "\u001b[1;31mInvalidArgumentError\u001b[0m: Dimensions must be equal, but are 24 and 12 for 'v5-try1-e/my_v2/layerc-b/Conv2D' (op: 'Conv2D') with input shapes: [?,25,25,24], [1,1,12,12].",
      "\nDuring handling of the above exception, another exception occurred:\n",
      "\u001b[1;31mValueError\u001b[0m                                Traceback (most recent call last)",
      "\u001b[1;32m<ipython-input-17-89518f2d6d0f>\u001b[0m in \u001b[0;36m<module>\u001b[1;34m()\u001b[0m\n\u001b[0;32m      1\u001b[0m \u001b[0mthisscope\u001b[0m\u001b[1;33m=\u001b[0m\u001b[1;34m\"v5-try1-e\"\u001b[0m\u001b[1;33m\u001b[0m\u001b[0m\n\u001b[1;32m----> 2\u001b[1;33m \u001b[0mhandles\u001b[0m\u001b[1;33m[\u001b[0m\u001b[0mthisscope\u001b[0m\u001b[1;33m]\u001b[0m \u001b[1;33m=\u001b[0m \u001b[0minitialize_training_forfunc_averages_validtn\u001b[0m\u001b[1;33m(\u001b[0m\u001b[0mthisscope\u001b[0m\u001b[1;33m,\u001b[0m \u001b[0mappended_full_model_v5_extended\u001b[0m\u001b[1;33m,\u001b[0m \u001b[0maverages_1000\u001b[0m\u001b[1;33m,\u001b[0m \u001b[1;34m\"1000_train.tfrec\"\u001b[0m\u001b[1;33m,\u001b[0m \u001b[1;34m\"1000_valid.tfrec\"\u001b[0m\u001b[1;33m,\u001b[0m \u001b[0moptname\u001b[0m\u001b[1;33m=\u001b[0m\u001b[1;34m\"a\"\u001b[0m\u001b[1;33m)\u001b[0m\u001b[1;33m\u001b[0m\u001b[0m\n\u001b[0m",
      "\u001b[1;32m<ipython-input-13-bb4af400ca54>\u001b[0m in \u001b[0;36minitialize_training_forfunc_averages_validtn\u001b[1;34m(scopename, func, averages, trainfile, valfile, batch_size, learning_rate, beta1, reuse, optname, validate)\u001b[0m\n\u001b[0;32m      1\u001b[0m \u001b[1;32mdef\u001b[0m \u001b[0minitialize_training_forfunc_averages_validtn\u001b[0m\u001b[1;33m(\u001b[0m\u001b[0mscopename\u001b[0m\u001b[1;33m,\u001b[0m \u001b[0mfunc\u001b[0m\u001b[1;33m,\u001b[0m \u001b[0maverages\u001b[0m\u001b[1;33m,\u001b[0m \u001b[0mtrainfile\u001b[0m\u001b[1;33m,\u001b[0m \u001b[0mvalfile\u001b[0m\u001b[1;33m,\u001b[0m \u001b[0mbatch_size\u001b[0m\u001b[1;33m=\u001b[0m\u001b[1;36m1024\u001b[0m\u001b[1;33m,\u001b[0m\u001b[0mlearning_rate\u001b[0m\u001b[1;33m=\u001b[0m\u001b[1;36m0.003\u001b[0m\u001b[1;33m,\u001b[0m\u001b[0mbeta1\u001b[0m\u001b[1;33m=\u001b[0m\u001b[1;36m0.95\u001b[0m\u001b[1;33m,\u001b[0m \u001b[0mreuse\u001b[0m\u001b[1;33m=\u001b[0m\u001b[1;32mFalse\u001b[0m\u001b[1;33m,\u001b[0m \u001b[0moptname\u001b[0m\u001b[1;33m=\u001b[0m\u001b[1;34m\"a\"\u001b[0m\u001b[1;33m,\u001b[0m \u001b[0mvalidate\u001b[0m\u001b[1;33m=\u001b[0m\u001b[1;32mFalse\u001b[0m\u001b[1;33m)\u001b[0m\u001b[1;33m:\u001b[0m\u001b[1;33m\u001b[0m\u001b[0m\n\u001b[0;32m      2\u001b[0m     \u001b[1;32mwith\u001b[0m \u001b[0mtf\u001b[0m\u001b[1;33m.\u001b[0m\u001b[0mvariable_scope\u001b[0m\u001b[1;33m(\u001b[0m\u001b[0mscopename\u001b[0m\u001b[1;33m)\u001b[0m\u001b[1;33m:\u001b[0m\u001b[1;33m\u001b[0m\u001b[0m\n\u001b[1;32m----> 3\u001b[1;33m         \u001b[0my\u001b[0m\u001b[1;33m,\u001b[0m \u001b[0mcorrect_y\u001b[0m\u001b[1;33m,\u001b[0m \u001b[0mloss\u001b[0m\u001b[1;33m,\u001b[0m \u001b[0mvar_list\u001b[0m \u001b[1;33m=\u001b[0m \u001b[0mfunc\u001b[0m\u001b[1;33m(\u001b[0m\u001b[0mtrainfile\u001b[0m\u001b[1;33m,\u001b[0m \u001b[0maverages\u001b[0m\u001b[1;33m,\u001b[0m \u001b[0mbatch_size\u001b[0m\u001b[1;33m=\u001b[0m\u001b[0mbatch_size\u001b[0m\u001b[1;33m,\u001b[0m \u001b[0mreuse\u001b[0m\u001b[1;33m=\u001b[0m\u001b[0mreuse\u001b[0m \u001b[1;33m)\u001b[0m\u001b[1;33m\u001b[0m\u001b[0m\n\u001b[0m\u001b[0;32m      4\u001b[0m         \u001b[0mval_y\u001b[0m\u001b[1;33m,\u001b[0m \u001b[0mval_correct_y\u001b[0m\u001b[1;33m,\u001b[0m \u001b[0mval_loss\u001b[0m\u001b[1;33m,\u001b[0m \u001b[0mval_var_list\u001b[0m \u001b[1;33m=\u001b[0m \u001b[0mfunc\u001b[0m\u001b[1;33m(\u001b[0m\u001b[0mvalfile\u001b[0m\u001b[1;33m,\u001b[0m \u001b[0maverages\u001b[0m\u001b[1;33m,\u001b[0m \u001b[0mbatch_size\u001b[0m\u001b[1;33m=\u001b[0m\u001b[0mbatch_size\u001b[0m\u001b[1;33m,\u001b[0m \u001b[0mreuse\u001b[0m\u001b[1;33m=\u001b[0m\u001b[1;32mTrue\u001b[0m \u001b[1;33m)\u001b[0m\u001b[1;33m\u001b[0m\u001b[0m\n\u001b[0;32m      5\u001b[0m         \u001b[0mop\u001b[0m \u001b[1;33m=\u001b[0m \u001b[0mtf\u001b[0m\u001b[1;33m.\u001b[0m\u001b[0mtrain\u001b[0m\u001b[1;33m.\u001b[0m\u001b[0mAdamOptimizer\u001b[0m\u001b[1;33m(\u001b[0m\u001b[0mname\u001b[0m\u001b[1;33m=\u001b[0m\u001b[0moptname\u001b[0m\u001b[1;33m,\u001b[0m\u001b[0mlearning_rate\u001b[0m\u001b[1;33m=\u001b[0m\u001b[0mlearning_rate\u001b[0m\u001b[1;33m,\u001b[0m\u001b[0mbeta1\u001b[0m\u001b[1;33m=\u001b[0m\u001b[0mbeta1\u001b[0m\u001b[1;33m)\u001b[0m\u001b[1;33m\u001b[0m\u001b[0m\n",
      "\u001b[1;32m<ipython-input-16-43e69dcc329c>\u001b[0m in \u001b[0;36mappended_full_model_v5_extended\u001b[1;34m(filename, averages, batch_size, regscale, reuse)\u001b[0m\n\u001b[0;32m     11\u001b[0m     layers, var_list = appended_model_v4_extended( ((nextdict['squeezed_layer_7']-a7)/s7), \n\u001b[0;32m     12\u001b[0m                                           \u001b[1;33m(\u001b[0m\u001b[1;33m(\u001b[0m\u001b[0mnextdict\u001b[0m\u001b[1;33m[\u001b[0m\u001b[1;34m'squeezed_layer_3'\u001b[0m\u001b[1;33m]\u001b[0m\u001b[1;33m-\u001b[0m\u001b[0ma3\u001b[0m\u001b[1;33m)\u001b[0m\u001b[1;33m/\u001b[0m\u001b[0ms3\u001b[0m\u001b[1;33m)\u001b[0m\u001b[1;33m,\u001b[0m\u001b[1;33m\u001b[0m\u001b[0m\n\u001b[1;32m---> 13\u001b[1;33m                                           ((nextdict['squeezed_layer_1']-a1)/s1), reuse )\n\u001b[0m\u001b[0;32m     14\u001b[0m     \u001b[0my\u001b[0m\u001b[1;33m=\u001b[0m\u001b[0mtf\u001b[0m\u001b[1;33m.\u001b[0m\u001b[0mreshape\u001b[0m\u001b[1;33m(\u001b[0m\u001b[0mlayers\u001b[0m\u001b[1;33m[\u001b[0m\u001b[1;33m-\u001b[0m\u001b[1;36m1\u001b[0m\u001b[1;33m]\u001b[0m\u001b[1;33m,\u001b[0m\u001b[1;33m[\u001b[0m\u001b[1;33m-\u001b[0m\u001b[1;36m1\u001b[0m\u001b[1;33m,\u001b[0m\u001b[1;36m6\u001b[0m\u001b[1;33m]\u001b[0m\u001b[1;33m)\u001b[0m\u001b[1;33m\u001b[0m\u001b[0m\n\u001b[0;32m     15\u001b[0m     \u001b[0my_vert\u001b[0m \u001b[1;33m=\u001b[0m \u001b[0my\u001b[0m\u001b[1;33m[\u001b[0m\u001b[1;33m:\u001b[0m\u001b[1;33m,\u001b[0m\u001b[1;33m:\u001b[0m\u001b[1;36m3\u001b[0m\u001b[1;33m]\u001b[0m\u001b[1;33m\u001b[0m\u001b[0m\n",
      "\u001b[1;32m<ipython-input-10-1409401ebbbe>\u001b[0m in \u001b[0;36mappended_model_v4_extended\u001b[1;34m(XB, XC, XD, reuse)\u001b[0m\n\u001b[0;32m     46\u001b[0m             \u001b[0mvar_list\u001b[0m\u001b[1;33m.\u001b[0m\u001b[0mappend\u001b[0m\u001b[1;33m(\u001b[0m\u001b[0mW\u001b[0m\u001b[1;33m)\u001b[0m\u001b[1;33m\u001b[0m\u001b[0m\n\u001b[0;32m     47\u001b[0m             \u001b[0mvar_list\u001b[0m\u001b[1;33m.\u001b[0m\u001b[0mappend\u001b[0m\u001b[1;33m(\u001b[0m\u001b[0mb\u001b[0m\u001b[1;33m)\u001b[0m\u001b[1;33m\u001b[0m\u001b[0m\n\u001b[1;32m---> 48\u001b[1;33m             \u001b[0mx\u001b[0m \u001b[1;33m=\u001b[0m \u001b[0mtf\u001b[0m\u001b[1;33m.\u001b[0m\u001b[0mnn\u001b[0m\u001b[1;33m.\u001b[0m\u001b[0mconv2d\u001b[0m\u001b[1;33m(\u001b[0m\u001b[0mx\u001b[0m\u001b[1;33m,\u001b[0m\u001b[0mW\u001b[0m\u001b[1;33m,\u001b[0m\u001b[1;33m[\u001b[0m\u001b[1;36m1\u001b[0m\u001b[1;33m,\u001b[0m\u001b[1;36m1\u001b[0m\u001b[1;33m,\u001b[0m\u001b[1;36m1\u001b[0m\u001b[1;33m,\u001b[0m\u001b[1;36m1\u001b[0m\u001b[1;33m]\u001b[0m\u001b[1;33m,\u001b[0m\u001b[1;34m\"VALID\"\u001b[0m\u001b[1;33m)\u001b[0m\u001b[1;33m\u001b[0m\u001b[0m\n\u001b[0m\u001b[0;32m     49\u001b[0m             \u001b[0mx\u001b[0m \u001b[1;33m=\u001b[0m \u001b[0mtf\u001b[0m\u001b[1;33m.\u001b[0m\u001b[0mnn\u001b[0m\u001b[1;33m.\u001b[0m\u001b[0mbias_add\u001b[0m\u001b[1;33m(\u001b[0m\u001b[0mx\u001b[0m\u001b[1;33m,\u001b[0m\u001b[0mb\u001b[0m\u001b[1;33m)\u001b[0m\u001b[1;33m\u001b[0m\u001b[0m\n\u001b[0;32m     50\u001b[0m             \u001b[0mlayers\u001b[0m\u001b[1;33m.\u001b[0m\u001b[0mappend\u001b[0m\u001b[1;33m(\u001b[0m\u001b[0mx\u001b[0m\u001b[1;33m)\u001b[0m\u001b[1;33m\u001b[0m\u001b[0m\n",
      "\u001b[1;32mC:\\ProgramData\\Anaconda3\\lib\\site-packages\\tensorflow\\python\\ops\\gen_nn_ops.py\u001b[0m in \u001b[0;36mconv2d\u001b[1;34m(input, filter, strides, padding, use_cudnn_on_gpu, data_format, dilations, name)\u001b[0m\n\u001b[0;32m   1040\u001b[0m         \u001b[1;34m\"Conv2D\"\u001b[0m\u001b[1;33m,\u001b[0m \u001b[0minput\u001b[0m\u001b[1;33m=\u001b[0m\u001b[0minput\u001b[0m\u001b[1;33m,\u001b[0m \u001b[0mfilter\u001b[0m\u001b[1;33m=\u001b[0m\u001b[0mfilter\u001b[0m\u001b[1;33m,\u001b[0m \u001b[0mstrides\u001b[0m\u001b[1;33m=\u001b[0m\u001b[0mstrides\u001b[0m\u001b[1;33m,\u001b[0m\u001b[1;33m\u001b[0m\u001b[0m\n\u001b[0;32m   1041\u001b[0m         \u001b[0mpadding\u001b[0m\u001b[1;33m=\u001b[0m\u001b[0mpadding\u001b[0m\u001b[1;33m,\u001b[0m \u001b[0muse_cudnn_on_gpu\u001b[0m\u001b[1;33m=\u001b[0m\u001b[0muse_cudnn_on_gpu\u001b[0m\u001b[1;33m,\u001b[0m\u001b[1;33m\u001b[0m\u001b[0m\n\u001b[1;32m-> 1042\u001b[1;33m         data_format=data_format, dilations=dilations, name=name)\n\u001b[0m\u001b[0;32m   1043\u001b[0m     \u001b[0m_result\u001b[0m \u001b[1;33m=\u001b[0m \u001b[0m_op\u001b[0m\u001b[1;33m.\u001b[0m\u001b[0moutputs\u001b[0m\u001b[1;33m[\u001b[0m\u001b[1;33m:\u001b[0m\u001b[1;33m]\u001b[0m\u001b[1;33m\u001b[0m\u001b[0m\n\u001b[0;32m   1044\u001b[0m     \u001b[0m_inputs_flat\u001b[0m \u001b[1;33m=\u001b[0m \u001b[0m_op\u001b[0m\u001b[1;33m.\u001b[0m\u001b[0minputs\u001b[0m\u001b[1;33m\u001b[0m\u001b[0m\n",
      "\u001b[1;32mC:\\ProgramData\\Anaconda3\\lib\\site-packages\\tensorflow\\python\\framework\\op_def_library.py\u001b[0m in \u001b[0;36m_apply_op_helper\u001b[1;34m(self, op_type_name, name, **keywords)\u001b[0m\n\u001b[0;32m    785\u001b[0m         op = g.create_op(op_type_name, inputs, output_types, name=scope,\n\u001b[0;32m    786\u001b[0m                          \u001b[0minput_types\u001b[0m\u001b[1;33m=\u001b[0m\u001b[0minput_types\u001b[0m\u001b[1;33m,\u001b[0m \u001b[0mattrs\u001b[0m\u001b[1;33m=\u001b[0m\u001b[0mattr_protos\u001b[0m\u001b[1;33m,\u001b[0m\u001b[1;33m\u001b[0m\u001b[0m\n\u001b[1;32m--> 787\u001b[1;33m                          op_def=op_def)\n\u001b[0m\u001b[0;32m    788\u001b[0m       \u001b[1;32mreturn\u001b[0m \u001b[0moutput_structure\u001b[0m\u001b[1;33m,\u001b[0m \u001b[0mop_def\u001b[0m\u001b[1;33m.\u001b[0m\u001b[0mis_stateful\u001b[0m\u001b[1;33m,\u001b[0m \u001b[0mop\u001b[0m\u001b[1;33m\u001b[0m\u001b[0m\n\u001b[0;32m    789\u001b[0m \u001b[1;33m\u001b[0m\u001b[0m\n",
      "\u001b[1;32mC:\\ProgramData\\Anaconda3\\lib\\site-packages\\tensorflow\\python\\util\\deprecation.py\u001b[0m in \u001b[0;36mnew_func\u001b[1;34m(*args, **kwargs)\u001b[0m\n\u001b[0;32m    452\u001b[0m                 \u001b[1;34m'in a future version'\u001b[0m \u001b[1;32mif\u001b[0m \u001b[0mdate\u001b[0m \u001b[1;32mis\u001b[0m \u001b[1;32mNone\u001b[0m \u001b[1;32melse\u001b[0m \u001b[1;33m(\u001b[0m\u001b[1;34m'after %s'\u001b[0m \u001b[1;33m%\u001b[0m \u001b[0mdate\u001b[0m\u001b[1;33m)\u001b[0m\u001b[1;33m,\u001b[0m\u001b[1;33m\u001b[0m\u001b[0m\n\u001b[0;32m    453\u001b[0m                 instructions)\n\u001b[1;32m--> 454\u001b[1;33m       \u001b[1;32mreturn\u001b[0m \u001b[0mfunc\u001b[0m\u001b[1;33m(\u001b[0m\u001b[1;33m*\u001b[0m\u001b[0margs\u001b[0m\u001b[1;33m,\u001b[0m \u001b[1;33m**\u001b[0m\u001b[0mkwargs\u001b[0m\u001b[1;33m)\u001b[0m\u001b[1;33m\u001b[0m\u001b[0m\n\u001b[0m\u001b[0;32m    455\u001b[0m     return tf_decorator.make_decorator(func, new_func, 'deprecated',\n\u001b[0;32m    456\u001b[0m                                        _add_deprecated_arg_notice_to_docstring(\n",
      "\u001b[1;32mC:\\ProgramData\\Anaconda3\\lib\\site-packages\\tensorflow\\python\\framework\\ops.py\u001b[0m in \u001b[0;36mcreate_op\u001b[1;34m(***failed resolving arguments***)\u001b[0m\n\u001b[0;32m   3153\u001b[0m           \u001b[0minput_types\u001b[0m\u001b[1;33m=\u001b[0m\u001b[0minput_types\u001b[0m\u001b[1;33m,\u001b[0m\u001b[1;33m\u001b[0m\u001b[0m\n\u001b[0;32m   3154\u001b[0m           \u001b[0moriginal_op\u001b[0m\u001b[1;33m=\u001b[0m\u001b[0mself\u001b[0m\u001b[1;33m.\u001b[0m\u001b[0m_default_original_op\u001b[0m\u001b[1;33m,\u001b[0m\u001b[1;33m\u001b[0m\u001b[0m\n\u001b[1;32m-> 3155\u001b[1;33m           op_def=op_def)\n\u001b[0m\u001b[0;32m   3156\u001b[0m       \u001b[0mself\u001b[0m\u001b[1;33m.\u001b[0m\u001b[0m_create_op_helper\u001b[0m\u001b[1;33m(\u001b[0m\u001b[0mret\u001b[0m\u001b[1;33m,\u001b[0m \u001b[0mcompute_device\u001b[0m\u001b[1;33m=\u001b[0m\u001b[0mcompute_device\u001b[0m\u001b[1;33m)\u001b[0m\u001b[1;33m\u001b[0m\u001b[0m\n\u001b[0;32m   3157\u001b[0m     \u001b[1;32mreturn\u001b[0m \u001b[0mret\u001b[0m\u001b[1;33m\u001b[0m\u001b[0m\n",
      "\u001b[1;32mC:\\ProgramData\\Anaconda3\\lib\\site-packages\\tensorflow\\python\\framework\\ops.py\u001b[0m in \u001b[0;36m__init__\u001b[1;34m(self, node_def, g, inputs, output_types, control_inputs, input_types, original_op, op_def)\u001b[0m\n\u001b[0;32m   1729\u001b[0m           op_def, inputs, node_def.attr)\n\u001b[0;32m   1730\u001b[0m       self._c_op = _create_c_op(self._graph, node_def, grouped_inputs,\n\u001b[1;32m-> 1731\u001b[1;33m                                 control_input_ops)\n\u001b[0m\u001b[0;32m   1732\u001b[0m \u001b[1;33m\u001b[0m\u001b[0m\n\u001b[0;32m   1733\u001b[0m     \u001b[1;31m# Initialize self._outputs.\u001b[0m\u001b[1;33m\u001b[0m\u001b[1;33m\u001b[0m\u001b[0m\n",
      "\u001b[1;32mC:\\ProgramData\\Anaconda3\\lib\\site-packages\\tensorflow\\python\\framework\\ops.py\u001b[0m in \u001b[0;36m_create_c_op\u001b[1;34m(graph, node_def, inputs, control_inputs)\u001b[0m\n\u001b[0;32m   1577\u001b[0m   \u001b[1;32mexcept\u001b[0m \u001b[0merrors\u001b[0m\u001b[1;33m.\u001b[0m\u001b[0mInvalidArgumentError\u001b[0m \u001b[1;32mas\u001b[0m \u001b[0me\u001b[0m\u001b[1;33m:\u001b[0m\u001b[1;33m\u001b[0m\u001b[0m\n\u001b[0;32m   1578\u001b[0m     \u001b[1;31m# Convert to ValueError for backwards compatibility.\u001b[0m\u001b[1;33m\u001b[0m\u001b[1;33m\u001b[0m\u001b[0m\n\u001b[1;32m-> 1579\u001b[1;33m     \u001b[1;32mraise\u001b[0m \u001b[0mValueError\u001b[0m\u001b[1;33m(\u001b[0m\u001b[0mstr\u001b[0m\u001b[1;33m(\u001b[0m\u001b[0me\u001b[0m\u001b[1;33m)\u001b[0m\u001b[1;33m)\u001b[0m\u001b[1;33m\u001b[0m\u001b[0m\n\u001b[0m\u001b[0;32m   1580\u001b[0m \u001b[1;33m\u001b[0m\u001b[0m\n\u001b[0;32m   1581\u001b[0m   \u001b[1;32mreturn\u001b[0m \u001b[0mc_op\u001b[0m\u001b[1;33m\u001b[0m\u001b[0m\n",
      "\u001b[1;31mValueError\u001b[0m: Dimensions must be equal, but are 24 and 12 for 'v5-try1-e/my_v2/layerc-b/Conv2D' (op: 'Conv2D') with input shapes: [?,25,25,24], [1,1,12,12]."
     ]
    }
   ],
   "source": [
    "thisscope=\"v5-try1-e\"\n",
    "handles[thisscope] = initialize_training_forfunc_averages_validtn(thisscope, appended_full_model_v5_extended, averages_1000, \"1000_train.tfrec\", \"1000_valid.tfrec\", optname=\"a\")"
   ]
  },
  {
   "cell_type": "code",
   "execution_count": null,
   "metadata": {},
   "outputs": [],
   "source": []
  },
  {
   "cell_type": "code",
   "execution_count": null,
   "metadata": {},
   "outputs": [],
   "source": []
  },
  {
   "cell_type": "markdown",
   "metadata": {
    "heading_collapsed": true
   },
   "source": [
    "# Debug"
   ]
  },
  {
   "cell_type": "code",
   "execution_count": null,
   "metadata": {
    "collapsed": true,
    "hidden": true
   },
   "outputs": [],
   "source": []
  },
  {
   "cell_type": "code",
   "execution_count": null,
   "metadata": {
    "collapsed": true,
    "hidden": true
   },
   "outputs": [],
   "source": []
  },
  {
   "cell_type": "code",
   "execution_count": 243,
   "metadata": {
    "hidden": true
   },
   "outputs": [
    {
     "ename": "TypeError",
     "evalue": "Cannot interpret feed_dict key as Tensor: The name 'squeezed_layer_7' looks like an (invalid) Operation name, not a Tensor. Tensor names must be of the form \"<op_name>:<output_index>\".",
     "output_type": "error",
     "traceback": [
      "\u001b[1;31m---------------------------------------------------------------------------\u001b[0m",
      "\u001b[1;31mValueError\u001b[0m                                Traceback (most recent call last)",
      "\u001b[1;32m~\\Anaconda3\\lib\\site-packages\\tensorflow\\python\\client\\session.py\u001b[0m in \u001b[0;36m_run\u001b[1;34m(self, handle, fetches, feed_dict, options, run_metadata)\u001b[0m\n\u001b[0;32m   1079\u001b[0m             subfeed_t = self.graph.as_graph_element(\n\u001b[1;32m-> 1080\u001b[1;33m                 subfeed, allow_tensor=True, allow_operation=False)\n\u001b[0m\u001b[0;32m   1081\u001b[0m           \u001b[1;32mexcept\u001b[0m \u001b[0mException\u001b[0m \u001b[1;32mas\u001b[0m \u001b[0me\u001b[0m\u001b[1;33m:\u001b[0m\u001b[1;33m\u001b[0m\u001b[0m\n",
      "\u001b[1;32m~\\Anaconda3\\lib\\site-packages\\tensorflow\\python\\framework\\ops.py\u001b[0m in \u001b[0;36mas_graph_element\u001b[1;34m(self, obj, allow_tensor, allow_operation)\u001b[0m\n\u001b[0;32m   3458\u001b[0m     \u001b[1;32mwith\u001b[0m \u001b[0mself\u001b[0m\u001b[1;33m.\u001b[0m\u001b[0m_lock\u001b[0m\u001b[1;33m:\u001b[0m\u001b[1;33m\u001b[0m\u001b[0m\n\u001b[1;32m-> 3459\u001b[1;33m       \u001b[1;32mreturn\u001b[0m \u001b[0mself\u001b[0m\u001b[1;33m.\u001b[0m\u001b[0m_as_graph_element_locked\u001b[0m\u001b[1;33m(\u001b[0m\u001b[0mobj\u001b[0m\u001b[1;33m,\u001b[0m \u001b[0mallow_tensor\u001b[0m\u001b[1;33m,\u001b[0m \u001b[0mallow_operation\u001b[0m\u001b[1;33m)\u001b[0m\u001b[1;33m\u001b[0m\u001b[0m\n\u001b[0m\u001b[0;32m   3460\u001b[0m \u001b[1;33m\u001b[0m\u001b[0m\n",
      "\u001b[1;32m~\\Anaconda3\\lib\\site-packages\\tensorflow\\python\\framework\\ops.py\u001b[0m in \u001b[0;36m_as_graph_element_locked\u001b[1;34m(self, obj, allow_tensor, allow_operation)\u001b[0m\n\u001b[0;32m   3532\u001b[0m                     \"\\\"<op_name>:<output_index>\\\".\")\n\u001b[1;32m-> 3533\u001b[1;33m         \u001b[1;32mraise\u001b[0m \u001b[0mValueError\u001b[0m\u001b[1;33m(\u001b[0m\u001b[0merr_msg\u001b[0m\u001b[1;33m)\u001b[0m\u001b[1;33m\u001b[0m\u001b[0m\n\u001b[0m\u001b[0;32m   3534\u001b[0m \u001b[1;33m\u001b[0m\u001b[0m\n",
      "\u001b[1;31mValueError\u001b[0m: The name 'squeezed_layer_7' looks like an (invalid) Operation name, not a Tensor. Tensor names must be of the form \"<op_name>:<output_index>\".",
      "\nDuring handling of the above exception, another exception occurred:\n",
      "\u001b[1;31mTypeError\u001b[0m                                 Traceback (most recent call last)",
      "\u001b[1;32m<ipython-input-243-62024f7ce240>\u001b[0m in \u001b[0;36m<module>\u001b[1;34m()\u001b[0m\n\u001b[1;32m----> 1\u001b[1;33m \u001b[0msess\u001b[0m\u001b[1;33m.\u001b[0m\u001b[0mrun\u001b[0m\u001b[1;33m(\u001b[0m\u001b[0mloss\u001b[0m\u001b[1;33m,\u001b[0m \u001b[0mfeed_dict\u001b[0m\u001b[1;33m=\u001b[0m\u001b[0mnextb\u001b[0m\u001b[1;33m)\u001b[0m\u001b[1;33m\u001b[0m\u001b[0m\n\u001b[0m",
      "\u001b[1;32m~\\Anaconda3\\lib\\site-packages\\tensorflow\\python\\client\\session.py\u001b[0m in \u001b[0;36mrun\u001b[1;34m(self, fetches, feed_dict, options, run_metadata)\u001b[0m\n\u001b[0;32m    903\u001b[0m     \u001b[1;32mtry\u001b[0m\u001b[1;33m:\u001b[0m\u001b[1;33m\u001b[0m\u001b[0m\n\u001b[0;32m    904\u001b[0m       result = self._run(None, fetches, feed_dict, options_ptr,\n\u001b[1;32m--> 905\u001b[1;33m                          run_metadata_ptr)\n\u001b[0m\u001b[0;32m    906\u001b[0m       \u001b[1;32mif\u001b[0m \u001b[0mrun_metadata\u001b[0m\u001b[1;33m:\u001b[0m\u001b[1;33m\u001b[0m\u001b[0m\n\u001b[0;32m    907\u001b[0m         \u001b[0mproto_data\u001b[0m \u001b[1;33m=\u001b[0m \u001b[0mtf_session\u001b[0m\u001b[1;33m.\u001b[0m\u001b[0mTF_GetBuffer\u001b[0m\u001b[1;33m(\u001b[0m\u001b[0mrun_metadata_ptr\u001b[0m\u001b[1;33m)\u001b[0m\u001b[1;33m\u001b[0m\u001b[0m\n",
      "\u001b[1;32m~\\Anaconda3\\lib\\site-packages\\tensorflow\\python\\client\\session.py\u001b[0m in \u001b[0;36m_run\u001b[1;34m(self, handle, fetches, feed_dict, options, run_metadata)\u001b[0m\n\u001b[0;32m   1081\u001b[0m           \u001b[1;32mexcept\u001b[0m \u001b[0mException\u001b[0m \u001b[1;32mas\u001b[0m \u001b[0me\u001b[0m\u001b[1;33m:\u001b[0m\u001b[1;33m\u001b[0m\u001b[0m\n\u001b[0;32m   1082\u001b[0m             raise TypeError(\n\u001b[1;32m-> 1083\u001b[1;33m                 'Cannot interpret feed_dict key as Tensor: ' + e.args[0])\n\u001b[0m\u001b[0;32m   1084\u001b[0m \u001b[1;33m\u001b[0m\u001b[0m\n\u001b[0;32m   1085\u001b[0m           \u001b[1;32mif\u001b[0m \u001b[0misinstance\u001b[0m\u001b[1;33m(\u001b[0m\u001b[0msubfeed_val\u001b[0m\u001b[1;33m,\u001b[0m \u001b[0mops\u001b[0m\u001b[1;33m.\u001b[0m\u001b[0mTensor\u001b[0m\u001b[1;33m)\u001b[0m\u001b[1;33m:\u001b[0m\u001b[1;33m\u001b[0m\u001b[0m\n",
      "\u001b[1;31mTypeError\u001b[0m: Cannot interpret feed_dict key as Tensor: The name 'squeezed_layer_7' looks like an (invalid) Operation name, not a Tensor. Tensor names must be of the form \"<op_name>:<output_index>\"."
     ]
    }
   ],
   "source": [
    "sess.run(loss, feed_dict=nextb)"
   ]
  },
  {
   "cell_type": "code",
   "execution_count": null,
   "metadata": {
    "collapsed": true,
    "hidden": true
   },
   "outputs": [],
   "source": []
  },
  {
   "cell_type": "code",
   "execution_count": null,
   "metadata": {
    "collapsed": true,
    "hidden": true
   },
   "outputs": [],
   "source": []
  },
  {
   "cell_type": "code",
   "execution_count": 242,
   "metadata": {
    "collapsed": true,
    "hidden": true,
    "scrolled": true
   },
   "outputs": [],
   "source": [
    "#tryds2=dataset_XY_from_TFRecord( layer_name_and_shape_list=[ (\"layer_0\",111,111,64) ], filename=\"XandY1.tfrec\" )\n",
    "tryds2=dataset_XY_from_TFRecord( layer_name_and_shape_list=[  (\"squeezed_layer_8\",13,13,64)  ], filename=\"XandY1.tfrec\" )\n",
    "trybatched=tryds2.batch(2)\n",
    "tryiterb= trybatched.make_one_shot_iterator()\n",
    "nextb=tryiterb.get_next()"
   ]
  },
  {
   "cell_type": "code",
   "execution_count": 232,
   "metadata": {
    "collapsed": true,
    "hidden": true
   },
   "outputs": [],
   "source": [
    "tryb = sess.run(nextb)"
   ]
  },
  {
   "cell_type": "code",
   "execution_count": 233,
   "metadata": {
    "hidden": true
   },
   "outputs": [
    {
     "name": "stdout",
     "output_type": "stream",
     "text": [
      "squeezed_layer_7 (2, 13, 13, 64)\n",
      "Y (2, 6, 1) [[[-1.00000001e-01]\n",
      "  [-3.00000012e-01]\n",
      "  [ 1.26933334e+02]\n",
      "  [ 7.65333328e+01]\n",
      "  [ 1.36266663e+02]\n",
      "  [ 4.66666679e+01]]\n",
      "\n",
      " [[-1.00000001e-01]\n",
      "  [-3.00000012e-01]\n",
      "  [ 1.26933334e+02]\n",
      "  [ 1.46533340e+02]\n",
      "  [ 1.36266663e+02]\n",
      "  [ 1.76399994e+02]]]\n"
     ]
    }
   ],
   "source": [
    "for k in tryb:\n",
    "    if len(tryb[k][0])<7:\n",
    "        print(k, tryb[k].shape, tryb[k]) \n",
    "    else:\n",
    "        print(k, tryb[k].shape)"
   ]
  },
  {
   "cell_type": "code",
   "execution_count": null,
   "metadata": {
    "collapsed": true,
    "hidden": true
   },
   "outputs": [],
   "source": []
  },
  {
   "cell_type": "code",
   "execution_count": 133,
   "metadata": {
    "collapsed": true,
    "hidden": true
   },
   "outputs": [],
   "source": [
    "tryds1=dataset_from_TFRecord( filename=\"XandY1.tfrec\" )\n",
    "tryiter1= tryds1.make_one_shot_iterator()\n",
    "next1=tryiter1.get_next()"
   ]
  },
  {
   "cell_type": "code",
   "execution_count": 134,
   "metadata": {
    "collapsed": true,
    "hidden": true
   },
   "outputs": [],
   "source": [
    "trya = sess.run(next1)"
   ]
  },
  {
   "cell_type": "code",
   "execution_count": 135,
   "metadata": {
    "hidden": true
   },
   "outputs": [
    {
     "data": {
      "text/plain": [
       "(13, 13, 64)"
      ]
     },
     "execution_count": 135,
     "metadata": {},
     "output_type": "execute_result"
    }
   ],
   "source": [
    "(trya['squeezed_layer_8']).shape"
   ]
  },
  {
   "cell_type": "code",
   "execution_count": 184,
   "metadata": {
    "collapsed": true,
    "hidden": true
   },
   "outputs": [],
   "source": [
    "tryds1=dataset_from_TFRecord( layer_name_and_shape_list=[ (\"layer_0\",111,111,64) ], filename=\"XandY1.tfrec\" )\n",
    "tryiter1= tryds1.make_one_shot_iterator()\n",
    "next1=tryiter1.get_next()"
   ]
  },
  {
   "cell_type": "code",
   "execution_count": 185,
   "metadata": {
    "collapsed": true,
    "hidden": true
   },
   "outputs": [],
   "source": [
    "trya = sess.run(next1)"
   ]
  },
  {
   "cell_type": "code",
   "execution_count": 182,
   "metadata": {
    "hidden": true
   },
   "outputs": [
    {
     "name": "stdout",
     "output_type": "stream",
     "text": [
      "angle_horiz (1,) [-0.3]\n",
      "angle_vert (1,) [-0.1]\n",
      "endx (1,) [176.4]\n",
      "endy (1,) [136.26666]\n",
      "layer_0 (111, 111, 64)\n",
      "rootx (1,) [146.53334]\n",
      "rooty (1,) [126.933334]\n"
     ]
    }
   ],
   "source": [
    "for a in trya:\n",
    "    if len(trya[a])<2:\n",
    "        print(a, trya[a].shape, trya[a]) \n",
    "    else:\n",
    "        print(a, trya[a].shape)"
   ]
  },
  {
   "cell_type": "code",
   "execution_count": null,
   "metadata": {
    "collapsed": true,
    "hidden": true
   },
   "outputs": [],
   "source": []
  },
  {
   "cell_type": "code",
   "execution_count": null,
   "metadata": {
    "collapsed": true,
    "hidden": true
   },
   "outputs": [],
   "source": []
  },
  {
   "cell_type": "code",
   "execution_count": 164,
   "metadata": {
    "hidden": true
   },
   "outputs": [
    {
     "data": {
      "text/plain": [
       "<matplotlib.image.AxesImage at 0xe2d3b562b0>"
      ]
     },
     "execution_count": 164,
     "metadata": {},
     "output_type": "execute_result"
    },
    {
     "data": {
      "image/png": "[encoded data removed]",
      "text/plain": [
       "<matplotlib.figure.Figure at 0xe2d3adc4e0>"
      ]
     },
     "metadata": {},
     "output_type": "display_data"
    }
   ],
   "source": [
    "plt.imshow(deprocess_image(trya['layer_0'][:,:,18:21]))"
   ]
  },
  {
   "cell_type": "code",
   "execution_count": null,
   "metadata": {
    "collapsed": true,
    "hidden": true
   },
   "outputs": [],
   "source": []
  },
  {
   "cell_type": "code",
   "execution_count": null,
   "metadata": {
    "collapsed": true,
    "hidden": true
   },
   "outputs": [],
   "source": []
  },
  {
   "cell_type": "code",
   "execution_count": null,
   "metadata": {
    "collapsed": true,
    "hidden": true
   },
   "outputs": [],
   "source": []
  },
  {
   "cell_type": "markdown",
   "metadata": {
    "heading_collapsed": true,
    "hidden": true
   },
   "source": [
    "## Old code"
   ]
  },
  {
   "cell_type": "markdown",
   "metadata": {
    "heading_collapsed": true,
    "hidden": true
   },
   "source": [
    "#### Compute features -original functions\n",
    "to be removed"
   ]
  },
  {
   "cell_type": "code",
   "execution_count": 26,
   "metadata": {
    "collapsed": true,
    "hidden": true
   },
   "outputs": [],
   "source": [
    "\n",
    "def cache_features(X, model,layerN=12):\n",
    "    \"\"\"\n",
    "    \"\"\"\n",
    "    res  = sess.run( model.layers[layerN], feed_dict={model.image: X})\n",
    "   # print(\"debug: shapes =\", sal_shape, sc_shape, im_shape)\n",
    "    return res\n",
    "\n",
    "def cache_squeezed_features(X, model,squeezedlayerN=7):\n",
    "    \"\"\"\n",
    "    \"\"\"\n",
    "    res  = sess.run( model.squeezed_layers[squeezedlayerN], feed_dict={model.image: X})\n",
    "    return res\n",
    "\n",
    "def cache_layers(X, model, layerN_list=[], sqeezed_layerN_list=[]):\n",
    "    tensors = [ model.layers[i] for i in layerN_list ]    +   [ model.squeezed_layers[i] for i in sqeezed_layerN_list ]\n",
    "    res  = sess.run( tensors, feed_dict={model.image: X})\n",
    "    return res\n",
    "    "
   ]
  },
  {
   "cell_type": "code",
   "execution_count": 46,
   "metadata": {
    "collapsed": true,
    "hidden": true
   },
   "outputs": [],
   "source": [
    "trycache = cache_layers( myX[:10], model, [12], sqeezed_layerN_list=[7])"
   ]
  },
  {
   "cell_type": "code",
   "execution_count": 48,
   "metadata": {
    "hidden": true
   },
   "outputs": [
    {
     "data": {
      "text/plain": [
       "[(10, 13, 13, 512), (10, 13, 13, 64)]"
      ]
     },
     "execution_count": 48,
     "metadata": {},
     "output_type": "execute_result"
    }
   ],
   "source": [
    "[ i.shape for i in trycache]"
   ]
  },
  {
   "cell_type": "code",
   "execution_count": 46,
   "metadata": {
    "collapsed": true,
    "hidden": true
   },
   "outputs": [],
   "source": [
    "#ftrs=cache_features(X,model) #13x13x512 layer\n",
    "#sftrs=cache_sqeezed_features(X,model,7) #13x13x64 layer\n",
    "#sftrs2x=cache_sqeezed_features(X,model,3) #27x27x32 layer\n",
    "#sftrs4x=cache_sqeezed_features(X,model,1) #55x55x16 layer"
   ]
  },
  {
   "cell_type": "code",
   "execution_count": 91,
   "metadata": {
    "collapsed": true,
    "hidden": true
   },
   "outputs": [],
   "source": [
    "\n",
    "def generate_XFeat_and_Y_in_memory ( inlist, Xraw, Xref,  model,  layerN_list=[], sqeezed_layerN_list=[] ):\n",
    "    \n",
    "    Ntot = len(layerN_list) + len(sqeezed_layerN_list)\n",
    "    XFeat = [[]]*Ntot\n",
    "    Y = []\n",
    "    \n",
    "    #process each record independently to minimize memory hiccups:\n",
    "    assert( len(Xref) == len(Xraw)   and   len(Xref) == len(inlist) )\n",
    "    for i in range(len(Xref)): \n",
    "        XX,YY = generate_XandY_for_single_elem(inlist[i],Xraw[i],Xref[i])\n",
    "        XXFeat = cache_layers(XX, model, layerN_list, sqeezed_layerN_list )\n",
    "        for i in range(Ntot):\n",
    "            XFeat[i].extend(XXFeat[i])\n",
    "        Y.extend(YY)\n",
    "    return XFeat,Y\n"
   ]
  },
  {
   "cell_type": "code",
   "execution_count": null,
   "metadata": {
    "collapsed": true,
    "hidden": true
   },
   "outputs": [],
   "source": [
    "trycache=generate_XFeat_and_Y_in_memory ( in_list[:2], my_Xraw[:2], my_Xref[:2],  model, [],[7])"
   ]
  },
  {
   "cell_type": "markdown",
   "metadata": {
    "hidden": true
   },
   "source": [
    "### Create/read records"
   ]
  },
  {
   "cell_type": "code",
   "execution_count": null,
   "metadata": {
    "hidden": true
   },
   "outputs": [
    {
     "name": "stdout",
     "output_type": "stream",
     "text": [
      "debug: opened writer YYY\n",
      "debug: i= 0 , generated XX\n"
     ]
    }
   ],
   "source": [
    "generate_XFeat_and_Y_TFRecord(  in_list[:2], my_Xraw[:2], my_Xref[:2],  model, [],[7], debugN=2000 )"
   ]
  },
  {
   "cell_type": "code",
   "execution_count": 19,
   "metadata": {
    "hidden": true
   },
   "outputs": [
    {
     "name": "stdout",
     "output_type": "stream",
     "text": [
      " Volume in drive C is TI10693600D\n",
      " Volume Serial Number is B401-2245\n",
      "\n",
      " Directory of C:\\Users\\Sergey\\NeuralNetworks\\fromSqueezeNet\n",
      "\n",
      "10/22/2018  10:31 PM                 0 try1.tfrec\n",
      "10/23/2018  07:25 PM            86,882 XandY.tfrec\n",
      "               2 File(s)         86,882 bytes\n",
      "               0 Dir(s)  506,684,440,576 bytes free\n"
     ]
    }
   ],
   "source": [
    "! dir *tfrec"
   ]
  },
  {
   "cell_type": "code",
   "execution_count": 28,
   "metadata": {
    "hidden": true
   },
   "outputs": [
    {
     "name": "stdout",
     "output_type": "stream",
     "text": [
      " Volume in drive C is TI10693600D\n",
      " Volume Serial Number is B401-2245\n",
      "\n",
      " Directory of C:\\Users\\Sergey\\NeuralNetworks\\fromSqueezeNet\n",
      "\n",
      "10/22/2018  10:31 PM                 0 try1.tfrec\n",
      "10/27/2018  01:25 AM         8,688,200 XandY.tfrec\n",
      "               2 File(s)      8,688,200 bytes\n",
      "               0 Dir(s)  506,683,543,552 bytes free\n"
     ]
    }
   ],
   "source": [
    "! dir *tfrec"
   ]
  },
  {
   "cell_type": "code",
   "execution_count": 139,
   "metadata": {
    "hidden": true
   },
   "outputs": [
    {
     "name": "stdout",
     "output_type": "stream",
     "text": [
      " Volume in drive C is TI10693600D\n",
      " Volume Serial Number is B401-2245\n",
      "\n",
      " Directory of C:\\Users\\Sergey\\NeuralNetworks\\fromSqueezeNet\n",
      "\n",
      "10/22/2018  10:31 PM                 0 try1.tfrec\n",
      "10/27/2018  02:23 AM        54,301,250 XandY.tfrec\n",
      "10/27/2018  05:42 PM         6,308,698 XandY1.tfrec\n",
      "               3 File(s)     60,609,948 bytes\n",
      "               0 Dir(s)  503,097,765,888 bytes free\n"
     ]
    }
   ],
   "source": [
    "! dir *tfrec"
   ]
  },
  {
   "cell_type": "code",
   "execution_count": 136,
   "metadata": {
    "collapsed": true,
    "hidden": true
   },
   "outputs": [],
   "source": [
    "## unused - version to decode images converted to ByteStrings\n",
    "#\n",
    "\n",
    "def dataset_from_TFRecordOld ( layer_name_and_shape_list=[ (\"squeezed_layer_8\",13,13,64) ],   \n",
    "                                filename=\"XandY.tfrec\" ):  #, debugN=None ):\n",
    "    \n",
    "    Ykeys = [\"angle_vert\", \"angle_horiz\", \"rooty\", \"rootx\", \"endy\", \"endx\"]\n",
    "    features1 = { name : tf.FixedLenFeature(shape=[], dtype=tf.string)  \\\n",
    "                for (name,W,H,D) in layer_name_and_shape_list }\n",
    "    features2 = { k : tf.FixedLenFeature(shape=[1], dtype=tf.float32)  \\\n",
    "                for k in Ykeys }       \n",
    "    features = { **features1, **features2 } # merge two dicts (python 3)\n",
    "    #\n",
    "    dataset = tf.data.TFRecordDataset(filename)\n",
    "    dataset = dataset.map( lambda x: tf.parse_single_example(x,features))\n",
    "    return dataset\n"
   ]
  },
  {
   "cell_type": "code",
   "execution_count": null,
   "metadata": {
    "collapsed": true,
    "hidden": true
   },
   "outputs": [],
   "source": []
  },
  {
   "cell_type": "code",
   "execution_count": null,
   "metadata": {
    "collapsed": true,
    "hidden": true
   },
   "outputs": [],
   "source": []
  },
  {
   "cell_type": "code",
   "execution_count": null,
   "metadata": {
    "collapsed": true,
    "hidden": true
   },
   "outputs": [],
   "source": []
  },
  {
   "cell_type": "code",
   "execution_count": 86,
   "metadata": {
    "collapsed": true,
    "hidden": true
   },
   "outputs": [],
   "source": [
    "#sb\n",
    "writer=tf.summary.FileWriter('.')\n",
    "writer.add_graph(tf.get_default_graph())"
   ]
  }
 ],
 "metadata": {
  "kernelspec": {
   "display_name": "Python 3",
   "language": "python",
   "name": "python3"
  },
  "language_info": {
   "codemirror_mode": {
    "name": "ipython",
    "version": 3
   },
   "file_extension": ".py",
   "mimetype": "text/x-python",
   "name": "python",
   "nbconvert_exporter": "python",
   "pygments_lexer": "ipython3",
   "version": "3.6.4"
  }
 },
 "nbformat": 4,
 "nbformat_minor": 1
}
